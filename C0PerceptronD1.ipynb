{
  "nbformat": 4,
  "nbformat_minor": 0,
  "metadata": {
    "colab": {
      "name": "PartC (Dataset 1).ipynb",
      "provenance": []
    },
    "kernelspec": {
      "name": "python3",
      "display_name": "Python 3"
    }
  },
  "cells": [
    {
      "cell_type": "code",
      "metadata": {
        "id": "5uHC_YS_sXZn",
        "colab": {
          "base_uri": "https://localhost:8080/"
        },
        "outputId": "cb2ed58a-0b3a-4d47-9fcd-52c123d3197d"
      },
      "source": [
        "from google.colab import files\n",
        "from google.colab import drive\n",
        "drive.mount('/content/gdrive')"
      ],
      "execution_count": null,
      "outputs": [
        {
          "output_type": "stream",
          "text": [
            "Drive already mounted at /content/gdrive; to attempt to forcibly remount, call drive.mount(\"/content/gdrive\", force_remount=True).\n"
          ],
          "name": "stdout"
        }
      ]
    },
    {
      "cell_type": "code",
      "metadata": {
        "id": "8Umvx0DRsdos"
      },
      "source": [
        "import pandas as pd\n",
        "import numpy as np\n",
        "import matplotlib.pyplot as plt\n",
        "import io\n",
        "from sklearn.model_selection import train_test_split\n",
        "from sklearn.svm import SVC"
      ],
      "execution_count": null,
      "outputs": []
    },
    {
      "cell_type": "code",
      "metadata": {
        "id": "YST9b0g6sd4Q"
      },
      "source": [
        "data_ = pd.read_csv('/content/gdrive/My Drive/CS5691/assignment-2/datasets/Dataset_1_Team_33.csv')"
      ],
      "execution_count": null,
      "outputs": []
    },
    {
      "cell_type": "code",
      "metadata": {
        "id": "gsz3ZR6XseBX",
        "colab": {
          "base_uri": "https://localhost:8080/"
        },
        "outputId": "000957e3-54a2-4d76-e4cf-0e4eb0d8f2a5"
      },
      "source": [
        "data_['Class_label'][data_['Class_label'] == 0] = -1\r\n",
        "\r\n",
        "data_0 = data_[data_['Class_label'] == -1]\r\n",
        "data_1 = data_[data_['Class_label'] == 1]\r\n",
        "\r\n",
        "data_0 = data_0.values\r\n",
        "data_1 = data_1.values"
      ],
      "execution_count": null,
      "outputs": [
        {
          "output_type": "stream",
          "text": [
            "/usr/local/lib/python3.6/dist-packages/ipykernel_launcher.py:1: SettingWithCopyWarning: \n",
            "A value is trying to be set on a copy of a slice from a DataFrame\n",
            "\n",
            "See the caveats in the documentation: https://pandas.pydata.org/pandas-docs/stable/user_guide/indexing.html#returning-a-view-versus-a-copy\n",
            "  \"\"\"Entry point for launching an IPython kernel.\n"
          ],
          "name": "stderr"
        }
      ]
    },
    {
      "cell_type": "code",
      "metadata": {
        "id": "EYk9cJCVttQ1"
      },
      "source": [
        "data_train, data_test = train_test_split(data_, test_size = 0.25)"
      ],
      "execution_count": null,
      "outputs": []
    },
    {
      "cell_type": "code",
      "metadata": {
        "id": "-uFtdy6JttM5"
      },
      "source": [
        "data_train = data_train.values\n",
        "data_test = data_test.values"
      ],
      "execution_count": null,
      "outputs": []
    },
    {
      "cell_type": "code",
      "metadata": {
        "id": "yjX7HDAAttJ5"
      },
      "source": [
        "x_train = data_train[:, 0:2]\n",
        "y_train = data_train[:, 2]\n",
        "\n",
        "x_test = data_test[:, 0:2]\n",
        "y_test = data_test[:, 2]"
      ],
      "execution_count": null,
      "outputs": []
    },
    {
      "cell_type": "code",
      "metadata": {
        "id": "Gd3IU7FPhzBC"
      },
      "source": [
        "y_train = y_train.reshape(-1, 1)\n",
        "y_test = y_test.reshape(-1, 1)"
      ],
      "execution_count": null,
      "outputs": []
    },
    {
      "cell_type": "code",
      "metadata": {
        "id": "qifYoYi68woK"
      },
      "source": [
        ""
      ],
      "execution_count": null,
      "outputs": []
    },
    {
      "cell_type": "code",
      "metadata": {
        "id": "cSGr22Uf8wbs"
      },
      "source": [
        "# SECTION: KERNEL PERCEPTRON IMPLEMENTATION"
      ],
      "execution_count": null,
      "outputs": []
    },
    {
      "cell_type": "code",
      "metadata": {
        "id": "ZKj8XZdHttFF"
      },
      "source": [
        "def perceptron(x_perc, y_perc, mode):\n",
        "  C = 2\n",
        "  degree = 3\n",
        "  alphas = np.zeros((x_perc.shape[0], 1))\n",
        "  if mode == 1:\n",
        "    kerMat = line_kernel(x_perc, x_perc)\n",
        "  elif mode == 2:\n",
        "    kerMat = poly_kernel(x_perc, x_perc, C, degree)\n",
        "  for i in range(x_perc.shape[0]):\n",
        "    kernel = kerMat[:, i]\n",
        "    kernel = kernel.reshape(-1, 1)\n",
        "    w = y_perc * alphas\n",
        "    y_pred = w.T @ kernel\n",
        "    if y_pred >= 0:\n",
        "      y_pred = 1\n",
        "    elif y_pred < 0:\n",
        "      y_pred = -1\n",
        "    if y_pred != y_perc[i]:\n",
        "        alphas[i] += 1\n",
        "  w_star = y_perc * alphas\n",
        "  norm_w = np.linalg.norm(w_star.T)\n",
        "  rho = np.inf\n",
        "  for i in range(x_perc.shape[0]):\n",
        "    kernel = kerMat[:, i]\n",
        "    kernel = kernel.reshape(-1, 1)\n",
        "    y_star = w_star.T @ kernel\n",
        "    val = (y_perc[i] * y_star) / norm_w\n",
        "    if val < rho:\n",
        "      rho = val\n",
        "\n",
        "  return alphas, mode, C, degree, rho"
      ],
      "execution_count": null,
      "outputs": []
    },
    {
      "cell_type": "code",
      "metadata": {
        "id": "iU5yyOTEttAK"
      },
      "source": [
        "def line_kernel(x_perc, x_eval):\n",
        "  linKer = np.zeros((x_perc.shape[0], x_eval.shape[0]))\n",
        "  for i in range(x_perc.shape[0]):\n",
        "    for j in range(x_eval.shape[0]):\n",
        "      linKer[i, j] += x_perc[i].T @ x_eval[j]\n",
        "  return linKer"
      ],
      "execution_count": null,
      "outputs": []
    },
    {
      "cell_type": "code",
      "metadata": {
        "id": "7WkcTGZatsy-"
      },
      "source": [
        "def poly_kernel(x_perc, x_eval, C, degree):\n",
        "  polKer = np.zeros((x_perc.shape[0], x_eval.shape[0]))\n",
        "  for i in range(x_perc.shape[0]):\n",
        "    for j in range(x_eval.shape[0]):\n",
        "      polKer[i, j] += (x_perc[i].T @ x_eval[j] + C)**degree\n",
        "  return polKer"
      ],
      "execution_count": null,
      "outputs": []
    },
    {
      "cell_type": "code",
      "metadata": {
        "id": "lJcPZ0BDktqS"
      },
      "source": [
        "def pred_perceptron(x_perc, w_perc, x_eval, mode, C, degree):\n",
        "  y_predict = np.zeros((x_eval.shape[0], 1))\n",
        "  if mode == 1:\n",
        "    kerMat = line_kernel(x_perc, x_eval)\n",
        "  elif mode == 2:\n",
        "    kerMat = poly_kernel(x_perc, x_eval, C, degree)\n",
        "  for i in range(x_eval.shape[0]):\n",
        "    kernel = kerMat[:, i]\n",
        "    kernel = kernel.reshape(-1, 1)\n",
        "    y_predict[i] = w_perc.T @ kernel\n",
        "    if y_predict[i] >= 0:\n",
        "      y_predict[i] = 1\n",
        "    elif y_predict[i] < 0:\n",
        "      y_predict[i] = -1\n",
        "  \n",
        "  return y_predict"
      ],
      "execution_count": null,
      "outputs": []
    },
    {
      "cell_type": "code",
      "metadata": {
        "id": "oj4-kHuakaaK"
      },
      "source": [
        "def scorePred(y_pred, y_eval):\r\n",
        "  count = 0\r\n",
        "  decount = 0\r\n",
        "  for i in range(y_eval.shape[0]):\r\n",
        "    if y_pred[i] == y_eval[i]:\r\n",
        "      count += 1\r\n",
        "    elif y_pred[i] != y_eval[i]:\r\n",
        "      decount += 1\r\n",
        "  print(count, decount)\r\n",
        "  accuracy = count / y_eval.shape[0]\r\n",
        "  incorrect = decount / y_eval.shape[0]\r\n",
        "\r\n",
        "  return accuracy, incorrect"
      ],
      "execution_count": null,
      "outputs": []
    },
    {
      "cell_type": "code",
      "metadata": {
        "id": "dtucp4gQQipV",
        "colab": {
          "base_uri": "https://localhost:8080/"
        },
        "outputId": "36fb6750-91df-4d3c-ade5-72b91a4d5ede"
      },
      "source": [
        "R = 0\n",
        "for i in range(x_train.shape[0]):\n",
        "  val = np.linalg.norm(x_train[i])\n",
        "  if val > R:\n",
        "    R = val\n",
        "R"
      ],
      "execution_count": null,
      "outputs": [
        {
          "output_type": "execute_result",
          "data": {
            "text/plain": [
              "755.4863176486025"
            ]
          },
          "metadata": {
            "tags": []
          },
          "execution_count": 15
        }
      ]
    },
    {
      "cell_type": "code",
      "metadata": {
        "id": "P58rwo_Y85gj"
      },
      "source": [
        ""
      ],
      "execution_count": null,
      "outputs": []
    },
    {
      "cell_type": "code",
      "metadata": {
        "id": "WSRL09dh85So"
      },
      "source": [
        "# LINEAR KERNEL"
      ],
      "execution_count": null,
      "outputs": []
    },
    {
      "cell_type": "code",
      "metadata": {
        "id": "52YFRV9NseFP"
      },
      "source": [
        "alphas_pred_lin, mode_pred_lin, C_pred_lin, degree_pred_lin, rho_pred_lin = perceptron(x_train, y_train, 1)\n",
        "w_pred_lin = y_train * alphas_pred_lin"
      ],
      "execution_count": null,
      "outputs": []
    },
    {
      "cell_type": "code",
      "metadata": {
        "id": "4gNVRmvHmH-h"
      },
      "source": [
        "y_trainpred_lin = pred_perceptron(x_train, w_pred_lin, x_train, mode_pred_lin, C_pred_lin, degree_pred_lin)\r\n",
        "y_pred_lin = pred_perceptron(x_train, w_pred_lin, x_test, mode_pred_lin, C_pred_lin, degree_pred_lin)"
      ],
      "execution_count": null,
      "outputs": []
    },
    {
      "cell_type": "code",
      "metadata": {
        "colab": {
          "base_uri": "https://localhost:8080/"
        },
        "id": "RzZIvIXjmHz7",
        "outputId": "506bcbba-06b6-4d5b-ed7b-f27cd25eede4"
      },
      "source": [
        "train_accu_lin, train_incorr_lin = scorePred(y_trainpred_lin, y_train) \r\n",
        "test_accu_lin, test_incorr_lin = scorePred(y_pred_lin, y_test)"
      ],
      "execution_count": null,
      "outputs": [
        {
          "output_type": "stream",
          "text": [
            "750 0\n",
            "250 0\n"
          ],
          "name": "stdout"
        }
      ]
    },
    {
      "cell_type": "code",
      "metadata": {
        "id": "iw1PDFKwTPc4",
        "colab": {
          "base_uri": "https://localhost:8080/"
        },
        "outputId": "710c4ae9-1e5d-45d2-dff1-65025064e254"
      },
      "source": [
        "print('Train accu:', train_accu_lin)\n",
        "print('Train incorr:', train_incorr_lin)\n",
        "print('Test accu:', test_accu_lin)\n",
        "print('Test incorr:', test_incorr_lin)"
      ],
      "execution_count": null,
      "outputs": [
        {
          "output_type": "stream",
          "text": [
            "Train accu: 1.0\n",
            "Train incorr: 0.0\n",
            "Test accu: 1.0\n",
            "Test incorr: 0.0\n"
          ],
          "name": "stdout"
        }
      ]
    },
    {
      "cell_type": "code",
      "metadata": {
        "id": "9pcGjTT5bSnt"
      },
      "source": [
        "ConMat = np.zeros((3,3))"
      ],
      "execution_count": null,
      "outputs": []
    },
    {
      "cell_type": "code",
      "metadata": {
        "id": "MRzkE_97kReS"
      },
      "source": [
        "for i in range(y_pred_lin.shape[0]):\n",
        "  ConMat[int(y_pred_lin[i])+1, int(y_test[i])+1] += 1"
      ],
      "execution_count": null,
      "outputs": []
    },
    {
      "cell_type": "code",
      "metadata": {
        "id": "zq74mZmrkRlu",
        "colab": {
          "base_uri": "https://localhost:8080/"
        },
        "outputId": "ed616284-e958-4b07-a863-cbb56abaa998"
      },
      "source": [
        "print('Confusion Matrix, Linear Kernel: \\n', ConMat)"
      ],
      "execution_count": null,
      "outputs": [
        {
          "output_type": "stream",
          "text": [
            "Confusion Matrix, Linear Kernel: \n",
            " [[134.   0.   0.]\n",
            " [  0.   0.   0.]\n",
            " [  0.   0. 116.]]\n"
          ],
          "name": "stdout"
        }
      ]
    },
    {
      "cell_type": "code",
      "metadata": {
        "id": "BUoJP5ovut0_",
        "colab": {
          "base_uri": "https://localhost:8080/"
        },
        "outputId": "840161af-5599-4ba4-da20-e89efa3020c0"
      },
      "source": [
        "updates = 0\n",
        "iter_updates_lin = [0]\n",
        "for alpha in alphas_pred_lin:\n",
        "  updates += alpha[0]\n",
        "  iter_updates_lin.append(updates)\n",
        "\n",
        "print('Iterations required to reach max accuracy: ', iter_updates_lin[-1])"
      ],
      "execution_count": null,
      "outputs": [
        {
          "output_type": "stream",
          "text": [
            "Iterations required to reach max accuracy:  1.0\n"
          ],
          "name": "stdout"
        }
      ]
    },
    {
      "cell_type": "code",
      "metadata": {
        "id": "fuA3sxu375Fo",
        "colab": {
          "base_uri": "https://localhost:8080/",
          "height": 428
        },
        "outputId": "c5358756-c589-43c7-b13b-956e7d9935e9"
      },
      "source": [
        "epochs = np.arange(0, x_train.shape[0]+1)\n",
        "\n",
        "plt.figure(figsize=[8, 6])\n",
        "plt.plot(iter_updates_lin, epochs, linewidth = 2)\n",
        "plt.ylabel('iterations', fontweight='bold', fontsize=16)\n",
        "plt.xlabel('updates', fontweight='bold', fontsize=16)\n",
        "plt.title('No. of Updates vs No. of Iterations, Linear Kernel, D1', fontweight='bold', fontsize=16)\n",
        "plt.savefig(\"partC1_updates_vs_iterations_lin_d1.png\")\n",
        "files.download(\"partC1_updates_vs_iterations_lin_d1.png\")"
      ],
      "execution_count": null,
      "outputs": [
        {
          "output_type": "display_data",
          "data": {
            "application/javascript": [
              "\n",
              "    async function download(id, filename, size) {\n",
              "      if (!google.colab.kernel.accessAllowed) {\n",
              "        return;\n",
              "      }\n",
              "      const div = document.createElement('div');\n",
              "      const label = document.createElement('label');\n",
              "      label.textContent = `Downloading \"${filename}\": `;\n",
              "      div.appendChild(label);\n",
              "      const progress = document.createElement('progress');\n",
              "      progress.max = size;\n",
              "      div.appendChild(progress);\n",
              "      document.body.appendChild(div);\n",
              "\n",
              "      const buffers = [];\n",
              "      let downloaded = 0;\n",
              "\n",
              "      const channel = await google.colab.kernel.comms.open(id);\n",
              "      // Send a message to notify the kernel that we're ready.\n",
              "      channel.send({})\n",
              "\n",
              "      for await (const message of channel.messages) {\n",
              "        // Send a message to notify the kernel that we're ready.\n",
              "        channel.send({})\n",
              "        if (message.buffers) {\n",
              "          for (const buffer of message.buffers) {\n",
              "            buffers.push(buffer);\n",
              "            downloaded += buffer.byteLength;\n",
              "            progress.value = downloaded;\n",
              "          }\n",
              "        }\n",
              "      }\n",
              "      const blob = new Blob(buffers, {type: 'application/binary'});\n",
              "      const a = document.createElement('a');\n",
              "      a.href = window.URL.createObjectURL(blob);\n",
              "      a.download = filename;\n",
              "      div.appendChild(a);\n",
              "      a.click();\n",
              "      div.remove();\n",
              "    }\n",
              "  "
            ],
            "text/plain": [
              "<IPython.core.display.Javascript object>"
            ]
          },
          "metadata": {
            "tags": []
          }
        },
        {
          "output_type": "display_data",
          "data": {
            "application/javascript": [
              "download(\"download_5e0a8eb7-d733-43d0-acfb-18124a32ffbf\", \"partC1_updates_vs_iterations_lin_d1.png\", 16856)"
            ],
            "text/plain": [
              "<IPython.core.display.Javascript object>"
            ]
          },
          "metadata": {
            "tags": []
          }
        },
        {
          "output_type": "display_data",
          "data": {
            "image/png": "[encoded data removed]",
            "text/plain": [
              "<Figure size 576x432 with 1 Axes>"
            ]
          },
          "metadata": {
            "tags": [],
            "needs_background": "light"
          }
        }
      ]
    },
    {
      "cell_type": "code",
      "metadata": {
        "id": "KkF-Y4FaT7md",
        "colab": {
          "base_uri": "https://localhost:8080/"
        },
        "outputId": "2b1ce8e9-e4e1-4525-e24c-237394109202"
      },
      "source": [
        "bound_lin = (R / rho_pred_lin)**2\n",
        "bound_lin"
      ],
      "execution_count": null,
      "outputs": [
        {
          "output_type": "execute_result",
          "data": {
            "text/plain": [
              "array([[3.60495845e-05]])"
            ]
          },
          "metadata": {
            "tags": []
          },
          "execution_count": 26
        }
      ]
    },
    {
      "cell_type": "code",
      "metadata": {
        "id": "fCfjdW-Q_0yq"
      },
      "source": [
        ""
      ],
      "execution_count": null,
      "outputs": []
    },
    {
      "cell_type": "code",
      "metadata": {
        "id": "Q3PCXW8f_0vp"
      },
      "source": [
        "# LINEAR KERNEL SVM USING INBUILT FUNCTION (HARD MARGIN)"
      ],
      "execution_count": null,
      "outputs": []
    },
    {
      "cell_type": "code",
      "metadata": {
        "id": "VHFR2k3WWX1V",
        "colab": {
          "base_uri": "https://localhost:8080/"
        },
        "outputId": "bef435af-cac2-4c44-bd97-1ff6ae75bb96"
      },
      "source": [
        "lin_svm = SVC(C = 1000, kernel = 'linear')\n",
        "lin_svm.fit(x_train, y_train.ravel())"
      ],
      "execution_count": null,
      "outputs": [
        {
          "output_type": "execute_result",
          "data": {
            "text/plain": [
              "SVC(C=1000, break_ties=False, cache_size=200, class_weight=None, coef0=0.0,\n",
              "    decision_function_shape='ovr', degree=3, gamma='scale', kernel='linear',\n",
              "    max_iter=-1, probability=False, random_state=None, shrinking=True,\n",
              "    tol=0.001, verbose=False)"
            ]
          },
          "metadata": {
            "tags": []
          },
          "execution_count": 28
        }
      ]
    },
    {
      "cell_type": "code",
      "metadata": {
        "id": "2HOZtk6W0Y6r",
        "colab": {
          "base_uri": "https://localhost:8080/"
        },
        "outputId": "722880b8-25cf-4eac-aa4d-37eef9d3153f"
      },
      "source": [
        "lin_svm.score(x_train, y_train)"
      ],
      "execution_count": null,
      "outputs": [
        {
          "output_type": "execute_result",
          "data": {
            "text/plain": [
              "1.0"
            ]
          },
          "metadata": {
            "tags": []
          },
          "execution_count": 29
        }
      ]
    },
    {
      "cell_type": "code",
      "metadata": {
        "id": "TP_ACVZp0Yz4",
        "colab": {
          "base_uri": "https://localhost:8080/"
        },
        "outputId": "4f6d5b2c-7496-470b-83bd-7f56c2929389"
      },
      "source": [
        "lin_svm.score(x_test, y_test)"
      ],
      "execution_count": null,
      "outputs": [
        {
          "output_type": "execute_result",
          "data": {
            "text/plain": [
              "1.0"
            ]
          },
          "metadata": {
            "tags": []
          },
          "execution_count": 30
        }
      ]
    },
    {
      "cell_type": "code",
      "metadata": {
        "id": "ZqAQ9bvqoOwU"
      },
      "source": [
        ""
      ],
      "execution_count": null,
      "outputs": []
    },
    {
      "cell_type": "code",
      "metadata": {
        "id": "kSbj4AmP9A1x"
      },
      "source": [
        "# POLYNOMIAL KERNEL, CONSTANT = 2, DEGREE = 3"
      ],
      "execution_count": null,
      "outputs": []
    },
    {
      "cell_type": "code",
      "metadata": {
        "id": "o8KIydKMkfJH"
      },
      "source": [
        "alphas_pred_pol, mode_pred_pol, C_pred_pol, degree_pred_pol, rho_pred_pol = perceptron(x_train, y_train, 2)\n",
        "w_pred_pol = y_train * alphas_pred_pol"
      ],
      "execution_count": null,
      "outputs": []
    },
    {
      "cell_type": "code",
      "metadata": {
        "id": "WDPrhMJNmU5F"
      },
      "source": [
        "y_trainpred_pol = pred_perceptron(x_train, w_pred_pol, x_train, mode_pred_pol, C_pred_pol, degree_pred_pol)\r\n",
        "y_pred_pol = pred_perceptron(x_train, w_pred_pol, x_test, mode_pred_pol, C_pred_pol, degree_pred_pol)"
      ],
      "execution_count": null,
      "outputs": []
    },
    {
      "cell_type": "code",
      "metadata": {
        "colab": {
          "base_uri": "https://localhost:8080/"
        },
        "id": "6dCCPoJ3mUyj",
        "outputId": "6c359e06-02b5-4095-bf07-c3e11984cd46"
      },
      "source": [
        "train_accu_pol, train_incorr_pol = scorePred(y_trainpred_pol, y_train)\r\n",
        "test_accu_pol, test_incorr_pol = scorePred(y_pred_pol, y_test)"
      ],
      "execution_count": null,
      "outputs": [
        {
          "output_type": "stream",
          "text": [
            "750 0\n",
            "250 0\n"
          ],
          "name": "stdout"
        }
      ]
    },
    {
      "cell_type": "code",
      "metadata": {
        "id": "9OhXjS6iggc9",
        "colab": {
          "base_uri": "https://localhost:8080/"
        },
        "outputId": "30c77f33-2879-4d89-e7c1-1a06507ec9a8"
      },
      "source": [
        "print('Train accu:', train_accu_pol)\n",
        "print('Train incorr:', train_incorr_pol)\n",
        "print('Test accu:', test_accu_pol)\n",
        "print('Test incorr:', test_incorr_pol)"
      ],
      "execution_count": null,
      "outputs": [
        {
          "output_type": "stream",
          "text": [
            "Train accu: 1.0\n",
            "Train incorr: 0.0\n",
            "Test accu: 1.0\n",
            "Test incorr: 0.0\n"
          ],
          "name": "stdout"
        }
      ]
    },
    {
      "cell_type": "code",
      "metadata": {
        "id": "_FaX8HbbAd-K"
      },
      "source": [
        "ConMat2 = np.zeros((3,3))"
      ],
      "execution_count": null,
      "outputs": []
    },
    {
      "cell_type": "code",
      "metadata": {
        "id": "PoAGHgOwAd-O"
      },
      "source": [
        "for i in range(y_pred_pol.shape[0]):\n",
        "  ConMat2[int(y_pred_pol[i])+1, int(y_test[i])+1] += 1"
      ],
      "execution_count": null,
      "outputs": []
    },
    {
      "cell_type": "code",
      "metadata": {
        "colab": {
          "base_uri": "https://localhost:8080/"
        },
        "id": "NqRLfdxJAd-S",
        "outputId": "f988f809-6a2c-456c-9a63-3fd98211d842"
      },
      "source": [
        "print('Confusion Matrix, Polynomial Kernel: \\n', ConMat2)"
      ],
      "execution_count": null,
      "outputs": [
        {
          "output_type": "stream",
          "text": [
            "Confusion Matrix, Polynomial Kernel: \n",
            " [[134.   0.   0.]\n",
            " [  0.   0.   0.]\n",
            " [  0.   0. 116.]]\n"
          ],
          "name": "stdout"
        }
      ]
    },
    {
      "cell_type": "code",
      "metadata": {
        "id": "BKaGqKirTiVI",
        "colab": {
          "base_uri": "https://localhost:8080/"
        },
        "outputId": "69386115-1b1a-44a6-90fc-47fe6b21b093"
      },
      "source": [
        "updates = 0\n",
        "iter_updates_pol = [0]\n",
        "for alpha in alphas_pred_pol:\n",
        "  updates += alpha[0]\n",
        "  iter_updates_pol.append(updates)\n",
        "\n",
        "print('Iterations required to reach max accuracy: ', iter_updates_pol[-1])"
      ],
      "execution_count": null,
      "outputs": [
        {
          "output_type": "stream",
          "text": [
            "Iterations required to reach max accuracy:  1.0\n"
          ],
          "name": "stdout"
        }
      ]
    },
    {
      "cell_type": "code",
      "metadata": {
        "id": "49kjK9hX9K5O",
        "colab": {
          "base_uri": "https://localhost:8080/",
          "height": 411
        },
        "outputId": "dccd486b-6a19-426e-f1f7-2caa5ba77182"
      },
      "source": [
        "epochs = np.arange(0, x_train.shape[0]+1)\n",
        "\n",
        "plt.figure(figsize=[8, 6])\n",
        "plt.plot(iter_updates_pol, epochs, linewidth = 2)\n",
        "plt.ylabel('iterations', fontweight='bold', fontsize=16)\n",
        "plt.xlabel('updates', fontweight='bold', fontsize=16)\n",
        "plt.title('No. of Updates vs No. of Iterations, Polynomial Kernel, D1', fontweight='bold', fontsize=16)\n",
        "plt.savefig(\"partC1_updates_vs_iterations_poly_d1.png\")\n",
        "files.download(\"partC1_updates_vs_iterations_poly_d1.png\")"
      ],
      "execution_count": null,
      "outputs": [
        {
          "output_type": "display_data",
          "data": {
            "application/javascript": [
              "\n",
              "    async function download(id, filename, size) {\n",
              "      if (!google.colab.kernel.accessAllowed) {\n",
              "        return;\n",
              "      }\n",
              "      const div = document.createElement('div');\n",
              "      const label = document.createElement('label');\n",
              "      label.textContent = `Downloading \"${filename}\": `;\n",
              "      div.appendChild(label);\n",
              "      const progress = document.createElement('progress');\n",
              "      progress.max = size;\n",
              "      div.appendChild(progress);\n",
              "      document.body.appendChild(div);\n",
              "\n",
              "      const buffers = [];\n",
              "      let downloaded = 0;\n",
              "\n",
              "      const channel = await google.colab.kernel.comms.open(id);\n",
              "      // Send a message to notify the kernel that we're ready.\n",
              "      channel.send({})\n",
              "\n",
              "      for await (const message of channel.messages) {\n",
              "        // Send a message to notify the kernel that we're ready.\n",
              "        channel.send({})\n",
              "        if (message.buffers) {\n",
              "          for (const buffer of message.buffers) {\n",
              "            buffers.push(buffer);\n",
              "            downloaded += buffer.byteLength;\n",
              "            progress.value = downloaded;\n",
              "          }\n",
              "        }\n",
              "      }\n",
              "      const blob = new Blob(buffers, {type: 'application/binary'});\n",
              "      const a = document.createElement('a');\n",
              "      a.href = window.URL.createObjectURL(blob);\n",
              "      a.download = filename;\n",
              "      div.appendChild(a);\n",
              "      a.click();\n",
              "      div.remove();\n",
              "    }\n",
              "  "
            ],
            "text/plain": [
              "<IPython.core.display.Javascript object>"
            ]
          },
          "metadata": {
            "tags": []
          }
        },
        {
          "output_type": "display_data",
          "data": {
            "application/javascript": [
              "download(\"download_f6488840-c2e2-454f-9615-92b37590bd24\", \"partC1_updates_vs_iterations_poly_d1.png\", 17344)"
            ],
            "text/plain": [
              "<IPython.core.display.Javascript object>"
            ]
          },
          "metadata": {
            "tags": []
          }
        },
        {
          "output_type": "display_data",
          "data": {
            "image/png": "[encoded data removed]",
            "text/plain": [
              "<Figure size 576x432 with 1 Axes>"
            ]
          },
          "metadata": {
            "tags": [],
            "needs_background": "light"
          }
        }
      ]
    },
    {
      "cell_type": "code",
      "metadata": {
        "id": "BWfHouK0T7WZ",
        "colab": {
          "base_uri": "https://localhost:8080/"
        },
        "outputId": "e83bb990-f78b-4cb3-f739-05d629a87a18"
      },
      "source": [
        "bound_pol = (R / rho_pred_pol)**2\n",
        "bound_pol"
      ],
      "execution_count": null,
      "outputs": [
        {
          "output_type": "execute_result",
          "data": {
            "text/plain": [
              "array([[1.43798038e-25]])"
            ]
          },
          "metadata": {
            "tags": []
          },
          "execution_count": 41
        }
      ]
    },
    {
      "cell_type": "code",
      "metadata": {
        "id": "VFqWTKxi_rha"
      },
      "source": [
        ""
      ],
      "execution_count": null,
      "outputs": []
    },
    {
      "cell_type": "code",
      "metadata": {
        "id": "9Tl8hDh8_rWr"
      },
      "source": [
        "# POLYNOMIAL KERNEL SVM USING INBUILT FUNCTION (HARD MARGIN)"
      ],
      "execution_count": null,
      "outputs": []
    },
    {
      "cell_type": "code",
      "metadata": {
        "id": "R16BMTQcWX3D",
        "colab": {
          "base_uri": "https://localhost:8080/"
        },
        "outputId": "3783ce17-27e1-4f3a-a542-2511c9c98fc4"
      },
      "source": [
        "pol_svm = SVC(C = 1000, kernel = 'poly', degree = 3, coef0 = 2)\n",
        "pol_svm.fit(x_train, y_train.ravel())"
      ],
      "execution_count": null,
      "outputs": [
        {
          "output_type": "execute_result",
          "data": {
            "text/plain": [
              "SVC(C=1000, break_ties=False, cache_size=200, class_weight=None, coef0=2,\n",
              "    decision_function_shape='ovr', degree=3, gamma='scale', kernel='poly',\n",
              "    max_iter=-1, probability=False, random_state=None, shrinking=True,\n",
              "    tol=0.001, verbose=False)"
            ]
          },
          "metadata": {
            "tags": []
          },
          "execution_count": 43
        }
      ]
    },
    {
      "cell_type": "code",
      "metadata": {
        "id": "b4hzpqDV0PlF",
        "colab": {
          "base_uri": "https://localhost:8080/"
        },
        "outputId": "d99ddf36-94da-491b-9795-0c71e59e4cd4"
      },
      "source": [
        "pol_svm.score(x_train, y_train)"
      ],
      "execution_count": null,
      "outputs": [
        {
          "output_type": "execute_result",
          "data": {
            "text/plain": [
              "1.0"
            ]
          },
          "metadata": {
            "tags": []
          },
          "execution_count": 44
        }
      ]
    },
    {
      "cell_type": "code",
      "metadata": {
        "id": "3C6ThozR0PgR",
        "colab": {
          "base_uri": "https://localhost:8080/"
        },
        "outputId": "976555c6-2f46-4d8b-c447-dd10d0d34a99"
      },
      "source": [
        "pol_svm.score(x_test, y_test)"
      ],
      "execution_count": null,
      "outputs": [
        {
          "output_type": "execute_result",
          "data": {
            "text/plain": [
              "1.0"
            ]
          },
          "metadata": {
            "tags": []
          },
          "execution_count": 45
        }
      ]
    },
    {
      "cell_type": "code",
      "metadata": {
        "id": "65UMir9KsQz1"
      },
      "source": [
        ""
      ],
      "execution_count": null,
      "outputs": []
    },
    {
      "cell_type": "code",
      "metadata": {
        "id": "o6WTVFTiWXu1"
      },
      "source": [
        "X1 = np.linspace(-400, 600, 100) # -400, 600, 100 for dataset 1; -1.25, 1.25, 100 for dataset 3\r\n",
        "X2 = np.linspace(-250, 750, 100) # -250, 750, 100 for dataset 1; -1.25, 1.25, 100 for dataset 3\r\n",
        "X1, X2 = np.meshgrid(X1, X2)\r\n",
        "TempMat = np.zeros((X1.shape[0]**2, 2))\r\n",
        "TempMat[:, 0], TempMat[:, 1] = X1.reshape(X1.shape[0]**2), X2.reshape(X2.shape[0]**2)"
      ],
      "execution_count": null,
      "outputs": []
    },
    {
      "cell_type": "code",
      "metadata": {
        "id": "sTI7nObqWXla"
      },
      "source": [
        "DecSurf_lin = pred_perceptron(x_train, w_pred_lin, TempMat, mode_pred_lin, C_pred_lin, degree_pred_lin)\r\n",
        "\r\n",
        "DecSurf_lin = DecSurf_lin.reshape(X1.shape[0], X2.shape[1])"
      ],
      "execution_count": null,
      "outputs": []
    },
    {
      "cell_type": "code",
      "metadata": {
        "id": "SKpdwjfcT7JO",
        "colab": {
          "base_uri": "https://localhost:8080/",
          "height": 411
        },
        "outputId": "44401157-94eb-4d23-dda7-38b20a228d69"
      },
      "source": [
        "plt.figure(2, figsize = [8, 6])\r\n",
        "plt.contourf(X1, X2, DecSurf_lin)\r\n",
        "scatter_0 = plt.scatter(data_0[:, 0], data_0[:, 1], color = 'red', label = 'Class label 0')\r\n",
        "scatter_1 = plt.scatter(data_1[:, 0], data_1[:, 1], color = 'blue', label = 'Class label 1')\r\n",
        "plt.xlabel('Input Feature X1', fontweight='bold', fontsize=16)\r\n",
        "plt.ylabel('Input Feature X2', fontweight='bold', fontsize=16)\r\n",
        "plt.legend(handles = [scatter_0, scatter_1], loc = 'lower left')\r\n",
        "plt.title('Decision Boundary, Linear Kernel (Dataset 1)', fontweight='bold', fontsize=16)\r\n",
        "plt.savefig(\"partC1_decision_bound_linear.png\")\r\n",
        "files.download(\"partC1_decision_bound_linear.png\")"
      ],
      "execution_count": null,
      "outputs": [
        {
          "output_type": "display_data",
          "data": {
            "application/javascript": [
              "\n",
              "    async function download(id, filename, size) {\n",
              "      if (!google.colab.kernel.accessAllowed) {\n",
              "        return;\n",
              "      }\n",
              "      const div = document.createElement('div');\n",
              "      const label = document.createElement('label');\n",
              "      label.textContent = `Downloading \"${filename}\": `;\n",
              "      div.appendChild(label);\n",
              "      const progress = document.createElement('progress');\n",
              "      progress.max = size;\n",
              "      div.appendChild(progress);\n",
              "      document.body.appendChild(div);\n",
              "\n",
              "      const buffers = [];\n",
              "      let downloaded = 0;\n",
              "\n",
              "      const channel = await google.colab.kernel.comms.open(id);\n",
              "      // Send a message to notify the kernel that we're ready.\n",
              "      channel.send({})\n",
              "\n",
              "      for await (const message of channel.messages) {\n",
              "        // Send a message to notify the kernel that we're ready.\n",
              "        channel.send({})\n",
              "        if (message.buffers) {\n",
              "          for (const buffer of message.buffers) {\n",
              "            buffers.push(buffer);\n",
              "            downloaded += buffer.byteLength;\n",
              "            progress.value = downloaded;\n",
              "          }\n",
              "        }\n",
              "      }\n",
              "      const blob = new Blob(buffers, {type: 'application/binary'});\n",
              "      const a = document.createElement('a');\n",
              "      a.href = window.URL.createObjectURL(blob);\n",
              "      a.download = filename;\n",
              "      div.appendChild(a);\n",
              "      a.click();\n",
              "      div.remove();\n",
              "    }\n",
              "  "
            ],
            "text/plain": [
              "<IPython.core.display.Javascript object>"
            ]
          },
          "metadata": {
            "tags": []
          }
        },
        {
          "output_type": "display_data",
          "data": {
            "application/javascript": [
              "download(\"download_8620465c-f8e9-4ff4-890d-58e8997dca53\", \"partC1_decision_bound_linear.png\", 28345)"
            ],
            "text/plain": [
              "<IPython.core.display.Javascript object>"
            ]
          },
          "metadata": {
            "tags": []
          }
        },
        {
          "output_type": "display_data",
          "data": {
            "image/png": "[encoded data removed]",
            "text/plain": [
              "<Figure size 576x432 with 1 Axes>"
            ]
          },
          "metadata": {
            "tags": [],
            "needs_background": "light"
          }
        }
      ]
    },
    {
      "cell_type": "code",
      "metadata": {
        "id": "1Ah8I2m79Twh"
      },
      "source": [
        "DecSurf_pol = pred_perceptron(x_train, w_pred_pol, TempMat, mode_pred_pol, C_pred_pol, degree_pred_pol)\r\n",
        "\r\n",
        "DecSurf_pol = DecSurf_pol.reshape(X1.shape[0], X2.shape[1])"
      ],
      "execution_count": null,
      "outputs": []
    },
    {
      "cell_type": "code",
      "metadata": {
        "colab": {
          "base_uri": "https://localhost:8080/",
          "height": 411
        },
        "id": "BDNg2osVuZWL",
        "outputId": "b796c465-a686-4489-dd8c-75a516b39287"
      },
      "source": [
        "plt.figure(2, figsize = [8, 6])\r\n",
        "plt.contourf(X1, X2, DecSurf_pol)\r\n",
        "scatter_0 = plt.scatter(data_0[:, 0], data_0[:, 1], color = 'red', label = 'Class label 0')\r\n",
        "scatter_1 = plt.scatter(data_1[:, 0], data_1[:, 1], color = 'blue', label = 'Class label 1')\r\n",
        "plt.xlabel('Input Feature X1', fontweight='bold', fontsize=16)\r\n",
        "plt.ylabel('Input Feature X2', fontweight='bold', fontsize=16)\r\n",
        "plt.legend(handles = [scatter_0, scatter_1], loc = 'lower left')\r\n",
        "plt.title('Decision Boundary, Polynomial Kernel (Dataset 1)', fontweight='bold', fontsize=16)\r\n",
        "plt.savefig(\"partC1_decision_bound_poly.png\")\r\n",
        "files.download(\"partC1_decision_bound_poly.png\")"
      ],
      "execution_count": null,
      "outputs": [
        {
          "output_type": "display_data",
          "data": {
            "application/javascript": [
              "\n",
              "    async function download(id, filename, size) {\n",
              "      if (!google.colab.kernel.accessAllowed) {\n",
              "        return;\n",
              "      }\n",
              "      const div = document.createElement('div');\n",
              "      const label = document.createElement('label');\n",
              "      label.textContent = `Downloading \"${filename}\": `;\n",
              "      div.appendChild(label);\n",
              "      const progress = document.createElement('progress');\n",
              "      progress.max = size;\n",
              "      div.appendChild(progress);\n",
              "      document.body.appendChild(div);\n",
              "\n",
              "      const buffers = [];\n",
              "      let downloaded = 0;\n",
              "\n",
              "      const channel = await google.colab.kernel.comms.open(id);\n",
              "      // Send a message to notify the kernel that we're ready.\n",
              "      channel.send({})\n",
              "\n",
              "      for await (const message of channel.messages) {\n",
              "        // Send a message to notify the kernel that we're ready.\n",
              "        channel.send({})\n",
              "        if (message.buffers) {\n",
              "          for (const buffer of message.buffers) {\n",
              "            buffers.push(buffer);\n",
              "            downloaded += buffer.byteLength;\n",
              "            progress.value = downloaded;\n",
              "          }\n",
              "        }\n",
              "      }\n",
              "      const blob = new Blob(buffers, {type: 'application/binary'});\n",
              "      const a = document.createElement('a');\n",
              "      a.href = window.URL.createObjectURL(blob);\n",
              "      a.download = filename;\n",
              "      div.appendChild(a);\n",
              "      a.click();\n",
              "      div.remove();\n",
              "    }\n",
              "  "
            ],
            "text/plain": [
              "<IPython.core.display.Javascript object>"
            ]
          },
          "metadata": {
            "tags": []
          }
        },
        {
          "output_type": "display_data",
          "data": {
            "application/javascript": [
              "download(\"download_8fb339fa-21ce-4b0f-8d82-aab127461c7d\", \"partC1_decision_bound_poly.png\", 28636)"
            ],
            "text/plain": [
              "<IPython.core.display.Javascript object>"
            ]
          },
          "metadata": {
            "tags": []
          }
        },
        {
          "output_type": "display_data",
          "data": {
            "image/png": "[encoded data removed]",
            "text/plain": [
              "<Figure size 576x432 with 1 Axes>"
            ]
          },
          "metadata": {
            "tags": [],
            "needs_background": "light"
          }
        }
      ]
    },
    {
      "cell_type": "code",
      "metadata": {
        "id": "WqrU9HP0uZKb"
      },
      "source": [
        ""
      ],
      "execution_count": null,
      "outputs": []
    },
    {
      "cell_type": "code",
      "metadata": {
        "id": "XO0bCNJjuY_y"
      },
      "source": [
        ""
      ],
      "execution_count": null,
      "outputs": []
    }
  ]
}