{
  "nbformat": 4,
  "nbformat_minor": 0,
  "metadata": {
    "colab": {
      "name": "PartC (Dataset 3).ipynb",
      "provenance": []
    },
    "kernelspec": {
      "name": "python3",
      "display_name": "Python 3"
    }
  },
  "cells": [
    {
      "cell_type": "code",
      "metadata": {
        "id": "5uHC_YS_sXZn",
        "colab": {
          "base_uri": "https://localhost:8080/"
        },
        "outputId": "b5a679b1-74dc-470b-be04-2d49f86e3c25"
      },
      "source": [
        "from google.colab import files\n",
        "from google.colab import drive\n",
        "drive.mount('/content/gdrive')"
      ],
      "execution_count": null,
      "outputs": [
        {
          "output_type": "stream",
          "text": [
            "Drive already mounted at /content/gdrive; to attempt to forcibly remount, call drive.mount(\"/content/gdrive\", force_remount=True).\n"
          ],
          "name": "stdout"
        }
      ]
    },
    {
      "cell_type": "code",
      "metadata": {
        "id": "8Umvx0DRsdos"
      },
      "source": [
        "import pandas as pd\n",
        "import numpy as np\n",
        "import matplotlib.pyplot as plt\n",
        "import io\n",
        "from sklearn.model_selection import train_test_split\n",
        "from sklearn.svm import SVC"
      ],
      "execution_count": null,
      "outputs": []
    },
    {
      "cell_type": "code",
      "metadata": {
        "id": "YST9b0g6sd4Q"
      },
      "source": [
        "data_ = pd.read_csv('/content/gdrive/My Drive/CS5691/assignment-2/datasets/Dataset_3_Team_33.csv')"
      ],
      "execution_count": null,
      "outputs": []
    },
    {
      "cell_type": "code",
      "metadata": {
        "id": "gsz3ZR6XseBX",
        "colab": {
          "base_uri": "https://localhost:8080/"
        },
        "outputId": "2c9efc05-6700-49e1-e986-bf5b0efa8637"
      },
      "source": [
        "data_['Class_label'][data_['Class_label'] == 0] = -1\r\n",
        "\r\n",
        "data_0 = data_[data_['Class_label'] == -1]\r\n",
        "data_1 = data_[data_['Class_label'] == 1]\r\n",
        "\r\n",
        "data_0 = data_0.values\r\n",
        "data_1 = data_1.values"
      ],
      "execution_count": null,
      "outputs": [
        {
          "output_type": "stream",
          "text": [
            "/usr/local/lib/python3.6/dist-packages/ipykernel_launcher.py:1: SettingWithCopyWarning: \n",
            "A value is trying to be set on a copy of a slice from a DataFrame\n",
            "\n",
            "See the caveats in the documentation: https://pandas.pydata.org/pandas-docs/stable/user_guide/indexing.html#returning-a-view-versus-a-copy\n",
            "  \"\"\"Entry point for launching an IPython kernel.\n"
          ],
          "name": "stderr"
        }
      ]
    },
    {
      "cell_type": "code",
      "metadata": {
        "id": "EYk9cJCVttQ1"
      },
      "source": [
        "data_train, data_test = train_test_split(data_, test_size = 0.25)"
      ],
      "execution_count": null,
      "outputs": []
    },
    {
      "cell_type": "code",
      "metadata": {
        "id": "-uFtdy6JttM5"
      },
      "source": [
        "data_train = data_train.values\n",
        "data_test = data_test.values"
      ],
      "execution_count": null,
      "outputs": []
    },
    {
      "cell_type": "code",
      "metadata": {
        "id": "yjX7HDAAttJ5"
      },
      "source": [
        "x_train = data_train[:, 0:2]\n",
        "y_train = data_train[:, 2]\n",
        "\n",
        "x_test = data_test[:, 0:2]\n",
        "y_test = data_test[:, 2]"
      ],
      "execution_count": null,
      "outputs": []
    },
    {
      "cell_type": "code",
      "metadata": {
        "id": "Gd3IU7FPhzBC"
      },
      "source": [
        "y_train = y_train.reshape(-1, 1)\n",
        "y_test = y_test.reshape(-1, 1)"
      ],
      "execution_count": null,
      "outputs": []
    },
    {
      "cell_type": "code",
      "metadata": {
        "id": "qifYoYi68woK"
      },
      "source": [
        ""
      ],
      "execution_count": null,
      "outputs": []
    },
    {
      "cell_type": "code",
      "metadata": {
        "id": "cSGr22Uf8wbs"
      },
      "source": [
        "# SECTION: KERNEL PERCEPTRON IMPLEMENTATION"
      ],
      "execution_count": null,
      "outputs": []
    },
    {
      "cell_type": "code",
      "metadata": {
        "id": "ZKj8XZdHttFF"
      },
      "source": [
        "def perceptron(x_perc, y_perc, mode):\n",
        "  C = 2\n",
        "  degree = 3\n",
        "  alphas = np.zeros((x_perc.shape[0], 1))\n",
        "  if mode == 1:\n",
        "    kerMat = line_kernel(x_perc, x_perc)\n",
        "  elif mode == 2:\n",
        "    kerMat = poly_kernel(x_perc, x_perc, C, degree)\n",
        "  for i in range(x_perc.shape[0]):\n",
        "    kernel = kerMat[:, i]\n",
        "    kernel = kernel.reshape(-1, 1)\n",
        "    w = y_perc * alphas\n",
        "    y_pred = w.T @ kernel\n",
        "    if y_pred >= 0:\n",
        "      y_pred = 1\n",
        "    elif y_pred < 0:\n",
        "      y_pred = -1\n",
        "    if y_pred != y_perc[i]:\n",
        "        alphas[i] += 1\n",
        "  w_star = y_perc * alphas\n",
        "  norm_w = np.linalg.norm(w_star.T)\n",
        "  rho = np.inf\n",
        "  for i in range(x_perc.shape[0]):\n",
        "    kernel = kerMat[:, i]\n",
        "    kernel = kernel.reshape(-1, 1)\n",
        "    y_star = w_star.T @ kernel\n",
        "    val = (y_perc[i] * y_star) / norm_w\n",
        "    if val < rho:\n",
        "      rho = val\n",
        "\n",
        "  return alphas, mode, C, degree, rho"
      ],
      "execution_count": null,
      "outputs": []
    },
    {
      "cell_type": "code",
      "metadata": {
        "id": "iU5yyOTEttAK"
      },
      "source": [
        "def line_kernel(x_perc, x_eval):\n",
        "  linKer = np.zeros((x_perc.shape[0], x_eval.shape[0]))\n",
        "  for i in range(x_perc.shape[0]):\n",
        "    for j in range(x_eval.shape[0]):\n",
        "      linKer[i, j] += x_perc[i].T @ x_eval[j]\n",
        "  return linKer"
      ],
      "execution_count": null,
      "outputs": []
    },
    {
      "cell_type": "code",
      "metadata": {
        "id": "7WkcTGZatsy-"
      },
      "source": [
        "def poly_kernel(x_perc, x_eval, C, degree):\n",
        "  polKer = np.zeros((x_perc.shape[0], x_eval.shape[0]))\n",
        "  for i in range(x_perc.shape[0]):\n",
        "    for j in range(x_eval.shape[0]):\n",
        "      polKer[i, j] += (x_perc[i].T @ x_eval[j] + C)**degree\n",
        "  return polKer"
      ],
      "execution_count": null,
      "outputs": []
    },
    {
      "cell_type": "code",
      "metadata": {
        "id": "lJcPZ0BDktqS"
      },
      "source": [
        "def pred_perceptron(x_perc, w_perc, x_eval, mode, C, degree):\n",
        "  y_predict = np.zeros((x_eval.shape[0], 1))\n",
        "  if mode == 1:\n",
        "    kerMat = line_kernel(x_perc, x_eval)\n",
        "  elif mode == 2:\n",
        "    kerMat = poly_kernel(x_perc, x_eval, C, degree)\n",
        "  for i in range(x_eval.shape[0]):\n",
        "    kernel = kerMat[:, i]\n",
        "    kernel = kernel.reshape(-1, 1)\n",
        "    y_predict[i] = w_perc.T @ kernel\n",
        "    if y_predict[i] >= 0:\n",
        "      y_predict[i] = 1\n",
        "    elif y_predict[i] < 0:\n",
        "      y_predict[i] = -1\n",
        "  \n",
        "  return y_predict"
      ],
      "execution_count": null,
      "outputs": []
    },
    {
      "cell_type": "code",
      "metadata": {
        "id": "oj4-kHuakaaK"
      },
      "source": [
        "def scorePred(y_pred, y_eval):\r\n",
        "  count = 0\r\n",
        "  decount = 0\r\n",
        "  for i in range(y_eval.shape[0]):\r\n",
        "    if y_pred[i] == y_eval[i]:\r\n",
        "      count += 1\r\n",
        "    elif y_pred[i] != y_eval[i]:\r\n",
        "      decount += 1\r\n",
        "  print(count, decount)\r\n",
        "  accuracy = count / y_eval.shape[0]\r\n",
        "  incorrect = decount / y_eval.shape[0]\r\n",
        "\r\n",
        "  return accuracy, incorrect"
      ],
      "execution_count": null,
      "outputs": []
    },
    {
      "cell_type": "code",
      "metadata": {
        "id": "dtucp4gQQipV",
        "colab": {
          "base_uri": "https://localhost:8080/"
        },
        "outputId": "04bd4148-4451-40aa-9e08-a011d69ade23"
      },
      "source": [
        "R = 0\n",
        "for i in range(x_train.shape[0]):\n",
        "  val = np.linalg.norm(x_train[i])\n",
        "  if val > R:\n",
        "    R = val\n",
        "R"
      ],
      "execution_count": null,
      "outputs": [
        {
          "output_type": "execute_result",
          "data": {
            "text/plain": [
              "1.2471366880469414"
            ]
          },
          "metadata": {
            "tags": []
          },
          "execution_count": 15
        }
      ]
    },
    {
      "cell_type": "code",
      "metadata": {
        "id": "P58rwo_Y85gj"
      },
      "source": [
        ""
      ],
      "execution_count": null,
      "outputs": []
    },
    {
      "cell_type": "code",
      "metadata": {
        "id": "WSRL09dh85So"
      },
      "source": [
        "# LINEAR KERNEL"
      ],
      "execution_count": null,
      "outputs": []
    },
    {
      "cell_type": "code",
      "metadata": {
        "id": "52YFRV9NseFP"
      },
      "source": [
        "alphas_pred_lin, mode_pred_lin, C_pred_lin, degree_pred_lin, rho_pred_lin = perceptron(x_train, y_train, 1)\n",
        "w_pred_lin = y_train * alphas_pred_lin"
      ],
      "execution_count": null,
      "outputs": []
    },
    {
      "cell_type": "code",
      "metadata": {
        "id": "4gNVRmvHmH-h"
      },
      "source": [
        "y_trainpred_lin = pred_perceptron(x_train, w_pred_lin, x_train, mode_pred_lin, C_pred_lin, degree_pred_lin)\r\n",
        "y_pred_lin = pred_perceptron(x_train, w_pred_lin, x_test, mode_pred_lin, C_pred_lin, degree_pred_lin)"
      ],
      "execution_count": null,
      "outputs": []
    },
    {
      "cell_type": "code",
      "metadata": {
        "colab": {
          "base_uri": "https://localhost:8080/"
        },
        "id": "RzZIvIXjmHz7",
        "outputId": "d2769bd3-05b4-4b03-c98c-40b702ed6faf"
      },
      "source": [
        "train_accu_lin, train_incorr_lin = scorePred(y_trainpred_lin, y_train) \r\n",
        "test_accu_lin, test_incorr_lin = scorePred(y_pred_lin, y_test)"
      ],
      "execution_count": null,
      "outputs": [
        {
          "output_type": "stream",
          "text": [
            "364 386\n",
            "133 117\n"
          ],
          "name": "stdout"
        }
      ]
    },
    {
      "cell_type": "code",
      "metadata": {
        "id": "iw1PDFKwTPc4",
        "colab": {
          "base_uri": "https://localhost:8080/"
        },
        "outputId": "2ed1ee13-ae33-474b-e566-be4f86c4692b"
      },
      "source": [
        "print('Train accu:', train_accu_lin)\n",
        "print('Train incorr:', train_incorr_lin)\n",
        "print('Test accu:', test_accu_lin)\n",
        "print('Test incorr:', test_incorr_lin)"
      ],
      "execution_count": null,
      "outputs": [
        {
          "output_type": "stream",
          "text": [
            "Train accu: 0.48533333333333334\n",
            "Train incorr: 0.5146666666666667\n",
            "Test accu: 0.532\n",
            "Test incorr: 0.468\n"
          ],
          "name": "stdout"
        }
      ]
    },
    {
      "cell_type": "code",
      "metadata": {
        "id": "9pcGjTT5bSnt"
      },
      "source": [
        "ConMat = np.zeros((3,3))"
      ],
      "execution_count": null,
      "outputs": []
    },
    {
      "cell_type": "code",
      "metadata": {
        "id": "MRzkE_97kReS"
      },
      "source": [
        "for i in range(y_pred_lin.shape[0]):\n",
        "  ConMat[int(y_pred_lin[i])+1, int(y_test[i])+1] += 1"
      ],
      "execution_count": null,
      "outputs": []
    },
    {
      "cell_type": "code",
      "metadata": {
        "id": "zq74mZmrkRlu",
        "colab": {
          "base_uri": "https://localhost:8080/"
        },
        "outputId": "50c7d31e-71ed-49ca-ff51-03b92565d00d"
      },
      "source": [
        "print('Confusion Matrix, Linear Kernel: \\n', ConMat)"
      ],
      "execution_count": null,
      "outputs": [
        {
          "output_type": "stream",
          "text": [
            "Confusion Matrix, Linear Kernel: \n",
            " [[59.  0. 50.]\n",
            " [ 0.  0.  0.]\n",
            " [67.  0. 74.]]\n"
          ],
          "name": "stdout"
        }
      ]
    },
    {
      "cell_type": "code",
      "metadata": {
        "id": "BUoJP5ovut0_",
        "colab": {
          "base_uri": "https://localhost:8080/"
        },
        "outputId": "3de06c73-c5a2-4a5e-cb81-13c39c1e3150"
      },
      "source": [
        "updates = 0\n",
        "iter_updates_lin = [0]\n",
        "for alpha in alphas_pred_lin:\n",
        "  updates += alpha[0]\n",
        "  iter_updates_lin.append(updates)\n",
        "\n",
        "print('Updates required to reach max accuracy: ', iter_updates_lin[-1])"
      ],
      "execution_count": null,
      "outputs": [
        {
          "output_type": "stream",
          "text": [
            "Updates required to reach max accuracy:  370.0\n"
          ],
          "name": "stdout"
        }
      ]
    },
    {
      "cell_type": "code",
      "metadata": {
        "id": "fuA3sxu375Fo",
        "colab": {
          "base_uri": "https://localhost:8080/",
          "height": 411
        },
        "outputId": "6967eb78-0d9b-45c4-c6f8-ed3fcc89b50b"
      },
      "source": [
        "epochs = np.arange(0, x_train.shape[0]+1)\n",
        "\n",
        "plt.figure(figsize=[8, 6])\n",
        "plt.plot(iter_updates_lin, epochs, linewidth = 2)\n",
        "plt.ylabel('iterations', fontweight='bold', fontsize=16)\n",
        "plt.xlabel('updates', fontweight='bold', fontsize=16)\n",
        "plt.title('No. of Updates vs No. of Iterations, Linear Kernel, D3', fontweight='bold', fontsize=16)\n",
        "plt.savefig(\"partC2_updates_vs_iterations_lin_d3.png\")\n",
        "files.download(\"partC2_updates_vs_iterations_lin_d3.png\")"
      ],
      "execution_count": null,
      "outputs": [
        {
          "output_type": "display_data",
          "data": {
            "application/javascript": [
              "\n",
              "    async function download(id, filename, size) {\n",
              "      if (!google.colab.kernel.accessAllowed) {\n",
              "        return;\n",
              "      }\n",
              "      const div = document.createElement('div');\n",
              "      const label = document.createElement('label');\n",
              "      label.textContent = `Downloading \"${filename}\": `;\n",
              "      div.appendChild(label);\n",
              "      const progress = document.createElement('progress');\n",
              "      progress.max = size;\n",
              "      div.appendChild(progress);\n",
              "      document.body.appendChild(div);\n",
              "\n",
              "      const buffers = [];\n",
              "      let downloaded = 0;\n",
              "\n",
              "      const channel = await google.colab.kernel.comms.open(id);\n",
              "      // Send a message to notify the kernel that we're ready.\n",
              "      channel.send({})\n",
              "\n",
              "      for await (const message of channel.messages) {\n",
              "        // Send a message to notify the kernel that we're ready.\n",
              "        channel.send({})\n",
              "        if (message.buffers) {\n",
              "          for (const buffer of message.buffers) {\n",
              "            buffers.push(buffer);\n",
              "            downloaded += buffer.byteLength;\n",
              "            progress.value = downloaded;\n",
              "          }\n",
              "        }\n",
              "      }\n",
              "      const blob = new Blob(buffers, {type: 'application/binary'});\n",
              "      const a = document.createElement('a');\n",
              "      a.href = window.URL.createObjectURL(blob);\n",
              "      a.download = filename;\n",
              "      div.appendChild(a);\n",
              "      a.click();\n",
              "      div.remove();\n",
              "    }\n",
              "  "
            ],
            "text/plain": [
              "<IPython.core.display.Javascript object>"
            ]
          },
          "metadata": {
            "tags": []
          }
        },
        {
          "output_type": "display_data",
          "data": {
            "application/javascript": [
              "download(\"download_d2e9a0df-09f2-4b56-9dab-8bbcb82421bd\", \"partC2_updates_vs_iterations_lin_d3.png\", 24200)"
            ],
            "text/plain": [
              "<IPython.core.display.Javascript object>"
            ]
          },
          "metadata": {
            "tags": []
          }
        },
        {
          "output_type": "display_data",
          "data": {
            "image/png": "[encoded data removed]",
            "text/plain": [
              "<Figure size 576x432 with 1 Axes>"
            ]
          },
          "metadata": {
            "tags": [],
            "needs_background": "light"
          }
        }
      ]
    },
    {
      "cell_type": "code",
      "metadata": {
        "id": "KkF-Y4FaT7md",
        "colab": {
          "base_uri": "https://localhost:8080/"
        },
        "outputId": "5817880f-8ed1-45da-c007-10f3caa83f01"
      },
      "source": [
        "bound_lin = (R / rho_pred_lin)**2\n",
        "bound_lin"
      ],
      "execution_count": null,
      "outputs": [
        {
          "output_type": "execute_result",
          "data": {
            "text/plain": [
              "array([[517.7256721]])"
            ]
          },
          "metadata": {
            "tags": []
          },
          "execution_count": 26
        }
      ]
    },
    {
      "cell_type": "code",
      "metadata": {
        "id": "fCfjdW-Q_0yq"
      },
      "source": [
        ""
      ],
      "execution_count": null,
      "outputs": []
    },
    {
      "cell_type": "code",
      "metadata": {
        "id": "Q3PCXW8f_0vp"
      },
      "source": [
        "# LINEAR KERNEL SVM USING INBUILT FUNCTION (HARD MARGIN)"
      ],
      "execution_count": null,
      "outputs": []
    },
    {
      "cell_type": "code",
      "metadata": {
        "id": "VHFR2k3WWX1V",
        "colab": {
          "base_uri": "https://localhost:8080/"
        },
        "outputId": "bc00a205-e4c5-4724-8d6e-90e7caafce56"
      },
      "source": [
        "lin_svm = SVC(C = 1000, kernel = 'linear')\n",
        "lin_svm.fit(x_train, y_train.ravel())"
      ],
      "execution_count": null,
      "outputs": [
        {
          "output_type": "execute_result",
          "data": {
            "text/plain": [
              "SVC(C=1000, break_ties=False, cache_size=200, class_weight=None, coef0=0.0,\n",
              "    decision_function_shape='ovr', degree=3, gamma='scale', kernel='linear',\n",
              "    max_iter=-1, probability=False, random_state=None, shrinking=True,\n",
              "    tol=0.001, verbose=False)"
            ]
          },
          "metadata": {
            "tags": []
          },
          "execution_count": 28
        }
      ]
    },
    {
      "cell_type": "code",
      "metadata": {
        "id": "2HOZtk6W0Y6r",
        "colab": {
          "base_uri": "https://localhost:8080/"
        },
        "outputId": "09592e79-7fed-4893-aca3-51c84a3907d3"
      },
      "source": [
        "lin_svm.score(x_train, y_train)"
      ],
      "execution_count": null,
      "outputs": [
        {
          "output_type": "execute_result",
          "data": {
            "text/plain": [
              "0.5226666666666666"
            ]
          },
          "metadata": {
            "tags": []
          },
          "execution_count": 29
        }
      ]
    },
    {
      "cell_type": "code",
      "metadata": {
        "id": "TP_ACVZp0Yz4",
        "colab": {
          "base_uri": "https://localhost:8080/"
        },
        "outputId": "e776c59c-8738-49ed-bde4-45921397d79a"
      },
      "source": [
        "lin_svm.score(x_test, y_test)"
      ],
      "execution_count": null,
      "outputs": [
        {
          "output_type": "execute_result",
          "data": {
            "text/plain": [
              "0.512"
            ]
          },
          "metadata": {
            "tags": []
          },
          "execution_count": 30
        }
      ]
    },
    {
      "cell_type": "code",
      "metadata": {
        "id": "ZqAQ9bvqoOwU"
      },
      "source": [
        ""
      ],
      "execution_count": null,
      "outputs": []
    },
    {
      "cell_type": "code",
      "metadata": {
        "id": "kSbj4AmP9A1x"
      },
      "source": [
        "# POLYNOMIAL KERNEL, CONSTANT = 2, DEGREE = 3"
      ],
      "execution_count": null,
      "outputs": []
    },
    {
      "cell_type": "code",
      "metadata": {
        "id": "o8KIydKMkfJH"
      },
      "source": [
        "alphas_pred_pol, mode_pred_pol, C_pred_pol, degree_pred_pol, rho_pred_pol = perceptron(x_train, y_train, 2)\n",
        "w_pred_pol = y_train * alphas_pred_pol"
      ],
      "execution_count": null,
      "outputs": []
    },
    {
      "cell_type": "code",
      "metadata": {
        "id": "WDPrhMJNmU5F"
      },
      "source": [
        "y_trainpred_pol = pred_perceptron(x_train, w_pred_pol, x_train, mode_pred_pol, C_pred_pol, degree_pred_pol)\r\n",
        "y_pred_pol = pred_perceptron(x_train, w_pred_pol, x_test, mode_pred_pol, C_pred_pol, degree_pred_pol)"
      ],
      "execution_count": null,
      "outputs": []
    },
    {
      "cell_type": "code",
      "metadata": {
        "colab": {
          "base_uri": "https://localhost:8080/"
        },
        "id": "6dCCPoJ3mUyj",
        "outputId": "dcb50e90-8e57-47c6-f4cd-19ef97b8b6e4"
      },
      "source": [
        "train_accu_pol, train_incorr_pol = scorePred(y_trainpred_pol, y_train)\r\n",
        "test_accu_pol, test_incorr_pol = scorePred(y_pred_pol, y_test)"
      ],
      "execution_count": null,
      "outputs": [
        {
          "output_type": "stream",
          "text": [
            "732 18\n",
            "246 4\n"
          ],
          "name": "stdout"
        }
      ]
    },
    {
      "cell_type": "code",
      "metadata": {
        "id": "9OhXjS6iggc9",
        "colab": {
          "base_uri": "https://localhost:8080/"
        },
        "outputId": "8646414a-d6ac-4225-a10e-80fce9cb015c"
      },
      "source": [
        "print('Train accu:', train_accu_pol)\n",
        "print('Train incorr:', train_incorr_pol)\n",
        "print('Test accu:', test_accu_pol)\n",
        "print('Test incorr:', test_incorr_pol)"
      ],
      "execution_count": null,
      "outputs": [
        {
          "output_type": "stream",
          "text": [
            "Train accu: 0.976\n",
            "Train incorr: 0.024\n",
            "Test accu: 0.984\n",
            "Test incorr: 0.016\n"
          ],
          "name": "stdout"
        }
      ]
    },
    {
      "cell_type": "code",
      "metadata": {
        "id": "_FaX8HbbAd-K"
      },
      "source": [
        "ConMat2 = np.zeros((3,3))"
      ],
      "execution_count": null,
      "outputs": []
    },
    {
      "cell_type": "code",
      "metadata": {
        "id": "PoAGHgOwAd-O"
      },
      "source": [
        "for i in range(y_pred_pol.shape[0]):\n",
        "  ConMat2[int(y_pred_pol[i])+1, int(y_test[i])+1] += 1"
      ],
      "execution_count": null,
      "outputs": []
    },
    {
      "cell_type": "code",
      "metadata": {
        "colab": {
          "base_uri": "https://localhost:8080/"
        },
        "id": "NqRLfdxJAd-S",
        "outputId": "d2cfb304-617b-4165-add0-d2467e96126f"
      },
      "source": [
        "print('Confusion Matrix, Polynomial Kernel: \\n', ConMat2)"
      ],
      "execution_count": null,
      "outputs": [
        {
          "output_type": "stream",
          "text": [
            "Confusion Matrix, Polynomial Kernel: \n",
            " [[123.   0.   1.]\n",
            " [  0.   0.   0.]\n",
            " [  3.   0. 123.]]\n"
          ],
          "name": "stdout"
        }
      ]
    },
    {
      "cell_type": "code",
      "metadata": {
        "id": "BKaGqKirTiVI",
        "colab": {
          "base_uri": "https://localhost:8080/"
        },
        "outputId": "9123bf29-2311-4452-8679-c2b9353598ad"
      },
      "source": [
        "updates = 0\n",
        "iter_updates_pol = [0]\n",
        "for alpha in alphas_pred_pol:\n",
        "  updates += alpha[0]\n",
        "  iter_updates_pol.append(updates)\n",
        "\n",
        "print('Iterations required to reach max accuracy: ', iter_updates_pol[-1])"
      ],
      "execution_count": null,
      "outputs": [
        {
          "output_type": "stream",
          "text": [
            "Iterations required to reach max accuracy:  98.0\n"
          ],
          "name": "stdout"
        }
      ]
    },
    {
      "cell_type": "code",
      "metadata": {
        "id": "49kjK9hX9K5O",
        "colab": {
          "base_uri": "https://localhost:8080/",
          "height": 411
        },
        "outputId": "2063b89a-2e41-41aa-ed6d-513d648360e1"
      },
      "source": [
        "epochs = np.arange(0, x_train.shape[0]+1)\n",
        "\n",
        "plt.figure(figsize=[8, 6])\n",
        "plt.plot(iter_updates_pol, epochs, linewidth = 2)\n",
        "plt.ylabel('iterations', fontweight='bold', fontsize=16)\n",
        "plt.xlabel('updates', fontweight='bold', fontsize=16)\n",
        "plt.title('No. of Updates vs No. of Iterations, Polynomial Kernel, D3', fontweight='bold', fontsize=16)\n",
        "plt.savefig(\"partC2_updates_vs_iterations_poly_d3.png\")\n",
        "files.download(\"partC2_updates_vs_iterations_poly_d3.png\")"
      ],
      "execution_count": null,
      "outputs": [
        {
          "output_type": "display_data",
          "data": {
            "application/javascript": [
              "\n",
              "    async function download(id, filename, size) {\n",
              "      if (!google.colab.kernel.accessAllowed) {\n",
              "        return;\n",
              "      }\n",
              "      const div = document.createElement('div');\n",
              "      const label = document.createElement('label');\n",
              "      label.textContent = `Downloading \"${filename}\": `;\n",
              "      div.appendChild(label);\n",
              "      const progress = document.createElement('progress');\n",
              "      progress.max = size;\n",
              "      div.appendChild(progress);\n",
              "      document.body.appendChild(div);\n",
              "\n",
              "      const buffers = [];\n",
              "      let downloaded = 0;\n",
              "\n",
              "      const channel = await google.colab.kernel.comms.open(id);\n",
              "      // Send a message to notify the kernel that we're ready.\n",
              "      channel.send({})\n",
              "\n",
              "      for await (const message of channel.messages) {\n",
              "        // Send a message to notify the kernel that we're ready.\n",
              "        channel.send({})\n",
              "        if (message.buffers) {\n",
              "          for (const buffer of message.buffers) {\n",
              "            buffers.push(buffer);\n",
              "            downloaded += buffer.byteLength;\n",
              "            progress.value = downloaded;\n",
              "          }\n",
              "        }\n",
              "      }\n",
              "      const blob = new Blob(buffers, {type: 'application/binary'});\n",
              "      const a = document.createElement('a');\n",
              "      a.href = window.URL.createObjectURL(blob);\n",
              "      a.download = filename;\n",
              "      div.appendChild(a);\n",
              "      a.click();\n",
              "      div.remove();\n",
              "    }\n",
              "  "
            ],
            "text/plain": [
              "<IPython.core.display.Javascript object>"
            ]
          },
          "metadata": {
            "tags": []
          }
        },
        {
          "output_type": "display_data",
          "data": {
            "application/javascript": [
              "download(\"download_6a80a528-c17f-4da4-8070-9fe733109e37\", \"partC2_updates_vs_iterations_poly_d3.png\", 22011)"
            ],
            "text/plain": [
              "<IPython.core.display.Javascript object>"
            ]
          },
          "metadata": {
            "tags": []
          }
        },
        {
          "output_type": "display_data",
          "data": {
            "image/png": "[encoded data removed]",
            "text/plain": [
              "<Figure size 576x432 with 1 Axes>"
            ]
          },
          "metadata": {
            "tags": [],
            "needs_background": "light"
          }
        }
      ]
    },
    {
      "cell_type": "code",
      "metadata": {
        "id": "BWfHouK0T7WZ",
        "colab": {
          "base_uri": "https://localhost:8080/"
        },
        "outputId": "d27626d0-08b5-453c-ac6a-e9f4a7fa45e2"
      },
      "source": [
        "bound_pol = (R / rho_pred_pol)**2\n",
        "bound_pol"
      ],
      "execution_count": null,
      "outputs": [
        {
          "output_type": "execute_result",
          "data": {
            "text/plain": [
              "array([[1.17542942]])"
            ]
          },
          "metadata": {
            "tags": []
          },
          "execution_count": 41
        }
      ]
    },
    {
      "cell_type": "code",
      "metadata": {
        "id": "VFqWTKxi_rha"
      },
      "source": [
        ""
      ],
      "execution_count": null,
      "outputs": []
    },
    {
      "cell_type": "code",
      "metadata": {
        "id": "9Tl8hDh8_rWr"
      },
      "source": [
        "# POLYNOMIAL KERNEL SVM USING INBUILT FUNCTION (HARD MARGIN)"
      ],
      "execution_count": null,
      "outputs": []
    },
    {
      "cell_type": "code",
      "metadata": {
        "id": "R16BMTQcWX3D",
        "colab": {
          "base_uri": "https://localhost:8080/"
        },
        "outputId": "ef8fb59f-4034-4289-f515-fd0e0afa8d25"
      },
      "source": [
        "pol_svm = SVC(C = 1000, kernel = 'poly', degree = 3, coef0 = 2)\n",
        "pol_svm.fit(x_train, y_train.ravel())"
      ],
      "execution_count": null,
      "outputs": [
        {
          "output_type": "execute_result",
          "data": {
            "text/plain": [
              "SVC(C=1000, break_ties=False, cache_size=200, class_weight=None, coef0=2,\n",
              "    decision_function_shape='ovr', degree=3, gamma='scale', kernel='poly',\n",
              "    max_iter=-1, probability=False, random_state=None, shrinking=True,\n",
              "    tol=0.001, verbose=False)"
            ]
          },
          "metadata": {
            "tags": []
          },
          "execution_count": 43
        }
      ]
    },
    {
      "cell_type": "code",
      "metadata": {
        "id": "b4hzpqDV0PlF",
        "colab": {
          "base_uri": "https://localhost:8080/"
        },
        "outputId": "9ccc71e8-9be5-4971-ef55-372bbe1a5038"
      },
      "source": [
        "pol_svm.score(x_train, y_train)"
      ],
      "execution_count": null,
      "outputs": [
        {
          "output_type": "execute_result",
          "data": {
            "text/plain": [
              "0.9773333333333334"
            ]
          },
          "metadata": {
            "tags": []
          },
          "execution_count": 44
        }
      ]
    },
    {
      "cell_type": "code",
      "metadata": {
        "id": "3C6ThozR0PgR",
        "colab": {
          "base_uri": "https://localhost:8080/"
        },
        "outputId": "3080b711-dac5-45f5-9abb-c1e3eb62e8db"
      },
      "source": [
        "pol_svm.score(x_test, y_test)"
      ],
      "execution_count": null,
      "outputs": [
        {
          "output_type": "execute_result",
          "data": {
            "text/plain": [
              "0.988"
            ]
          },
          "metadata": {
            "tags": []
          },
          "execution_count": 45
        }
      ]
    },
    {
      "cell_type": "code",
      "metadata": {
        "id": "65UMir9KsQz1"
      },
      "source": [
        ""
      ],
      "execution_count": null,
      "outputs": []
    },
    {
      "cell_type": "code",
      "metadata": {
        "id": "o6WTVFTiWXu1"
      },
      "source": [
        "X1 = np.linspace(-1.25, 1.25, 100) # -400, 600, 100 for dataset 1\r\n",
        "X2 = np.linspace(-1.25, 1.25, 100) # -250, 750, 100 for dataset 1\r\n",
        "X1, X2 = np.meshgrid(X1, X2)\r\n",
        "TempMat = np.zeros((X1.shape[0]**2, 2))\r\n",
        "TempMat[:, 0], TempMat[:, 1] = X1.reshape(X1.shape[0]**2), X2.reshape(X2.shape[0]**2)"
      ],
      "execution_count": null,
      "outputs": []
    },
    {
      "cell_type": "code",
      "metadata": {
        "id": "sTI7nObqWXla"
      },
      "source": [
        "DecSurf_lin = pred_perceptron(x_train, w_pred_lin, TempMat, mode_pred_lin, C_pred_lin, degree_pred_lin)\r\n",
        "\r\n",
        "DecSurf_lin = DecSurf_lin.reshape(X1.shape[0], X2.shape[1])"
      ],
      "execution_count": null,
      "outputs": []
    },
    {
      "cell_type": "code",
      "metadata": {
        "id": "SKpdwjfcT7JO",
        "colab": {
          "base_uri": "https://localhost:8080/",
          "height": 411
        },
        "outputId": "dfe41021-0db0-40d0-ad4e-072c716fda32"
      },
      "source": [
        "plt.figure(2, figsize = [8, 6])\r\n",
        "plt.contourf(X1, X2, DecSurf_lin)\r\n",
        "scatter_0 = plt.scatter(data_0[:, 0], data_0[:, 1], color = 'red', label = 'Class label 0')\r\n",
        "scatter_1 = plt.scatter(data_1[:, 0], data_1[:, 1], color = 'blue', label = 'Class label 1')\r\n",
        "plt.xlabel('Input Feature X1', fontweight='bold', fontsize=16)\r\n",
        "plt.ylabel('Input Feature X2', fontweight='bold', fontsize=16)\r\n",
        "plt.legend(handles = [scatter_0, scatter_1], loc = 'lower left')\r\n",
        "plt.title('Decision Boundary, Linear Kernel (Dataset 3)', fontweight='bold', fontsize=16)\r\n",
        "plt.savefig(\"partC2_decision_bound_linear.png\")\r\n",
        "files.download(\"partC2_decision_bound_linear.png\")"
      ],
      "execution_count": null,
      "outputs": [
        {
          "output_type": "display_data",
          "data": {
            "application/javascript": [
              "\n",
              "    async function download(id, filename, size) {\n",
              "      if (!google.colab.kernel.accessAllowed) {\n",
              "        return;\n",
              "      }\n",
              "      const div = document.createElement('div');\n",
              "      const label = document.createElement('label');\n",
              "      label.textContent = `Downloading \"${filename}\": `;\n",
              "      div.appendChild(label);\n",
              "      const progress = document.createElement('progress');\n",
              "      progress.max = size;\n",
              "      div.appendChild(progress);\n",
              "      document.body.appendChild(div);\n",
              "\n",
              "      const buffers = [];\n",
              "      let downloaded = 0;\n",
              "\n",
              "      const channel = await google.colab.kernel.comms.open(id);\n",
              "      // Send a message to notify the kernel that we're ready.\n",
              "      channel.send({})\n",
              "\n",
              "      for await (const message of channel.messages) {\n",
              "        // Send a message to notify the kernel that we're ready.\n",
              "        channel.send({})\n",
              "        if (message.buffers) {\n",
              "          for (const buffer of message.buffers) {\n",
              "            buffers.push(buffer);\n",
              "            downloaded += buffer.byteLength;\n",
              "            progress.value = downloaded;\n",
              "          }\n",
              "        }\n",
              "      }\n",
              "      const blob = new Blob(buffers, {type: 'application/binary'});\n",
              "      const a = document.createElement('a');\n",
              "      a.href = window.URL.createObjectURL(blob);\n",
              "      a.download = filename;\n",
              "      div.appendChild(a);\n",
              "      a.click();\n",
              "      div.remove();\n",
              "    }\n",
              "  "
            ],
            "text/plain": [
              "<IPython.core.display.Javascript object>"
            ]
          },
          "metadata": {
            "tags": []
          }
        },
        {
          "output_type": "display_data",
          "data": {
            "application/javascript": [
              "download(\"download_300ff712-c077-40cd-8856-d516660321a3\", \"partC2_decision_bound_linear.png\", 53548)"
            ],
            "text/plain": [
              "<IPython.core.display.Javascript object>"
            ]
          },
          "metadata": {
            "tags": []
          }
        },
        {
          "output_type": "display_data",
          "data": {
            "image/png": "[encoded data removed]",
            "text/plain": [
              "<Figure size 576x432 with 1 Axes>"
            ]
          },
          "metadata": {
            "tags": [],
            "needs_background": "light"
          }
        }
      ]
    },
    {
      "cell_type": "code",
      "metadata": {
        "id": "1Ah8I2m79Twh"
      },
      "source": [
        "DecSurf_pol = pred_perceptron(x_train, w_pred_pol, TempMat, mode_pred_pol, C_pred_pol, degree_pred_pol)\r\n",
        "\r\n",
        "DecSurf_pol = DecSurf_pol.reshape(X1.shape[0], X2.shape[1])"
      ],
      "execution_count": null,
      "outputs": []
    },
    {
      "cell_type": "code",
      "metadata": {
        "colab": {
          "base_uri": "https://localhost:8080/",
          "height": 411
        },
        "id": "BDNg2osVuZWL",
        "outputId": "0d0b7861-a5a0-48c3-a516-c5b2f5e4936d"
      },
      "source": [
        "plt.figure(2, figsize = [8, 6])\r\n",
        "plt.contourf(X1, X2, DecSurf_pol)\r\n",
        "scatter_0 = plt.scatter(data_0[:, 0], data_0[:, 1], color = 'red', label = 'Class label 0')\r\n",
        "scatter_1 = plt.scatter(data_1[:, 0], data_1[:, 1], color = 'blue', label = 'Class label 1')\r\n",
        "plt.xlabel('Input Feature X1', fontweight='bold', fontsize=16)\r\n",
        "plt.ylabel('Input Feature X2', fontweight='bold', fontsize=16)\r\n",
        "plt.legend(handles = [scatter_0, scatter_1], loc = 'lower left')\r\n",
        "plt.title('Decision Boundary, Polynomial Kernel (Dataset 3)', fontweight='bold', fontsize=16)\r\n",
        "plt.savefig(\"partC2_decision_bound_poly.png\")\r\n",
        "files.download(\"partC2_decision_bound_poly.png\")"
      ],
      "execution_count": null,
      "outputs": [
        {
          "output_type": "display_data",
          "data": {
            "application/javascript": [
              "\n",
              "    async function download(id, filename, size) {\n",
              "      if (!google.colab.kernel.accessAllowed) {\n",
              "        return;\n",
              "      }\n",
              "      const div = document.createElement('div');\n",
              "      const label = document.createElement('label');\n",
              "      label.textContent = `Downloading \"${filename}\": `;\n",
              "      div.appendChild(label);\n",
              "      const progress = document.createElement('progress');\n",
              "      progress.max = size;\n",
              "      div.appendChild(progress);\n",
              "      document.body.appendChild(div);\n",
              "\n",
              "      const buffers = [];\n",
              "      let downloaded = 0;\n",
              "\n",
              "      const channel = await google.colab.kernel.comms.open(id);\n",
              "      // Send a message to notify the kernel that we're ready.\n",
              "      channel.send({})\n",
              "\n",
              "      for await (const message of channel.messages) {\n",
              "        // Send a message to notify the kernel that we're ready.\n",
              "        channel.send({})\n",
              "        if (message.buffers) {\n",
              "          for (const buffer of message.buffers) {\n",
              "            buffers.push(buffer);\n",
              "            downloaded += buffer.byteLength;\n",
              "            progress.value = downloaded;\n",
              "          }\n",
              "        }\n",
              "      }\n",
              "      const blob = new Blob(buffers, {type: 'application/binary'});\n",
              "      const a = document.createElement('a');\n",
              "      a.href = window.URL.createObjectURL(blob);\n",
              "      a.download = filename;\n",
              "      div.appendChild(a);\n",
              "      a.click();\n",
              "      div.remove();\n",
              "    }\n",
              "  "
            ],
            "text/plain": [
              "<IPython.core.display.Javascript object>"
            ]
          },
          "metadata": {
            "tags": []
          }
        },
        {
          "output_type": "display_data",
          "data": {
            "application/javascript": [
              "download(\"download_ca15af77-2fa4-4411-a5ba-817e4bc07b25\", \"partC2_decision_bound_poly.png\", 53165)"
            ],
            "text/plain": [
              "<IPython.core.display.Javascript object>"
            ]
          },
          "metadata": {
            "tags": []
          }
        },
        {
          "output_type": "display_data",
          "data": {
            "image/png": "[encoded data removed]",
            "text/plain": [
              "<Figure size 576x432 with 1 Axes>"
            ]
          },
          "metadata": {
            "tags": [],
            "needs_background": "light"
          }
        }
      ]
    },
    {
      "cell_type": "code",
      "metadata": {
        "id": "WqrU9HP0uZKb"
      },
      "source": [
        ""
      ],
      "execution_count": null,
      "outputs": []
    },
    {
      "cell_type": "code",
      "metadata": {
        "id": "XO0bCNJjuY_y"
      },
      "source": [
        ""
      ],
      "execution_count": null,
      "outputs": []
    }
  ]
}