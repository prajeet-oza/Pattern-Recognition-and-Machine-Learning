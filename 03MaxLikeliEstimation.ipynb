{
  "nbformat": 4,
  "nbformat_minor": 0,
  "metadata": {
    "colab": {
      "name": "FinalMLEstimation.ipynb",
      "provenance": []
    },
    "kernelspec": {
      "name": "python3",
      "display_name": "Python 3"
    }
  },
  "cells": [
    {
      "cell_type": "code",
      "metadata": {
        "id": "rbb3ZuO6Iu9p",
        "colab_type": "code",
        "colab": {}
      },
      "source": [
        "import numpy as np\n",
        "import matplotlib.pyplot as plt"
      ],
      "execution_count": 0,
      "outputs": []
    },
    {
      "cell_type": "code",
      "metadata": {
        "id": "sLsdA578iwKJ",
        "colab_type": "code",
        "colab": {}
      },
      "source": [
        "#defining the true means\n",
        "mu_true1 = np.array([0, 0, 0])\n",
        "mu_true2 = np.array([1, 5, -3])\n",
        "mu_true3 = np.array([0, 0, 0])"
      ],
      "execution_count": 0,
      "outputs": []
    },
    {
      "cell_type": "code",
      "metadata": {
        "id": "7UY5JUj7jEwh",
        "colab_type": "code",
        "colab": {}
      },
      "source": [
        "#defining the true covariance\n",
        "cov_true1 = np.diag([3, 5, 2])\n",
        "cov_true2 = np.array([[1, 0, 0], [0, 4, 1], [0, 1, 6]])\n",
        "cov_true3 = 10*np.identity(3)"
      ],
      "execution_count": 0,
      "outputs": []
    },
    {
      "cell_type": "code",
      "metadata": {
        "id": "TfMsG4qaek2B",
        "colab_type": "code",
        "colab": {}
      },
      "source": [
        "#generating train dataset points\n",
        "TempMat = np.random.normal(size = (3, 20))\n",
        "CholMat1 = np.linalg.cholesky(cov_true1)\n",
        "data_train1 = np.transpose(np.dot(CholMat1, TempMat) + np.reshape(np.repeat(mu_true1, 20), (3, 20)))\n",
        "CholMat2 = np.linalg.cholesky(cov_true2)\n",
        "data_train2 = np.transpose(np.dot(CholMat2, TempMat) + np.reshape(np.repeat(mu_true2, 20), (3, 20)))\n",
        "CholMat3 = np.linalg.cholesky(cov_true3)\n",
        "data_train3 = np.transpose(np.dot(CholMat3, TempMat) + np.reshape(np.repeat(mu_true3, 20), (3, 20)))"
      ],
      "execution_count": 0,
      "outputs": []
    },
    {
      "cell_type": "code",
      "metadata": {
        "id": "eU0OshbiqJAu",
        "colab_type": "code",
        "colab": {}
      },
      "source": [
        "temp = np.ones((20, 1))\n",
        "data_train1 = np.concatenate((data_train1, temp), axis = 1)\n",
        "temp = 2*temp\n",
        "data_train2 = np.concatenate((data_train2, temp), axis = 1)\n",
        "temp = 3*temp\n",
        "data_train3 = np.concatenate((data_train3, temp), axis = 1)"
      ],
      "execution_count": 0,
      "outputs": []
    },
    {
      "cell_type": "code",
      "metadata": {
        "id": "0FMhabIdsIwJ",
        "colab_type": "code",
        "colab": {}
      },
      "source": [
        "data_train = np.concatenate((data_train1, data_train2, data_train3), axis = 0)"
      ],
      "execution_count": 0,
      "outputs": []
    },
    {
      "cell_type": "code",
      "metadata": {
        "id": "Smq4N86FuQij",
        "colab_type": "code",
        "colab": {}
      },
      "source": [
        "def mu_(data_):\n",
        "  mu = np.sum(data_[:, 0:3], axis = 0) / (data_.shape[0]) #- 1)\n",
        "  \n",
        "  return(mu)"
      ],
      "execution_count": 0,
      "outputs": []
    },
    {
      "cell_type": "code",
      "metadata": {
        "id": "pPVAx0DVvRgR",
        "colab_type": "code",
        "colab": {}
      },
      "source": [
        "def cov_(data_, muI):\n",
        "  cov = np.dot(np.transpose(data_[:, 0:3] - muI), (data_[:, 0:3] - muI)) / (data_.shape[0]) #- 1)\n",
        "\n",
        "  return(cov)"
      ],
      "execution_count": 0,
      "outputs": []
    },
    {
      "cell_type": "code",
      "metadata": {
        "id": "3DoaoRj6wZ1c",
        "colab_type": "code",
        "colab": {}
      },
      "source": [
        "def ShrinkageCov(cov_sub, cov, data_sub, data_, alpha_):\n",
        "  cov_shrkn = ((1 - alpha_)*data_sub.shape[0]*cov_sub + alpha_*data_.shape[0]*cov) / ((1 - alpha_)*data_sub.shape[0] + alpha_*data_.shape[0])\n",
        "\n",
        "  return(cov_shrkn)"
      ],
      "execution_count": 0,
      "outputs": []
    },
    {
      "cell_type": "code",
      "metadata": {
        "id": "7s92L_WaxznF",
        "colab_type": "code",
        "colab": {}
      },
      "source": [
        "def BiNormDis(X, muI, covI):\n",
        "  #class conditional probabilities function\n",
        "  detCovI = np.linalg.det(covI)\n",
        "  X = X[0:3]\n",
        "  fXI = np.exp(-0.5*np.dot(np.dot(np.transpose(X - muI), np.linalg.inv(covI)), (X - muI)))/np.sqrt(detCovI*(2*np.pi))\n",
        "\n",
        "  return(fXI)"
      ],
      "execution_count": 0,
      "outputs": []
    },
    {
      "cell_type": "code",
      "metadata": {
        "id": "fpYDRbspzQE3",
        "colab_type": "code",
        "colab": {}
      },
      "source": [
        "def BayesClassi(X, mu1, mu2, mu3, cov1, cov2, cov3):\n",
        "  #class conditional probabilities\n",
        "  fx1 = BiNormDis(X, muI = mu1, covI = cov1)\n",
        "  fx2 = BiNormDis(X, muI = mu2, covI = cov2)\n",
        "  fx3 = BiNormDis(X, muI = mu3, covI = cov3)\n",
        "  #posterior probabilities\n",
        "  q1 = p1*fx1 / (p1*fx1 + p2*fx2 + p3*fx3)\n",
        "  q2 = p2*fx2 / (p1*fx1 + p2*fx2 + p3*fx3)\n",
        "  q3 = p3*fx3 / (p1*fx1 + p2*fx2 + p3*fx3)\n",
        "\n",
        "  #classification\n",
        "  if (q2 < q1) and (q3 < q1):\n",
        "    allot = 1\n",
        "  elif (q1 <= q2) and (q3 < q2):\n",
        "    allot = 2\n",
        "  else:\n",
        "    allot = 3\n",
        "  \n",
        "  return(allot)"
      ],
      "execution_count": 0,
      "outputs": []
    },
    {
      "cell_type": "code",
      "metadata": {
        "id": "qxD6zCs2z01I",
        "colab_type": "code",
        "colab": {}
      },
      "source": [
        "def PredictorBC(X, mu1, mu2, mu3, cov1, cov2, cov3):\n",
        "  pred = np.zeros(X.shape[0])\n",
        "  #predicting the class\n",
        "  for i in range(0, X.shape[0]):\n",
        "    pred[i] += BayesClassi(X[i], mu1, mu2, mu3, cov1, cov2, cov3)\n",
        "  \n",
        "  correct = 0\n",
        "  incorrect = 0\n",
        "  #calculating accuracy\n",
        "  for i in range(0, pred.shape[0]):\n",
        "    if pred[i] == X[i, 3]:\n",
        "      correct += 1\n",
        "    else:\n",
        "      incorrect += 1\n",
        "  accuracy = correct / X.shape[0]\n",
        "  \n",
        "  return(pred, accuracy)"
      ],
      "execution_count": 0,
      "outputs": []
    },
    {
      "cell_type": "code",
      "metadata": {
        "id": "e3r12pgpjrNA",
        "colab_type": "code",
        "outputId": "914a2b6f-35e5-4f9f-a8ec-8b064af7999b",
        "colab": {
          "base_uri": "https://localhost:8080/",
          "height": 104
        }
      },
      "source": [
        "#estimating the mean of train dataset, classwise\n",
        "mu_estm1 = mu_(data_train1)\n",
        "mu_estm2 = mu_(data_train2)\n",
        "mu_estm3 = mu_(data_train3)\n",
        "print(mu_estm1, '\\n')\n",
        "print(mu_estm2, '\\n')\n",
        "print(mu_estm3)\n"
      ],
      "execution_count": 0,
      "outputs": [
        {
          "output_type": "stream",
          "text": [
            "[ 0.08859236 -0.15657396 -0.21507774] \n",
            "\n",
            "[ 1.05114882  4.85995599 -3.39969305] \n",
            "\n",
            "[ 0.16174678 -0.22142902 -0.48092844]\n"
          ],
          "name": "stdout"
        }
      ]
    },
    {
      "cell_type": "code",
      "metadata": {
        "id": "o5GmKbEUiVHH",
        "colab_type": "code",
        "outputId": "0a5bcce4-0740-4879-8626-b484bcd4aed8",
        "colab": {
          "base_uri": "https://localhost:8080/",
          "height": 208
        }
      },
      "source": [
        "#estimataing the covariance of train dataset, classwise\n",
        "cov_estm1 = cov_(data_train1, mu_estm1)\n",
        "cov_estm2 = cov_(data_train2, mu_estm2)\n",
        "cov_estm3 = cov_(data_train3, mu_estm3)\n",
        "print(cov_estm1, '\\n')\n",
        "print(cov_estm2, '\\n')\n",
        "print(cov_estm3)"
      ],
      "execution_count": 0,
      "outputs": [
        {
          "output_type": "stream",
          "text": [
            "[[ 1.21567063 -0.28572511 -0.07845615]\n",
            " [-0.28572511  3.95465444  0.77043858]\n",
            " [-0.07845615  0.77043858  1.22809593]] \n",
            "\n",
            "[[ 0.40522354 -0.14754781 -0.11369121]\n",
            " [-0.14754781  3.16372355  1.95935885]\n",
            " [-0.11369121  1.95935885  4.3127225 ]] \n",
            "\n",
            "[[ 4.05223542 -0.73773907 -0.3202959 ]\n",
            " [-0.73773907  7.90930887  2.43634072]\n",
            " [-0.3202959   2.43634072  6.14047966]]\n"
          ],
          "name": "stdout"
        }
      ]
    },
    {
      "cell_type": "code",
      "metadata": {
        "id": "kTyWkANrsF4a",
        "colab_type": "code",
        "outputId": "18fef9eb-d6cb-423c-f46a-1cee34b91c53",
        "colab": {
          "base_uri": "https://localhost:8080/",
          "height": 69
        }
      },
      "source": [
        "#common mean and covariance, data_train\n",
        "mu_commn = mu_(data_train)\n",
        "cov_commn = cov_(data_train, mu_commn)\n",
        "print(cov_commn)"
      ],
      "execution_count": 0,
      "outputs": [
        {
          "output_type": "stream",
          "text": [
            "[[ 2.08247681  0.6478119  -0.80201169]\n",
            " [ 0.6478119  10.67481257 -1.69904762]\n",
            " [-0.80201169 -1.69904762  5.97505915]]\n"
          ],
          "name": "stdout"
        }
      ]
    },
    {
      "cell_type": "code",
      "metadata": {
        "id": "FAZTn4sD4PZB",
        "colab_type": "code",
        "colab": {}
      },
      "source": [
        "#prior probabilities\n",
        "p1 = p2 = p3 = 1/3"
      ],
      "execution_count": 0,
      "outputs": []
    },
    {
      "cell_type": "code",
      "metadata": {
        "id": "XbaFtAw2iXrQ",
        "colab_type": "code",
        "colab": {}
      },
      "source": [
        "alpha = np.arange(0, 1.1, 0.1)"
      ],
      "execution_count": 0,
      "outputs": []
    },
    {
      "cell_type": "code",
      "metadata": {
        "id": "Io5fuP9Ptq6-",
        "colab_type": "code",
        "outputId": "694bfe72-2a3d-44f6-a3d5-cf2004e31f98",
        "colab": {
          "base_uri": "https://localhost:8080/",
          "height": 208
        }
      },
      "source": [
        "TrainErr = np.zeros((alpha.shape[0], 1))\n",
        "cov_shrnk1 = np.zeros((alpha.shape[0], 3, 3))\n",
        "cov_shrnk2 = np.zeros((alpha.shape[0], 3, 3))\n",
        "cov_shrnk3 = np.zeros((alpha.shape[0], 3, 3))\n",
        "\n",
        "for i in range(0, alpha.shape[0]):\n",
        "  cov_shrnk1[i] += ShrinkageCov(cov_estm1, cov_commn, data_train1, data_train, alpha[i])\n",
        "  cov_shrnk2[i] += ShrinkageCov(cov_estm2, cov_commn, data_train2, data_train, alpha[i])\n",
        "  cov_shrnk3[i] += ShrinkageCov(cov_estm3, cov_commn, data_train3, data_train, alpha[i])\n",
        "\n",
        "  predI, accuI = PredictorBC(data_train, mu_estm1, mu_estm2, mu_estm3, cov_shrnk1[i], cov_shrnk2[i], cov_shrnk3[i])\n",
        "  TrainErr[i] += (1-accuI)"
      ],
      "execution_count": 0,
      "outputs": [
        {
          "output_type": "stream",
          "text": [
            "36 24 60\n",
            "37 23 60\n",
            "38 22 60\n",
            "38 22 60\n",
            "38 22 60\n",
            "37 23 60\n",
            "36 24 60\n",
            "36 24 60\n",
            "35 25 60\n",
            "32 28 60\n",
            "32 28 60\n"
          ],
          "name": "stdout"
        }
      ]
    },
    {
      "cell_type": "code",
      "metadata": {
        "id": "lTk-LZDJoqTf",
        "colab_type": "code",
        "outputId": "eb0e43e3-a473-4314-8464-150001100295",
        "colab": {
          "base_uri": "https://localhost:8080/",
          "height": 411
        }
      },
      "source": [
        "import matplotlib.pyplot as plt\n",
        "from google.colab import files\n",
        "\n",
        "plt.figure(1, figsize=(8,6))\n",
        "plt.plot(alpha,TrainErr)\n",
        "plt.xlabel('Alpha', fontweight=\"bold\", fontsize=16)\n",
        "plt.ylabel('Train Error', fontweight=\"bold\", fontsize=16)\n",
        "plt.title('Train Error vs Alpha', fontweight=\"bold\", fontsize=16)\n",
        "plt.savefig('trainvsalpha.png')\n",
        "files.download('trainvsalpha.png')"
      ],
      "execution_count": 0,
      "outputs": [
        {
          "output_type": "display_data",
          "data": {
            "image/png": "[encoded data removed]",
            "text/plain": [
              "<Figure size 576x432 with 1 Axes>"
            ]
          },
          "metadata": {
            "tags": []
          }
        }
      ]
    },
    {
      "cell_type": "code",
      "metadata": {
        "id": "GvDQrwpS8LO9",
        "colab_type": "code",
        "colab": {}
      },
      "source": [
        "TempMatTest = np.random.normal(size = (3, 50))\n",
        "CholMat1 = np.linalg.cholesky(cov_true1)\n",
        "data_test1 = np.transpose(np.dot(CholMat1, TempMatTest) + np.reshape(np.repeat(mu_true1, 50), (3, 50)))\n",
        "CholMat2 = np.linalg.cholesky(cov_true2)\n",
        "data_test2 = np.transpose(np.dot(CholMat2, TempMatTest) + np.reshape(np.repeat(mu_true2, 50), (3, 50)))\n",
        "CholMat3 = np.linalg.cholesky(cov_true3)\n",
        "data_test3 = np.transpose(np.dot(CholMat3, TempMatTest) + np.reshape(np.repeat(mu_true3, 50), (3, 50)))"
      ],
      "execution_count": 0,
      "outputs": []
    },
    {
      "cell_type": "code",
      "metadata": {
        "id": "pIKgUu_HIoTQ",
        "colab_type": "code",
        "colab": {}
      },
      "source": [
        "temptest = np.ones((50, 1))\n",
        "data_test1 = np.concatenate((data_test1, temptest), axis = 1)\n",
        "temptest = 2*temptest\n",
        "data_test2 = np.concatenate((data_test2, temptest), axis = 1)\n",
        "temptest = 3*temptest\n",
        "data_test3 = np.concatenate((data_test3, temptest), axis = 1)"
      ],
      "execution_count": 0,
      "outputs": []
    },
    {
      "cell_type": "code",
      "metadata": {
        "id": "GIaVfz28JPCj",
        "colab_type": "code",
        "outputId": "267a717a-50bf-4bad-e3f6-25eaa503e15b",
        "colab": {
          "base_uri": "https://localhost:8080/",
          "height": 34
        }
      },
      "source": [
        "data_test = np.concatenate((data_test1, data_test2, data_test3), axis = 0)\n",
        "data_test.shape"
      ],
      "execution_count": 0,
      "outputs": [
        {
          "output_type": "execute_result",
          "data": {
            "text/plain": [
              "(150, 4)"
            ]
          },
          "metadata": {
            "tags": []
          },
          "execution_count": 48
        }
      ]
    },
    {
      "cell_type": "code",
      "metadata": {
        "id": "oCryHRrAJkA5",
        "colab_type": "code",
        "outputId": "f07656e0-3d3a-4998-eae1-7707e7894669",
        "colab": {
          "base_uri": "https://localhost:8080/",
          "height": 208
        }
      },
      "source": [
        "TestErr = np.zeros((alpha.shape[0], 1))\n",
        "\n",
        "for i in range(0, alpha.shape[0]):\n",
        "  predI, accuI = PredictorBC(data_test, mu_estm1, mu_estm2, mu_estm3, cov_shrnk1[i], cov_shrnk2[i], cov_shrnk3[i])\n",
        "  TestErr[i] += (1-accuI)"
      ],
      "execution_count": 0,
      "outputs": [
        {
          "output_type": "stream",
          "text": [
            "72 78 150\n",
            "77 73 150\n",
            "78 72 150\n",
            "78 72 150\n",
            "78 72 150\n",
            "78 72 150\n",
            "79 71 150\n",
            "81 69 150\n",
            "80 70 150\n",
            "80 70 150\n",
            "77 73 150\n"
          ],
          "name": "stdout"
        }
      ]
    },
    {
      "cell_type": "code",
      "metadata": {
        "id": "qfapbSQ0KVWo",
        "colab_type": "code",
        "outputId": "21e6f5c2-cbba-40b0-e390-e6e1dc2f1937",
        "colab": {
          "base_uri": "https://localhost:8080/",
          "height": 208
        }
      },
      "source": [
        "print(TestErr)"
      ],
      "execution_count": 0,
      "outputs": [
        {
          "output_type": "stream",
          "text": [
            "[[0.52      ]\n",
            " [0.48666667]\n",
            " [0.48      ]\n",
            " [0.48      ]\n",
            " [0.48      ]\n",
            " [0.48      ]\n",
            " [0.47333333]\n",
            " [0.46      ]\n",
            " [0.46666667]\n",
            " [0.46666667]\n",
            " [0.48666667]]\n"
          ],
          "name": "stdout"
        }
      ]
    },
    {
      "cell_type": "code",
      "metadata": {
        "id": "bM8dRCVwKv4c",
        "colab_type": "code",
        "outputId": "5ba58746-246b-42fb-ad7a-14791d178605",
        "colab": {
          "base_uri": "https://localhost:8080/",
          "height": 411
        }
      },
      "source": [
        "plt.figure(2, figsize=(8,6))\n",
        "plt.plot(alpha,TestErr)\n",
        "plt.xlabel('Alpha', fontweight=\"bold\", fontsize=16)\n",
        "plt.ylabel('Test Error', fontweight=\"bold\", fontsize=16)\n",
        "plt.title('Test Error vs Alpha', fontweight=\"bold\", fontsize=16)\n",
        "plt.savefig('testvsalpha.png')\n",
        "files.download('testvsalpha.png')"
      ],
      "execution_count": 0,
      "outputs": [
        {
          "output_type": "display_data",
          "data": {
            "image/png": "[encoded data removed]",
            "text/plain": [
              "<Figure size 576x432 with 1 Axes>"
            ]
          },
          "metadata": {
            "tags": []
          }
        }
      ]
    },
    {
      "cell_type": "code",
      "metadata": {
        "id": "mFTVMFvATNTF",
        "colab_type": "code",
        "colab": {}
      },
      "source": [
        ""
      ],
      "execution_count": 0,
      "outputs": []
    }
  ]
}