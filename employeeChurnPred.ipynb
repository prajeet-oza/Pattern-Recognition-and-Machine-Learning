{
  "nbformat": 4,
  "nbformat_minor": 0,
  "metadata": {
    "colab": {
      "name": "FinalModelNotebook.ipynb",
      "provenance": [],
      "collapsed_sections": [
        "jr9_dHGLriDL",
        "Mn2OijNkr-16",
        "5wZa7xAJsRx-",
        "-u86cDv4seJl",
        "Bxfs0qBbsucb"
      ]
    },
    "kernelspec": {
      "name": "python3",
      "display_name": "Python 3"
    }
  },
  "cells": [
    {
      "cell_type": "code",
      "metadata": {
        "colab": {
          "base_uri": "https://localhost:8080/"
        },
        "id": "MROyuPZL5v_M",
        "outputId": "1a502582-1720-4270-b413-35e03966cd6e"
      },
      "source": [
        "from google.colab import drive\r\n",
        "drive.mount('/content/gdrive')"
      ],
      "execution_count": 562,
      "outputs": [
        {
          "output_type": "stream",
          "text": [
            "Drive already mounted at /content/gdrive; to attempt to forcibly remount, call drive.mount(\"/content/gdrive\", force_remount=True).\n"
          ],
          "name": "stdout"
        }
      ]
    },
    {
      "cell_type": "code",
      "metadata": {
        "id": "WpjccdfGDjNy"
      },
      "source": [
        "import pandas as pd\r\n",
        "import numpy as np"
      ],
      "execution_count": 563,
      "outputs": []
    },
    {
      "cell_type": "code",
      "metadata": {
        "colab": {
          "base_uri": "https://localhost:8080/"
        },
        "id": "4WWG-DF6YIAM",
        "outputId": "70e32306-1590-4e48-ae78-0e09756c7cfc"
      },
      "source": [
        "train_data = pd.read_csv('/content/gdrive/My Drive/DataContest/datasets/train.csv')\r\n",
        "test_data = pd.read_csv('/content/gdrive/My Drive/DataContest/datasets/test.csv')\r\n",
        "ratings = pd.read_csv('/content/gdrive/My Drive/DataContest/datasets/ratings.csv')\r\n",
        "remarks = pd.read_csv('/content/gdrive/My Drive/DataContest/datasets/remarks.csv')\r\n",
        "remarks_supp = pd.read_csv('/content/gdrive/My Drive/DataContest/datasets/remarks_supp_opp.csv')"
      ],
      "execution_count": 564,
      "outputs": [
        {
          "output_type": "stream",
          "text": [
            "/usr/local/lib/python3.6/dist-packages/IPython/core/interactiveshell.py:2718: DtypeWarning: Columns (2,3) have mixed types.Specify dtype option on import or set low_memory=False.\n",
            "  interactivity=interactivity, compiler=compiler, result=result)\n"
          ],
          "name": "stderr"
        }
      ]
    },
    {
      "cell_type": "markdown",
      "metadata": {
        "id": "jr9_dHGLriDL"
      },
      "source": [
        "# Exploring the datasets"
      ]
    },
    {
      "cell_type": "code",
      "metadata": {
        "colab": {
          "base_uri": "https://localhost:8080/",
          "height": 206
        },
        "id": "AmZYb5sgY6KY",
        "outputId": "a3ccde12-cdda-4c05-bef0-b38caa959839"
      },
      "source": [
        "train_data.head()"
      ],
      "execution_count": 565,
      "outputs": [
        {
          "output_type": "execute_result",
          "data": {
            "text/html": [
              "<div>\n",
              "<style scoped>\n",
              "    .dataframe tbody tr th:only-of-type {\n",
              "        vertical-align: middle;\n",
              "    }\n",
              "\n",
              "    .dataframe tbody tr th {\n",
              "        vertical-align: top;\n",
              "    }\n",
              "\n",
              "    .dataframe thead th {\n",
              "        text-align: right;\n",
              "    }\n",
              "</style>\n",
              "<table border=\"1\" class=\"dataframe\">\n",
              "  <thead>\n",
              "    <tr style=\"text-align: right;\">\n",
              "      <th></th>\n",
              "      <th>id</th>\n",
              "      <th>emp</th>\n",
              "      <th>comp</th>\n",
              "      <th>lastratingdate</th>\n",
              "      <th>left</th>\n",
              "    </tr>\n",
              "  </thead>\n",
              "  <tbody>\n",
              "    <tr>\n",
              "      <th>0</th>\n",
              "      <td>2228</td>\n",
              "      <td>939</td>\n",
              "      <td>phcvroct</td>\n",
              "      <td>17-10-2016</td>\n",
              "      <td>1</td>\n",
              "    </tr>\n",
              "    <tr>\n",
              "      <th>1</th>\n",
              "      <td>4349</td>\n",
              "      <td>250</td>\n",
              "      <td>jblrepyr</td>\n",
              "      <td>19-03-2017</td>\n",
              "      <td>0</td>\n",
              "    </tr>\n",
              "    <tr>\n",
              "      <th>2</th>\n",
              "      <td>945</td>\n",
              "      <td>134</td>\n",
              "      <td>ewpvmfbc</td>\n",
              "      <td>21-09-2016</td>\n",
              "      <td>0</td>\n",
              "    </tr>\n",
              "    <tr>\n",
              "      <th>3</th>\n",
              "      <td>4553</td>\n",
              "      <td>164</td>\n",
              "      <td>wsmblohy</td>\n",
              "      <td>17-03-2017</td>\n",
              "      <td>0</td>\n",
              "    </tr>\n",
              "    <tr>\n",
              "      <th>4</th>\n",
              "      <td>941</td>\n",
              "      <td>129</td>\n",
              "      <td>ewpvmfbc</td>\n",
              "      <td>04-04-2016</td>\n",
              "      <td>0</td>\n",
              "    </tr>\n",
              "  </tbody>\n",
              "</table>\n",
              "</div>"
            ],
            "text/plain": [
              "     id  emp      comp lastratingdate  left\n",
              "0  2228  939  phcvroct     17-10-2016     1\n",
              "1  4349  250  jblrepyr     19-03-2017     0\n",
              "2   945  134  ewpvmfbc     21-09-2016     0\n",
              "3  4553  164  wsmblohy     17-03-2017     0\n",
              "4   941  129  ewpvmfbc     04-04-2016     0"
            ]
          },
          "metadata": {
            "tags": []
          },
          "execution_count": 565
        }
      ]
    },
    {
      "cell_type": "code",
      "metadata": {
        "colab": {
          "base_uri": "https://localhost:8080/",
          "height": 206
        },
        "id": "mJ1HouYMZA85",
        "outputId": "626988b2-6355-4425-cd2e-b89cc374217e"
      },
      "source": [
        "test_data.head()"
      ],
      "execution_count": 566,
      "outputs": [
        {
          "output_type": "execute_result",
          "data": {
            "text/html": [
              "<div>\n",
              "<style scoped>\n",
              "    .dataframe tbody tr th:only-of-type {\n",
              "        vertical-align: middle;\n",
              "    }\n",
              "\n",
              "    .dataframe tbody tr th {\n",
              "        vertical-align: top;\n",
              "    }\n",
              "\n",
              "    .dataframe thead th {\n",
              "        text-align: right;\n",
              "    }\n",
              "</style>\n",
              "<table border=\"1\" class=\"dataframe\">\n",
              "  <thead>\n",
              "    <tr style=\"text-align: right;\">\n",
              "      <th></th>\n",
              "      <th>id</th>\n",
              "      <th>emp</th>\n",
              "      <th>comp</th>\n",
              "      <th>lastratingdate</th>\n",
              "    </tr>\n",
              "  </thead>\n",
              "  <tbody>\n",
              "    <tr>\n",
              "      <th>0</th>\n",
              "      <td>353</td>\n",
              "      <td>509</td>\n",
              "      <td>bnivzbfi</td>\n",
              "      <td>20-03-2017</td>\n",
              "    </tr>\n",
              "    <tr>\n",
              "      <th>1</th>\n",
              "      <td>732</td>\n",
              "      <td>22</td>\n",
              "      <td>ocsicwng</td>\n",
              "      <td>17-03-2017</td>\n",
              "    </tr>\n",
              "    <tr>\n",
              "      <th>2</th>\n",
              "      <td>3076</td>\n",
              "      <td>2</td>\n",
              "      <td>siexkzzo</td>\n",
              "      <td>09-01-2017</td>\n",
              "    </tr>\n",
              "    <tr>\n",
              "      <th>3</th>\n",
              "      <td>2199</td>\n",
              "      <td>885</td>\n",
              "      <td>phcvroct</td>\n",
              "      <td>01-10-2016</td>\n",
              "    </tr>\n",
              "    <tr>\n",
              "      <th>4</th>\n",
              "      <td>2145</td>\n",
              "      <td>756</td>\n",
              "      <td>phcvroct</td>\n",
              "      <td>06-02-2017</td>\n",
              "    </tr>\n",
              "  </tbody>\n",
              "</table>\n",
              "</div>"
            ],
            "text/plain": [
              "     id  emp      comp lastratingdate\n",
              "0   353  509  bnivzbfi     20-03-2017\n",
              "1   732   22  ocsicwng     17-03-2017\n",
              "2  3076    2  siexkzzo     09-01-2017\n",
              "3  2199  885  phcvroct     01-10-2016\n",
              "4  2145  756  phcvroct     06-02-2017"
            ]
          },
          "metadata": {
            "tags": []
          },
          "execution_count": 566
        }
      ]
    },
    {
      "cell_type": "code",
      "metadata": {
        "colab": {
          "base_uri": "https://localhost:8080/",
          "height": 206
        },
        "id": "0XjAk-vZZDDJ",
        "outputId": "c680b379-a895-4079-f528-700d2b907771"
      },
      "source": [
        "ratings.head()"
      ],
      "execution_count": 567,
      "outputs": [
        {
          "output_type": "execute_result",
          "data": {
            "text/html": [
              "<div>\n",
              "<style scoped>\n",
              "    .dataframe tbody tr th:only-of-type {\n",
              "        vertical-align: middle;\n",
              "    }\n",
              "\n",
              "    .dataframe tbody tr th {\n",
              "        vertical-align: top;\n",
              "    }\n",
              "\n",
              "    .dataframe thead th {\n",
              "        text-align: right;\n",
              "    }\n",
              "</style>\n",
              "<table border=\"1\" class=\"dataframe\">\n",
              "  <thead>\n",
              "    <tr style=\"text-align: right;\">\n",
              "      <th></th>\n",
              "      <th>emp</th>\n",
              "      <th>comp</th>\n",
              "      <th>Date</th>\n",
              "      <th>rating</th>\n",
              "    </tr>\n",
              "  </thead>\n",
              "  <tbody>\n",
              "    <tr>\n",
              "      <th>0</th>\n",
              "      <td>31</td>\n",
              "      <td>bnivzbfi</td>\n",
              "      <td>01-02-2016</td>\n",
              "      <td>4</td>\n",
              "    </tr>\n",
              "    <tr>\n",
              "      <th>1</th>\n",
              "      <td>33</td>\n",
              "      <td>bnivzbfi</td>\n",
              "      <td>01-02-2016</td>\n",
              "      <td>4</td>\n",
              "    </tr>\n",
              "    <tr>\n",
              "      <th>2</th>\n",
              "      <td>79</td>\n",
              "      <td>bnivzbfi</td>\n",
              "      <td>01-02-2016</td>\n",
              "      <td>4</td>\n",
              "    </tr>\n",
              "    <tr>\n",
              "      <th>3</th>\n",
              "      <td>94</td>\n",
              "      <td>bnivzbfi</td>\n",
              "      <td>01-02-2016</td>\n",
              "      <td>4</td>\n",
              "    </tr>\n",
              "    <tr>\n",
              "      <th>4</th>\n",
              "      <td>16</td>\n",
              "      <td>bnivzbfi</td>\n",
              "      <td>01-02-2016</td>\n",
              "      <td>2</td>\n",
              "    </tr>\n",
              "  </tbody>\n",
              "</table>\n",
              "</div>"
            ],
            "text/plain": [
              "   emp      comp        Date  rating\n",
              "0   31  bnivzbfi  01-02-2016       4\n",
              "1   33  bnivzbfi  01-02-2016       4\n",
              "2   79  bnivzbfi  01-02-2016       4\n",
              "3   94  bnivzbfi  01-02-2016       4\n",
              "4   16  bnivzbfi  01-02-2016       2"
            ]
          },
          "metadata": {
            "tags": []
          },
          "execution_count": 567
        }
      ]
    },
    {
      "cell_type": "code",
      "metadata": {
        "colab": {
          "base_uri": "https://localhost:8080/",
          "height": 206
        },
        "id": "N5zzopxEZFBY",
        "outputId": "3235c539-a58d-419c-881e-f6d8a5aeb3ef"
      },
      "source": [
        "remarks.head()"
      ],
      "execution_count": 568,
      "outputs": [
        {
          "output_type": "execute_result",
          "data": {
            "text/html": [
              "<div>\n",
              "<style scoped>\n",
              "    .dataframe tbody tr th:only-of-type {\n",
              "        vertical-align: middle;\n",
              "    }\n",
              "\n",
              "    .dataframe tbody tr th {\n",
              "        vertical-align: top;\n",
              "    }\n",
              "\n",
              "    .dataframe thead th {\n",
              "        text-align: right;\n",
              "    }\n",
              "</style>\n",
              "<table border=\"1\" class=\"dataframe\">\n",
              "  <thead>\n",
              "    <tr style=\"text-align: right;\">\n",
              "      <th></th>\n",
              "      <th>emp</th>\n",
              "      <th>comp</th>\n",
              "      <th>remarkId</th>\n",
              "      <th>txt</th>\n",
              "      <th>remarkDate</th>\n",
              "    </tr>\n",
              "  </thead>\n",
              "  <tbody>\n",
              "    <tr>\n",
              "      <th>0</th>\n",
              "      <td>307</td>\n",
              "      <td>bnivzbfi</td>\n",
              "      <td>fvwadfrj</td>\n",
              "      <td>**********************************************...</td>\n",
              "      <td>20-03-2017</td>\n",
              "    </tr>\n",
              "    <tr>\n",
              "      <th>1</th>\n",
              "      <td>382</td>\n",
              "      <td>bnivzbfi</td>\n",
              "      <td>xrrfkgap</td>\n",
              "      <td>*****************************</td>\n",
              "      <td>20-03-2017</td>\n",
              "    </tr>\n",
              "    <tr>\n",
              "      <th>2</th>\n",
              "      <td>172</td>\n",
              "      <td>bnivzbfi</td>\n",
              "      <td>xkcrccwi</td>\n",
              "      <td>***************************</td>\n",
              "      <td>20-03-2017</td>\n",
              "    </tr>\n",
              "    <tr>\n",
              "      <th>3</th>\n",
              "      <td>135</td>\n",
              "      <td>bnivzbfi</td>\n",
              "      <td>lohhvtmo</td>\n",
              "      <td>***************************</td>\n",
              "      <td>20-03-2017</td>\n",
              "    </tr>\n",
              "    <tr>\n",
              "      <th>4</th>\n",
              "      <td>225</td>\n",
              "      <td>bnivzbfi</td>\n",
              "      <td>gpxxmoab</td>\n",
              "      <td>*********************************</td>\n",
              "      <td>20-03-2017</td>\n",
              "    </tr>\n",
              "  </tbody>\n",
              "</table>\n",
              "</div>"
            ],
            "text/plain": [
              "   emp      comp  ...                                                txt  remarkDate\n",
              "0  307  bnivzbfi  ...  **********************************************...  20-03-2017\n",
              "1  382  bnivzbfi  ...                      *****************************  20-03-2017\n",
              "2  172  bnivzbfi  ...                        ***************************  20-03-2017\n",
              "3  135  bnivzbfi  ...                        ***************************  20-03-2017\n",
              "4  225  bnivzbfi  ...                  *********************************  20-03-2017\n",
              "\n",
              "[5 rows x 5 columns]"
            ]
          },
          "metadata": {
            "tags": []
          },
          "execution_count": 568
        }
      ]
    },
    {
      "cell_type": "code",
      "metadata": {
        "colab": {
          "base_uri": "https://localhost:8080/",
          "height": 206
        },
        "id": "aVyrB5EsZH36",
        "outputId": "97bc4fc1-55db-46ef-8b3c-f57ccc86b6dd"
      },
      "source": [
        "remarks_supp.head()"
      ],
      "execution_count": 569,
      "outputs": [
        {
          "output_type": "execute_result",
          "data": {
            "text/html": [
              "<div>\n",
              "<style scoped>\n",
              "    .dataframe tbody tr th:only-of-type {\n",
              "        vertical-align: middle;\n",
              "    }\n",
              "\n",
              "    .dataframe tbody tr th {\n",
              "        vertical-align: top;\n",
              "    }\n",
              "\n",
              "    .dataframe thead th {\n",
              "        text-align: right;\n",
              "    }\n",
              "</style>\n",
              "<table border=\"1\" class=\"dataframe\">\n",
              "  <thead>\n",
              "    <tr style=\"text-align: right;\">\n",
              "      <th></th>\n",
              "      <th>emp</th>\n",
              "      <th>comp</th>\n",
              "      <th>support</th>\n",
              "      <th>oppose</th>\n",
              "      <th>remarkId</th>\n",
              "    </tr>\n",
              "  </thead>\n",
              "  <tbody>\n",
              "    <tr>\n",
              "      <th>0</th>\n",
              "      <td>307</td>\n",
              "      <td>bnivzbfi</td>\n",
              "      <td>True</td>\n",
              "      <td>False</td>\n",
              "      <td>fvwadfrj</td>\n",
              "    </tr>\n",
              "    <tr>\n",
              "      <th>1</th>\n",
              "      <td>36</td>\n",
              "      <td>bnivzbfi</td>\n",
              "      <td>True</td>\n",
              "      <td>False</td>\n",
              "      <td>fvwadfrj</td>\n",
              "    </tr>\n",
              "    <tr>\n",
              "      <th>2</th>\n",
              "      <td>276</td>\n",
              "      <td>bnivzbfi</td>\n",
              "      <td>True</td>\n",
              "      <td>False</td>\n",
              "      <td>fvwadfrj</td>\n",
              "    </tr>\n",
              "    <tr>\n",
              "      <th>3</th>\n",
              "      <td>24</td>\n",
              "      <td>bnivzbfi</td>\n",
              "      <td>True</td>\n",
              "      <td>False</td>\n",
              "      <td>fvwadfrj</td>\n",
              "    </tr>\n",
              "    <tr>\n",
              "      <th>4</th>\n",
              "      <td>382</td>\n",
              "      <td>bnivzbfi</td>\n",
              "      <td>True</td>\n",
              "      <td>False</td>\n",
              "      <td>xrrfkgap</td>\n",
              "    </tr>\n",
              "  </tbody>\n",
              "</table>\n",
              "</div>"
            ],
            "text/plain": [
              "   emp      comp support oppose  remarkId\n",
              "0  307  bnivzbfi    True  False  fvwadfrj\n",
              "1   36  bnivzbfi    True  False  fvwadfrj\n",
              "2  276  bnivzbfi    True  False  fvwadfrj\n",
              "3   24  bnivzbfi    True  False  fvwadfrj\n",
              "4  382  bnivzbfi    True  False  xrrfkgap"
            ]
          },
          "metadata": {
            "tags": []
          },
          "execution_count": 569
        }
      ]
    },
    {
      "cell_type": "code",
      "metadata": {
        "colab": {
          "base_uri": "https://localhost:8080/"
        },
        "id": "kWKudXe6ZJpK",
        "outputId": "5aee9268-51c5-421f-a02f-625111dc90b9"
      },
      "source": [
        "train_data['left'].sum() / train_data.shape[0]"
      ],
      "execution_count": 570,
      "outputs": [
        {
          "output_type": "execute_result",
          "data": {
            "text/plain": [
              "0.16846284741917186"
            ]
          },
          "metadata": {
            "tags": []
          },
          "execution_count": 570
        }
      ]
    },
    {
      "cell_type": "code",
      "metadata": {
        "colab": {
          "base_uri": "https://localhost:8080/",
          "height": 455
        },
        "id": "WWSmQqUKZjlp",
        "outputId": "05858ed9-22e2-4e4f-cc5a-322f69a2753f"
      },
      "source": [
        "train_data.groupby(['emp', 'comp'])['left'].agg(['sum'])"
      ],
      "execution_count": 571,
      "outputs": [
        {
          "output_type": "execute_result",
          "data": {
            "text/html": [
              "<div>\n",
              "<style scoped>\n",
              "    .dataframe tbody tr th:only-of-type {\n",
              "        vertical-align: middle;\n",
              "    }\n",
              "\n",
              "    .dataframe tbody tr th {\n",
              "        vertical-align: top;\n",
              "    }\n",
              "\n",
              "    .dataframe thead th {\n",
              "        text-align: right;\n",
              "    }\n",
              "</style>\n",
              "<table border=\"1\" class=\"dataframe\">\n",
              "  <thead>\n",
              "    <tr style=\"text-align: right;\">\n",
              "      <th></th>\n",
              "      <th></th>\n",
              "      <th>sum</th>\n",
              "    </tr>\n",
              "    <tr>\n",
              "      <th>emp</th>\n",
              "      <th>comp</th>\n",
              "      <th></th>\n",
              "    </tr>\n",
              "  </thead>\n",
              "  <tbody>\n",
              "    <tr>\n",
              "      <th rowspan=\"5\" valign=\"top\">1</th>\n",
              "      <th>azalutpt</th>\n",
              "      <td>0</td>\n",
              "    </tr>\n",
              "    <tr>\n",
              "      <th>ejeyobsm</th>\n",
              "      <td>0</td>\n",
              "    </tr>\n",
              "    <tr>\n",
              "      <th>ewpvmfbc</th>\n",
              "      <td>0</td>\n",
              "    </tr>\n",
              "    <tr>\n",
              "      <th>fqsozvpv</th>\n",
              "      <td>0</td>\n",
              "    </tr>\n",
              "    <tr>\n",
              "      <th>iqdwmigj</th>\n",
              "      <td>0</td>\n",
              "    </tr>\n",
              "    <tr>\n",
              "      <th>...</th>\n",
              "      <th>...</th>\n",
              "      <td>...</td>\n",
              "    </tr>\n",
              "    <tr>\n",
              "      <th>991</th>\n",
              "      <th>phcvroct</th>\n",
              "      <td>0</td>\n",
              "    </tr>\n",
              "    <tr>\n",
              "      <th>995</th>\n",
              "      <th>phcvroct</th>\n",
              "      <td>0</td>\n",
              "    </tr>\n",
              "    <tr>\n",
              "      <th>996</th>\n",
              "      <th>phcvroct</th>\n",
              "      <td>0</td>\n",
              "    </tr>\n",
              "    <tr>\n",
              "      <th>997</th>\n",
              "      <th>phcvroct</th>\n",
              "      <td>1</td>\n",
              "    </tr>\n",
              "    <tr>\n",
              "      <th>999</th>\n",
              "      <th>phcvroct</th>\n",
              "      <td>0</td>\n",
              "    </tr>\n",
              "  </tbody>\n",
              "</table>\n",
              "<p>3505 rows × 1 columns</p>\n",
              "</div>"
            ],
            "text/plain": [
              "              sum\n",
              "emp comp         \n",
              "1   azalutpt    0\n",
              "    ejeyobsm    0\n",
              "    ewpvmfbc    0\n",
              "    fqsozvpv    0\n",
              "    iqdwmigj    0\n",
              "...           ...\n",
              "991 phcvroct    0\n",
              "995 phcvroct    0\n",
              "996 phcvroct    0\n",
              "997 phcvroct    1\n",
              "999 phcvroct    0\n",
              "\n",
              "[3505 rows x 1 columns]"
            ]
          },
          "metadata": {
            "tags": []
          },
          "execution_count": 571
        }
      ]
    },
    {
      "cell_type": "code",
      "metadata": {
        "colab": {
          "base_uri": "https://localhost:8080/"
        },
        "id": "RE-9lS-Uc71c",
        "outputId": "1dbe017c-a151-449e-97d7-cb5fe3744b71"
      },
      "source": [
        "train_data.nunique()"
      ],
      "execution_count": 572,
      "outputs": [
        {
          "output_type": "execute_result",
          "data": {
            "text/plain": [
              "id                3526\n",
              "emp                714\n",
              "comp                37\n",
              "lastratingdate     439\n",
              "left                 2\n",
              "dtype: int64"
            ]
          },
          "metadata": {
            "tags": []
          },
          "execution_count": 572
        }
      ]
    },
    {
      "cell_type": "code",
      "metadata": {
        "colab": {
          "base_uri": "https://localhost:8080/"
        },
        "id": "gPg2TfR_eu0T",
        "outputId": "56169bb9-1ade-494e-8089-75fbfa83a867"
      },
      "source": [
        "test_data.nunique()"
      ],
      "execution_count": 573,
      "outputs": [
        {
          "output_type": "execute_result",
          "data": {
            "text/plain": [
              "id                882\n",
              "emp               418\n",
              "comp               35\n",
              "lastratingdate    249\n",
              "dtype: int64"
            ]
          },
          "metadata": {
            "tags": []
          },
          "execution_count": 573
        }
      ]
    },
    {
      "cell_type": "markdown",
      "metadata": {
        "id": "TwDRmjnqtNNr"
      },
      "source": [
        "Checking if 'emp' is usable as a feature"
      ]
    },
    {
      "cell_type": "code",
      "metadata": {
        "id": "lVMHCnlJaBIc"
      },
      "source": [
        "train_emp_comp = train_data['emp'].astype(str) + '_' + train_data['comp']"
      ],
      "execution_count": 574,
      "outputs": []
    },
    {
      "cell_type": "code",
      "metadata": {
        "id": "9sokBACfb-T5"
      },
      "source": [
        "test_emp_comp = test_data['emp'].astype(str) + '_' + test_data['comp']"
      ],
      "execution_count": 575,
      "outputs": []
    },
    {
      "cell_type": "code",
      "metadata": {
        "colab": {
          "base_uri": "https://localhost:8080/"
        },
        "id": "_Sl-qXFEcPib",
        "outputId": "ce84bdca-3c90-424c-d51d-7cf99fd9d68b"
      },
      "source": [
        "pd.Series(train_emp_comp.unique()).isin(test_emp_comp.unique()).sum()"
      ],
      "execution_count": 576,
      "outputs": [
        {
          "output_type": "execute_result",
          "data": {
            "text/plain": [
              "13"
            ]
          },
          "metadata": {
            "tags": []
          },
          "execution_count": 576
        }
      ]
    },
    {
      "cell_type": "code",
      "metadata": {
        "colab": {
          "base_uri": "https://localhost:8080/"
        },
        "id": "1TtEWbb6chUb",
        "outputId": "2bf533a7-747c-4090-c887-be467ba0e749"
      },
      "source": [
        "pd.Series(train_data['comp'].unique()).isin(test_data['comp'].unique()).sum()"
      ],
      "execution_count": 577,
      "outputs": [
        {
          "output_type": "execute_result",
          "data": {
            "text/plain": [
              "35"
            ]
          },
          "metadata": {
            "tags": []
          },
          "execution_count": 577
        }
      ]
    },
    {
      "cell_type": "code",
      "metadata": {
        "colab": {
          "base_uri": "https://localhost:8080/"
        },
        "id": "Zw-sDQBqvw1d",
        "outputId": "cba04e82-ed2b-4b4f-9ae5-1114d6ba202b"
      },
      "source": [
        "pd.Series(train_data['emp'].unique()).isin(test_data['emp'].unique()).sum()"
      ],
      "execution_count": 578,
      "outputs": [
        {
          "output_type": "execute_result",
          "data": {
            "text/plain": [
              "344"
            ]
          },
          "metadata": {
            "tags": []
          },
          "execution_count": 578
        }
      ]
    },
    {
      "cell_type": "markdown",
      "metadata": {
        "id": "AcgwimeetZ16"
      },
      "source": [
        "And no, there is no data leak in the form of 'emp' feature.\r\n",
        "\r\n",
        "Just 13 employee-company pairs match.\r\n",
        "\r\n",
        "Also, the companies may be used as a feature when encoded."
      ]
    },
    {
      "cell_type": "code",
      "metadata": {
        "id": "XZ1QXeH-fi7L"
      },
      "source": [
        "del train_emp_comp\r\n",
        "del test_emp_comp"
      ],
      "execution_count": 579,
      "outputs": []
    },
    {
      "cell_type": "markdown",
      "metadata": {
        "id": "Mn2OijNkr-16"
      },
      "source": [
        "# Feature Engineering"
      ]
    },
    {
      "cell_type": "code",
      "metadata": {
        "colab": {
          "base_uri": "https://localhost:8080/"
        },
        "id": "vAvaQB2pgAEq",
        "outputId": "0343678e-eca2-4899-bb60-4a5888834ad8"
      },
      "source": [
        "ratings.nunique(), ratings.shape"
      ],
      "execution_count": 580,
      "outputs": [
        {
          "output_type": "execute_result",
          "data": {
            "text/plain": [
              "(emp       788\n",
              " comp       37\n",
              " Date      797\n",
              " rating      4\n",
              " dtype: int64, (221232, 4))"
            ]
          },
          "metadata": {
            "tags": []
          },
          "execution_count": 580
        }
      ]
    },
    {
      "cell_type": "markdown",
      "metadata": {
        "id": "p1hMahAVt7UT"
      },
      "source": [
        "Possible experiments with features in ratings.csv:\r\n",
        "- make feature such as number / frequency of ratings, mean of ratings for employee and company, standard deviation and variance capturing features\r\n",
        "- check if features such as last 10 or 20 ratings mean or variance turn out to be useful\r\n",
        "- check for NaN values, and choose appropriate value to fill them if they can be estimated, OR in the end, go for some default values such as -9999, 0, etc"
      ]
    },
    {
      "cell_type": "code",
      "metadata": {
        "colab": {
          "base_uri": "https://localhost:8080/",
          "height": 424
        },
        "id": "Cz-Mwtz9gmWc",
        "outputId": "6dada5a9-cfc6-4a7e-8165-414389831044"
      },
      "source": [
        "ratings_group = ratings.groupby(['emp', 'comp']).agg({'Date': 'count', 'rating': 'mean'}).reset_index(drop = False)\r\n",
        "ratings_group.rename(columns = {'Date': 'rating_freq', 'rating': 'rating_mean'}, inplace = True)\r\n",
        "ratings_group"
      ],
      "execution_count": 581,
      "outputs": [
        {
          "output_type": "execute_result",
          "data": {
            "text/html": [
              "<div>\n",
              "<style scoped>\n",
              "    .dataframe tbody tr th:only-of-type {\n",
              "        vertical-align: middle;\n",
              "    }\n",
              "\n",
              "    .dataframe tbody tr th {\n",
              "        vertical-align: top;\n",
              "    }\n",
              "\n",
              "    .dataframe thead th {\n",
              "        text-align: right;\n",
              "    }\n",
              "</style>\n",
              "<table border=\"1\" class=\"dataframe\">\n",
              "  <thead>\n",
              "    <tr style=\"text-align: right;\">\n",
              "      <th></th>\n",
              "      <th>emp</th>\n",
              "      <th>comp</th>\n",
              "      <th>rating_freq</th>\n",
              "      <th>rating_mean</th>\n",
              "    </tr>\n",
              "  </thead>\n",
              "  <tbody>\n",
              "    <tr>\n",
              "      <th>0</th>\n",
              "      <td>1</td>\n",
              "      <td>azalutpt</td>\n",
              "      <td>2</td>\n",
              "      <td>4.000000</td>\n",
              "    </tr>\n",
              "    <tr>\n",
              "      <th>1</th>\n",
              "      <td>1</td>\n",
              "      <td>ejeyobsm</td>\n",
              "      <td>181</td>\n",
              "      <td>2.917127</td>\n",
              "    </tr>\n",
              "    <tr>\n",
              "      <th>2</th>\n",
              "      <td>1</td>\n",
              "      <td>ewpvmfbc</td>\n",
              "      <td>1</td>\n",
              "      <td>3.000000</td>\n",
              "    </tr>\n",
              "    <tr>\n",
              "      <th>3</th>\n",
              "      <td>1</td>\n",
              "      <td>fqsozvpv</td>\n",
              "      <td>1</td>\n",
              "      <td>2.000000</td>\n",
              "    </tr>\n",
              "    <tr>\n",
              "      <th>4</th>\n",
              "      <td>1</td>\n",
              "      <td>iqdwmigj</td>\n",
              "      <td>56</td>\n",
              "      <td>2.464286</td>\n",
              "    </tr>\n",
              "    <tr>\n",
              "      <th>...</th>\n",
              "      <td>...</td>\n",
              "      <td>...</td>\n",
              "      <td>...</td>\n",
              "      <td>...</td>\n",
              "    </tr>\n",
              "    <tr>\n",
              "      <th>4372</th>\n",
              "      <td>991</td>\n",
              "      <td>phcvroct</td>\n",
              "      <td>1</td>\n",
              "      <td>3.000000</td>\n",
              "    </tr>\n",
              "    <tr>\n",
              "      <th>4373</th>\n",
              "      <td>995</td>\n",
              "      <td>phcvroct</td>\n",
              "      <td>6</td>\n",
              "      <td>2.666667</td>\n",
              "    </tr>\n",
              "    <tr>\n",
              "      <th>4374</th>\n",
              "      <td>996</td>\n",
              "      <td>phcvroct</td>\n",
              "      <td>20</td>\n",
              "      <td>2.450000</td>\n",
              "    </tr>\n",
              "    <tr>\n",
              "      <th>4375</th>\n",
              "      <td>997</td>\n",
              "      <td>phcvroct</td>\n",
              "      <td>1</td>\n",
              "      <td>3.000000</td>\n",
              "    </tr>\n",
              "    <tr>\n",
              "      <th>4376</th>\n",
              "      <td>999</td>\n",
              "      <td>phcvroct</td>\n",
              "      <td>20</td>\n",
              "      <td>2.850000</td>\n",
              "    </tr>\n",
              "  </tbody>\n",
              "</table>\n",
              "<p>4377 rows × 4 columns</p>\n",
              "</div>"
            ],
            "text/plain": [
              "      emp      comp  rating_freq  rating_mean\n",
              "0       1  azalutpt            2     4.000000\n",
              "1       1  ejeyobsm          181     2.917127\n",
              "2       1  ewpvmfbc            1     3.000000\n",
              "3       1  fqsozvpv            1     2.000000\n",
              "4       1  iqdwmigj           56     2.464286\n",
              "...   ...       ...          ...          ...\n",
              "4372  991  phcvroct            1     3.000000\n",
              "4373  995  phcvroct            6     2.666667\n",
              "4374  996  phcvroct           20     2.450000\n",
              "4375  997  phcvroct            1     3.000000\n",
              "4376  999  phcvroct           20     2.850000\n",
              "\n",
              "[4377 rows x 4 columns]"
            ]
          },
          "metadata": {
            "tags": []
          },
          "execution_count": 581
        }
      ]
    },
    {
      "cell_type": "code",
      "metadata": {
        "colab": {
          "base_uri": "https://localhost:8080/"
        },
        "id": "BRxYp0bQxNL1",
        "outputId": "96ab3024-64ef-4243-d08d-bceec1c66061"
      },
      "source": [
        "ratings_group.isna().sum()"
      ],
      "execution_count": 582,
      "outputs": [
        {
          "output_type": "execute_result",
          "data": {
            "text/plain": [
              "emp            0\n",
              "comp           0\n",
              "rating_freq    0\n",
              "rating_mean    0\n",
              "dtype: int64"
            ]
          },
          "metadata": {
            "tags": []
          },
          "execution_count": 582
        }
      ]
    },
    {
      "cell_type": "code",
      "metadata": {
        "colab": {
          "base_uri": "https://localhost:8080/",
          "height": 237
        },
        "id": "VSZV27mmhgcc",
        "outputId": "cc66044c-17ea-466f-e251-c3d65618a5df"
      },
      "source": [
        "ratings_comp = ratings.groupby(['comp'])['rating'].agg(['mean', 'std'])\r\n",
        "ratings_comp.rename(columns = {'mean': 'rating_comp_mean', 'std': 'rating_comp_std'}, inplace = True)\r\n",
        "ratings_comp.head()"
      ],
      "execution_count": 583,
      "outputs": [
        {
          "output_type": "execute_result",
          "data": {
            "text/html": [
              "<div>\n",
              "<style scoped>\n",
              "    .dataframe tbody tr th:only-of-type {\n",
              "        vertical-align: middle;\n",
              "    }\n",
              "\n",
              "    .dataframe tbody tr th {\n",
              "        vertical-align: top;\n",
              "    }\n",
              "\n",
              "    .dataframe thead th {\n",
              "        text-align: right;\n",
              "    }\n",
              "</style>\n",
              "<table border=\"1\" class=\"dataframe\">\n",
              "  <thead>\n",
              "    <tr style=\"text-align: right;\">\n",
              "      <th></th>\n",
              "      <th>rating_comp_mean</th>\n",
              "      <th>rating_comp_std</th>\n",
              "    </tr>\n",
              "    <tr>\n",
              "      <th>comp</th>\n",
              "      <th></th>\n",
              "      <th></th>\n",
              "    </tr>\n",
              "  </thead>\n",
              "  <tbody>\n",
              "    <tr>\n",
              "      <th>azalutpt</th>\n",
              "      <td>3.456522</td>\n",
              "      <td>0.861691</td>\n",
              "    </tr>\n",
              "    <tr>\n",
              "      <th>bhqczwkj</th>\n",
              "      <td>3.089277</td>\n",
              "      <td>0.811038</td>\n",
              "    </tr>\n",
              "    <tr>\n",
              "      <th>bnivzbfi</th>\n",
              "      <td>3.236470</td>\n",
              "      <td>0.995690</td>\n",
              "    </tr>\n",
              "    <tr>\n",
              "      <th>bucyzegb</th>\n",
              "      <td>3.396226</td>\n",
              "      <td>0.660408</td>\n",
              "    </tr>\n",
              "    <tr>\n",
              "      <th>dmgwoqhz</th>\n",
              "      <td>3.475316</td>\n",
              "      <td>0.542246</td>\n",
              "    </tr>\n",
              "  </tbody>\n",
              "</table>\n",
              "</div>"
            ],
            "text/plain": [
              "          rating_comp_mean  rating_comp_std\n",
              "comp                                       \n",
              "azalutpt          3.456522         0.861691\n",
              "bhqczwkj          3.089277         0.811038\n",
              "bnivzbfi          3.236470         0.995690\n",
              "bucyzegb          3.396226         0.660408\n",
              "dmgwoqhz          3.475316         0.542246"
            ]
          },
          "metadata": {
            "tags": []
          },
          "execution_count": 583
        }
      ]
    },
    {
      "cell_type": "code",
      "metadata": {
        "colab": {
          "base_uri": "https://localhost:8080/"
        },
        "id": "ac41Qa-hxGP2",
        "outputId": "05d19cfb-1ee5-47da-dacf-8dfaaa694930"
      },
      "source": [
        "ratings_comp.isna().sum()"
      ],
      "execution_count": 584,
      "outputs": [
        {
          "output_type": "execute_result",
          "data": {
            "text/plain": [
              "rating_comp_mean    0\n",
              "rating_comp_std     0\n",
              "dtype: int64"
            ]
          },
          "metadata": {
            "tags": []
          },
          "execution_count": 584
        }
      ]
    },
    {
      "cell_type": "code",
      "metadata": {
        "colab": {
          "base_uri": "https://localhost:8080/"
        },
        "id": "D6CF35oklbQM",
        "outputId": "88249368-7e38-4765-c480-6ccbbb5118a3"
      },
      "source": [
        "remarks.nunique(), remarks.shape"
      ],
      "execution_count": 585,
      "outputs": [
        {
          "output_type": "execute_result",
          "data": {
            "text/plain": [
              "(emp             799\n",
              " comp             36\n",
              " remarkId      41399\n",
              " txt             959\n",
              " remarkDate      775\n",
              " dtype: int64, (82756, 5))"
            ]
          },
          "metadata": {
            "tags": []
          },
          "execution_count": 585
        }
      ]
    },
    {
      "cell_type": "markdown",
      "metadata": {
        "id": "fedcvVgpvWZ1"
      },
      "source": [
        "Possible experiments for remarks.csv:\r\n",
        "- create features like text length, and subsequently mean and variance for employee and company\r\n",
        "- check for the possibility of date based features like last 10 remarks length mean or something similar\r\n",
        "- give some appropriate value to NaN"
      ]
    },
    {
      "cell_type": "code",
      "metadata": {
        "colab": {
          "base_uri": "https://localhost:8080/",
          "height": 424
        },
        "id": "H7myhL1XnCce",
        "outputId": "6d7d44e4-ccda-464e-a766-ac82cee1ad14"
      },
      "source": [
        "remarks['txt_len'] = remarks['txt'].apply(lambda x:len(str(x)))\r\n",
        "remarks"
      ],
      "execution_count": 586,
      "outputs": [
        {
          "output_type": "execute_result",
          "data": {
            "text/html": [
              "<div>\n",
              "<style scoped>\n",
              "    .dataframe tbody tr th:only-of-type {\n",
              "        vertical-align: middle;\n",
              "    }\n",
              "\n",
              "    .dataframe tbody tr th {\n",
              "        vertical-align: top;\n",
              "    }\n",
              "\n",
              "    .dataframe thead th {\n",
              "        text-align: right;\n",
              "    }\n",
              "</style>\n",
              "<table border=\"1\" class=\"dataframe\">\n",
              "  <thead>\n",
              "    <tr style=\"text-align: right;\">\n",
              "      <th></th>\n",
              "      <th>emp</th>\n",
              "      <th>comp</th>\n",
              "      <th>remarkId</th>\n",
              "      <th>txt</th>\n",
              "      <th>remarkDate</th>\n",
              "      <th>txt_len</th>\n",
              "    </tr>\n",
              "  </thead>\n",
              "  <tbody>\n",
              "    <tr>\n",
              "      <th>0</th>\n",
              "      <td>307</td>\n",
              "      <td>bnivzbfi</td>\n",
              "      <td>fvwadfrj</td>\n",
              "      <td>**********************************************...</td>\n",
              "      <td>20-03-2017</td>\n",
              "      <td>62</td>\n",
              "    </tr>\n",
              "    <tr>\n",
              "      <th>1</th>\n",
              "      <td>382</td>\n",
              "      <td>bnivzbfi</td>\n",
              "      <td>xrrfkgap</td>\n",
              "      <td>*****************************</td>\n",
              "      <td>20-03-2017</td>\n",
              "      <td>29</td>\n",
              "    </tr>\n",
              "    <tr>\n",
              "      <th>2</th>\n",
              "      <td>172</td>\n",
              "      <td>bnivzbfi</td>\n",
              "      <td>xkcrccwi</td>\n",
              "      <td>***************************</td>\n",
              "      <td>20-03-2017</td>\n",
              "      <td>27</td>\n",
              "    </tr>\n",
              "    <tr>\n",
              "      <th>3</th>\n",
              "      <td>135</td>\n",
              "      <td>bnivzbfi</td>\n",
              "      <td>lohhvtmo</td>\n",
              "      <td>***************************</td>\n",
              "      <td>20-03-2017</td>\n",
              "      <td>27</td>\n",
              "    </tr>\n",
              "    <tr>\n",
              "      <th>4</th>\n",
              "      <td>225</td>\n",
              "      <td>bnivzbfi</td>\n",
              "      <td>gpxxmoab</td>\n",
              "      <td>*********************************</td>\n",
              "      <td>20-03-2017</td>\n",
              "      <td>33</td>\n",
              "    </tr>\n",
              "    <tr>\n",
              "      <th>...</th>\n",
              "      <td>...</td>\n",
              "      <td>...</td>\n",
              "      <td>...</td>\n",
              "      <td>...</td>\n",
              "      <td>...</td>\n",
              "      <td>...</td>\n",
              "    </tr>\n",
              "    <tr>\n",
              "      <th>82751</th>\n",
              "      <td>118</td>\n",
              "      <td>wsmblohy</td>\n",
              "      <td>wuzpyizx</td>\n",
              "      <td>**********************************************...</td>\n",
              "      <td>23-02-2017</td>\n",
              "      <td>143</td>\n",
              "    </tr>\n",
              "    <tr>\n",
              "      <th>82752</th>\n",
              "      <td>-10</td>\n",
              "      <td>wsmblohy</td>\n",
              "      <td>bfcermup</td>\n",
              "      <td>*****************</td>\n",
              "      <td>23-02-2017</td>\n",
              "      <td>17</td>\n",
              "    </tr>\n",
              "    <tr>\n",
              "      <th>82753</th>\n",
              "      <td>-8</td>\n",
              "      <td>wsmblohy</td>\n",
              "      <td>swtpdrfy</td>\n",
              "      <td>**********************</td>\n",
              "      <td>22-02-2017</td>\n",
              "      <td>22</td>\n",
              "    </tr>\n",
              "    <tr>\n",
              "      <th>82754</th>\n",
              "      <td>64</td>\n",
              "      <td>wsmblohy</td>\n",
              "      <td>loxnvepy</td>\n",
              "      <td>**********************************</td>\n",
              "      <td>22-02-2017</td>\n",
              "      <td>34</td>\n",
              "    </tr>\n",
              "    <tr>\n",
              "      <th>82755</th>\n",
              "      <td>361</td>\n",
              "      <td>wsmblohy</td>\n",
              "      <td>iwzwsvic</td>\n",
              "      <td>NaN</td>\n",
              "      <td>NaN</td>\n",
              "      <td>3</td>\n",
              "    </tr>\n",
              "  </tbody>\n",
              "</table>\n",
              "<p>82756 rows × 6 columns</p>\n",
              "</div>"
            ],
            "text/plain": [
              "       emp      comp  ...  remarkDate txt_len\n",
              "0      307  bnivzbfi  ...  20-03-2017      62\n",
              "1      382  bnivzbfi  ...  20-03-2017      29\n",
              "2      172  bnivzbfi  ...  20-03-2017      27\n",
              "3      135  bnivzbfi  ...  20-03-2017      27\n",
              "4      225  bnivzbfi  ...  20-03-2017      33\n",
              "...    ...       ...  ...         ...     ...\n",
              "82751  118  wsmblohy  ...  23-02-2017     143\n",
              "82752  -10  wsmblohy  ...  23-02-2017      17\n",
              "82753   -8  wsmblohy  ...  22-02-2017      22\n",
              "82754   64  wsmblohy  ...  22-02-2017      34\n",
              "82755  361  wsmblohy  ...         NaN       3\n",
              "\n",
              "[82756 rows x 6 columns]"
            ]
          },
          "metadata": {
            "tags": []
          },
          "execution_count": 586
        }
      ]
    },
    {
      "cell_type": "code",
      "metadata": {
        "colab": {
          "base_uri": "https://localhost:8080/",
          "height": 455
        },
        "id": "_PGIar4luewL",
        "outputId": "4987ec5b-25e5-4829-d5b7-c4351baf6cef"
      },
      "source": [
        "remarks_group = remarks.groupby(['emp', 'comp'])['txt_len'].agg(['mean', 'std', 'count'])\r\n",
        "remarks_group.rename(columns = {'mean': 'txt_len_mean', 'std': 'txt_len_std', 'count': 'remark_freq'}, inplace = True)\r\n",
        "remarks_group"
      ],
      "execution_count": 587,
      "outputs": [
        {
          "output_type": "execute_result",
          "data": {
            "text/html": [
              "<div>\n",
              "<style scoped>\n",
              "    .dataframe tbody tr th:only-of-type {\n",
              "        vertical-align: middle;\n",
              "    }\n",
              "\n",
              "    .dataframe tbody tr th {\n",
              "        vertical-align: top;\n",
              "    }\n",
              "\n",
              "    .dataframe thead th {\n",
              "        text-align: right;\n",
              "    }\n",
              "</style>\n",
              "<table border=\"1\" class=\"dataframe\">\n",
              "  <thead>\n",
              "    <tr style=\"text-align: right;\">\n",
              "      <th></th>\n",
              "      <th></th>\n",
              "      <th>txt_len_mean</th>\n",
              "      <th>txt_len_std</th>\n",
              "      <th>remark_freq</th>\n",
              "    </tr>\n",
              "    <tr>\n",
              "      <th>emp</th>\n",
              "      <th>comp</th>\n",
              "      <th></th>\n",
              "      <th></th>\n",
              "      <th></th>\n",
              "    </tr>\n",
              "  </thead>\n",
              "  <tbody>\n",
              "    <tr>\n",
              "      <th>-217</th>\n",
              "      <th>phcvroct</th>\n",
              "      <td>258.000000</td>\n",
              "      <td>0.000000</td>\n",
              "      <td>2</td>\n",
              "    </tr>\n",
              "    <tr>\n",
              "      <th>-216</th>\n",
              "      <th>phcvroct</th>\n",
              "      <td>25.000000</td>\n",
              "      <td>11.419282</td>\n",
              "      <td>6</td>\n",
              "    </tr>\n",
              "    <tr>\n",
              "      <th>-214</th>\n",
              "      <th>phcvroct</th>\n",
              "      <td>4.000000</td>\n",
              "      <td>0.000000</td>\n",
              "      <td>2</td>\n",
              "    </tr>\n",
              "    <tr>\n",
              "      <th>-213</th>\n",
              "      <th>phcvroct</th>\n",
              "      <td>51.000000</td>\n",
              "      <td>0.000000</td>\n",
              "      <td>2</td>\n",
              "    </tr>\n",
              "    <tr>\n",
              "      <th>-212</th>\n",
              "      <th>phcvroct</th>\n",
              "      <td>6.000000</td>\n",
              "      <td>0.000000</td>\n",
              "      <td>2</td>\n",
              "    </tr>\n",
              "    <tr>\n",
              "      <th>...</th>\n",
              "      <th>...</th>\n",
              "      <td>...</td>\n",
              "      <td>...</td>\n",
              "      <td>...</td>\n",
              "    </tr>\n",
              "    <tr>\n",
              "      <th>968</th>\n",
              "      <th>phcvroct</th>\n",
              "      <td>24.375000</td>\n",
              "      <td>14.786818</td>\n",
              "      <td>16</td>\n",
              "    </tr>\n",
              "    <tr>\n",
              "      <th>969</th>\n",
              "      <th>phcvroct</th>\n",
              "      <td>33.500000</td>\n",
              "      <td>20.207259</td>\n",
              "      <td>4</td>\n",
              "    </tr>\n",
              "    <tr>\n",
              "      <th>970</th>\n",
              "      <th>phcvroct</th>\n",
              "      <td>211.733333</td>\n",
              "      <td>227.031964</td>\n",
              "      <td>30</td>\n",
              "    </tr>\n",
              "    <tr>\n",
              "      <th>996</th>\n",
              "      <th>phcvroct</th>\n",
              "      <td>83.666667</td>\n",
              "      <td>67.192171</td>\n",
              "      <td>12</td>\n",
              "    </tr>\n",
              "    <tr>\n",
              "      <th>999</th>\n",
              "      <th>phcvroct</th>\n",
              "      <td>132.000000</td>\n",
              "      <td>50.866773</td>\n",
              "      <td>8</td>\n",
              "    </tr>\n",
              "  </tbody>\n",
              "</table>\n",
              "<p>3219 rows × 3 columns</p>\n",
              "</div>"
            ],
            "text/plain": [
              "               txt_len_mean  txt_len_std  remark_freq\n",
              "emp  comp                                            \n",
              "-217 phcvroct    258.000000     0.000000            2\n",
              "-216 phcvroct     25.000000    11.419282            6\n",
              "-214 phcvroct      4.000000     0.000000            2\n",
              "-213 phcvroct     51.000000     0.000000            2\n",
              "-212 phcvroct      6.000000     0.000000            2\n",
              "...                     ...          ...          ...\n",
              " 968 phcvroct     24.375000    14.786818           16\n",
              " 969 phcvroct     33.500000    20.207259            4\n",
              " 970 phcvroct    211.733333   227.031964           30\n",
              " 996 phcvroct     83.666667    67.192171           12\n",
              " 999 phcvroct    132.000000    50.866773            8\n",
              "\n",
              "[3219 rows x 3 columns]"
            ]
          },
          "metadata": {
            "tags": []
          },
          "execution_count": 587
        }
      ]
    },
    {
      "cell_type": "code",
      "metadata": {
        "colab": {
          "base_uri": "https://localhost:8080/"
        },
        "id": "0TAR6rR2umt1",
        "outputId": "c8c23ff7-4f2d-4305-c335-432cc7fe87d0"
      },
      "source": [
        "remarks_group.isna().sum()"
      ],
      "execution_count": 588,
      "outputs": [
        {
          "output_type": "execute_result",
          "data": {
            "text/plain": [
              "txt_len_mean     0\n",
              "txt_len_std     26\n",
              "remark_freq      0\n",
              "dtype: int64"
            ]
          },
          "metadata": {
            "tags": []
          },
          "execution_count": 588
        }
      ]
    },
    {
      "cell_type": "markdown",
      "metadata": {
        "id": "GjjOzn4IwBc6"
      },
      "source": [
        "Possible experiments for remarks_supp_opp.csv:\r\n",
        "- make oppose and support sum feature for a remark and an employee\r\n",
        "- check for a ratio type feature for support and oppose"
      ]
    },
    {
      "cell_type": "code",
      "metadata": {
        "colab": {
          "base_uri": "https://localhost:8080/",
          "height": 455
        },
        "id": "aHAJuViTxVaF",
        "outputId": "b9788f5e-fb7c-46fc-8120-800bd85db903"
      },
      "source": [
        "sum_boolean = lambda x:sum(x.astype(float))\r\n",
        "remarks_supp_group = remarks_supp.groupby(['emp', 'comp']).agg({'support': sum_boolean, 'oppose': sum_boolean})\r\n",
        "remarks_supp_group"
      ],
      "execution_count": 589,
      "outputs": [
        {
          "output_type": "execute_result",
          "data": {
            "text/html": [
              "<div>\n",
              "<style scoped>\n",
              "    .dataframe tbody tr th:only-of-type {\n",
              "        vertical-align: middle;\n",
              "    }\n",
              "\n",
              "    .dataframe tbody tr th {\n",
              "        vertical-align: top;\n",
              "    }\n",
              "\n",
              "    .dataframe thead th {\n",
              "        text-align: right;\n",
              "    }\n",
              "</style>\n",
              "<table border=\"1\" class=\"dataframe\">\n",
              "  <thead>\n",
              "    <tr style=\"text-align: right;\">\n",
              "      <th></th>\n",
              "      <th></th>\n",
              "      <th>support</th>\n",
              "      <th>oppose</th>\n",
              "    </tr>\n",
              "    <tr>\n",
              "      <th>emp</th>\n",
              "      <th>comp</th>\n",
              "      <th></th>\n",
              "      <th></th>\n",
              "    </tr>\n",
              "  </thead>\n",
              "  <tbody>\n",
              "    <tr>\n",
              "      <th>-218</th>\n",
              "      <th>phcvroct</th>\n",
              "      <td>1.0</td>\n",
              "      <td>0.0</td>\n",
              "    </tr>\n",
              "    <tr>\n",
              "      <th>-216</th>\n",
              "      <th>phcvroct</th>\n",
              "      <td>5.0</td>\n",
              "      <td>0.0</td>\n",
              "    </tr>\n",
              "    <tr>\n",
              "      <th>-215</th>\n",
              "      <th>phcvroct</th>\n",
              "      <td>1.0</td>\n",
              "      <td>0.0</td>\n",
              "    </tr>\n",
              "    <tr>\n",
              "      <th>-211</th>\n",
              "      <th>phcvroct</th>\n",
              "      <td>25.0</td>\n",
              "      <td>0.0</td>\n",
              "    </tr>\n",
              "    <tr>\n",
              "      <th>-210</th>\n",
              "      <th>phcvroct</th>\n",
              "      <td>2.0</td>\n",
              "      <td>0.0</td>\n",
              "    </tr>\n",
              "    <tr>\n",
              "      <th>...</th>\n",
              "      <th>...</th>\n",
              "      <td>...</td>\n",
              "      <td>...</td>\n",
              "    </tr>\n",
              "    <tr>\n",
              "      <th>969</th>\n",
              "      <th>phcvroct</th>\n",
              "      <td>12.0</td>\n",
              "      <td>2.0</td>\n",
              "    </tr>\n",
              "    <tr>\n",
              "      <th>970</th>\n",
              "      <th>phcvroct</th>\n",
              "      <td>192.0</td>\n",
              "      <td>11.0</td>\n",
              "    </tr>\n",
              "    <tr>\n",
              "      <th>991</th>\n",
              "      <th>phcvroct</th>\n",
              "      <td>1.0</td>\n",
              "      <td>0.0</td>\n",
              "    </tr>\n",
              "    <tr>\n",
              "      <th>996</th>\n",
              "      <th>phcvroct</th>\n",
              "      <td>20.0</td>\n",
              "      <td>2.0</td>\n",
              "    </tr>\n",
              "    <tr>\n",
              "      <th>999</th>\n",
              "      <th>phcvroct</th>\n",
              "      <td>1.0</td>\n",
              "      <td>1.0</td>\n",
              "    </tr>\n",
              "  </tbody>\n",
              "</table>\n",
              "<p>3517 rows × 2 columns</p>\n",
              "</div>"
            ],
            "text/plain": [
              "               support  oppose\n",
              "emp  comp                     \n",
              "-218 phcvroct      1.0     0.0\n",
              "-216 phcvroct      5.0     0.0\n",
              "-215 phcvroct      1.0     0.0\n",
              "-211 phcvroct     25.0     0.0\n",
              "-210 phcvroct      2.0     0.0\n",
              "...                ...     ...\n",
              " 969 phcvroct     12.0     2.0\n",
              " 970 phcvroct    192.0    11.0\n",
              " 991 phcvroct      1.0     0.0\n",
              " 996 phcvroct     20.0     2.0\n",
              " 999 phcvroct      1.0     1.0\n",
              "\n",
              "[3517 rows x 2 columns]"
            ]
          },
          "metadata": {
            "tags": []
          },
          "execution_count": 589
        }
      ]
    },
    {
      "cell_type": "code",
      "metadata": {
        "colab": {
          "base_uri": "https://localhost:8080/"
        },
        "id": "-baJ9FPzyFIV",
        "outputId": "eac87441-885c-4313-c723-80601fb6c516"
      },
      "source": [
        "remarks_supp_group.isna().sum()"
      ],
      "execution_count": 590,
      "outputs": [
        {
          "output_type": "execute_result",
          "data": {
            "text/plain": [
              "support    1\n",
              "oppose     1\n",
              "dtype: int64"
            ]
          },
          "metadata": {
            "tags": []
          },
          "execution_count": 590
        }
      ]
    },
    {
      "cell_type": "markdown",
      "metadata": {
        "id": "5wZa7xAJsRx-"
      },
      "source": [
        "# Preprocessing the data"
      ]
    },
    {
      "cell_type": "markdown",
      "metadata": {
        "id": "Q3Z8nnHSy5tD"
      },
      "source": [
        "Merging the datasets to form train_data, and test_data (for Kaggle)"
      ]
    },
    {
      "cell_type": "code",
      "metadata": {
        "id": "DwIgsLJqyd01"
      },
      "source": [
        "train_data_new = train_data.merge(ratings_group, on = ['emp', 'comp'], how = 'left')\r\n",
        "train_data_new = train_data_new.merge(remarks_group, on = ['emp', 'comp'], how = 'left')\r\n",
        "train_data_new = train_data_new.merge(remarks_supp_group, on = ['emp', 'comp'], how = 'left')\r\n",
        "\r\n",
        "train_data_new = train_data_new.merge(ratings_comp, on = ['comp'], how = 'left')"
      ],
      "execution_count": 591,
      "outputs": []
    },
    {
      "cell_type": "code",
      "metadata": {
        "colab": {
          "base_uri": "https://localhost:8080/",
          "height": 424
        },
        "id": "Fe4dY3LAzl32",
        "outputId": "f35abc27-dc02-47a1-bedd-9f962e7811c5"
      },
      "source": [
        "train_data_new"
      ],
      "execution_count": 592,
      "outputs": [
        {
          "output_type": "execute_result",
          "data": {
            "text/html": [
              "<div>\n",
              "<style scoped>\n",
              "    .dataframe tbody tr th:only-of-type {\n",
              "        vertical-align: middle;\n",
              "    }\n",
              "\n",
              "    .dataframe tbody tr th {\n",
              "        vertical-align: top;\n",
              "    }\n",
              "\n",
              "    .dataframe thead th {\n",
              "        text-align: right;\n",
              "    }\n",
              "</style>\n",
              "<table border=\"1\" class=\"dataframe\">\n",
              "  <thead>\n",
              "    <tr style=\"text-align: right;\">\n",
              "      <th></th>\n",
              "      <th>id</th>\n",
              "      <th>emp</th>\n",
              "      <th>comp</th>\n",
              "      <th>lastratingdate</th>\n",
              "      <th>left</th>\n",
              "      <th>rating_freq</th>\n",
              "      <th>rating_mean</th>\n",
              "      <th>txt_len_mean</th>\n",
              "      <th>txt_len_std</th>\n",
              "      <th>remark_freq</th>\n",
              "      <th>support</th>\n",
              "      <th>oppose</th>\n",
              "      <th>rating_comp_mean</th>\n",
              "      <th>rating_comp_std</th>\n",
              "    </tr>\n",
              "  </thead>\n",
              "  <tbody>\n",
              "    <tr>\n",
              "      <th>0</th>\n",
              "      <td>2228</td>\n",
              "      <td>939</td>\n",
              "      <td>phcvroct</td>\n",
              "      <td>17-10-2016</td>\n",
              "      <td>1</td>\n",
              "      <td>1</td>\n",
              "      <td>3.000000</td>\n",
              "      <td>NaN</td>\n",
              "      <td>NaN</td>\n",
              "      <td>NaN</td>\n",
              "      <td>NaN</td>\n",
              "      <td>NaN</td>\n",
              "      <td>2.591810</td>\n",
              "      <td>1.092626</td>\n",
              "    </tr>\n",
              "    <tr>\n",
              "      <th>1</th>\n",
              "      <td>4349</td>\n",
              "      <td>250</td>\n",
              "      <td>jblrepyr</td>\n",
              "      <td>19-03-2017</td>\n",
              "      <td>0</td>\n",
              "      <td>112</td>\n",
              "      <td>3.767857</td>\n",
              "      <td>136.326923</td>\n",
              "      <td>140.368824</td>\n",
              "      <td>104.0</td>\n",
              "      <td>233.0</td>\n",
              "      <td>29.0</td>\n",
              "      <td>3.028743</td>\n",
              "      <td>0.860911</td>\n",
              "    </tr>\n",
              "    <tr>\n",
              "      <th>2</th>\n",
              "      <td>945</td>\n",
              "      <td>134</td>\n",
              "      <td>ewpvmfbc</td>\n",
              "      <td>21-09-2016</td>\n",
              "      <td>0</td>\n",
              "      <td>26</td>\n",
              "      <td>2.923077</td>\n",
              "      <td>45.800000</td>\n",
              "      <td>13.717791</td>\n",
              "      <td>10.0</td>\n",
              "      <td>32.0</td>\n",
              "      <td>0.0</td>\n",
              "      <td>2.643531</td>\n",
              "      <td>0.885298</td>\n",
              "    </tr>\n",
              "    <tr>\n",
              "      <th>3</th>\n",
              "      <td>4553</td>\n",
              "      <td>164</td>\n",
              "      <td>wsmblohy</td>\n",
              "      <td>17-03-2017</td>\n",
              "      <td>0</td>\n",
              "      <td>17</td>\n",
              "      <td>2.411765</td>\n",
              "      <td>21.200000</td>\n",
              "      <td>21.222629</td>\n",
              "      <td>10.0</td>\n",
              "      <td>19.0</td>\n",
              "      <td>1.0</td>\n",
              "      <td>2.763706</td>\n",
              "      <td>0.865561</td>\n",
              "    </tr>\n",
              "    <tr>\n",
              "      <th>4</th>\n",
              "      <td>941</td>\n",
              "      <td>129</td>\n",
              "      <td>ewpvmfbc</td>\n",
              "      <td>04-04-2016</td>\n",
              "      <td>0</td>\n",
              "      <td>5</td>\n",
              "      <td>2.800000</td>\n",
              "      <td>75.000000</td>\n",
              "      <td>25.403412</td>\n",
              "      <td>4.0</td>\n",
              "      <td>7.0</td>\n",
              "      <td>1.0</td>\n",
              "      <td>2.643531</td>\n",
              "      <td>0.885298</td>\n",
              "    </tr>\n",
              "    <tr>\n",
              "      <th>...</th>\n",
              "      <td>...</td>\n",
              "      <td>...</td>\n",
              "      <td>...</td>\n",
              "      <td>...</td>\n",
              "      <td>...</td>\n",
              "      <td>...</td>\n",
              "      <td>...</td>\n",
              "      <td>...</td>\n",
              "      <td>...</td>\n",
              "      <td>...</td>\n",
              "      <td>...</td>\n",
              "      <td>...</td>\n",
              "      <td>...</td>\n",
              "      <td>...</td>\n",
              "    </tr>\n",
              "    <tr>\n",
              "      <th>3521</th>\n",
              "      <td>783</td>\n",
              "      <td>87</td>\n",
              "      <td>ocsicwng</td>\n",
              "      <td>20-03-2017</td>\n",
              "      <td>0</td>\n",
              "      <td>71</td>\n",
              "      <td>2.901408</td>\n",
              "      <td>74.444444</td>\n",
              "      <td>71.168584</td>\n",
              "      <td>18.0</td>\n",
              "      <td>22.0</td>\n",
              "      <td>5.0</td>\n",
              "      <td>2.855814</td>\n",
              "      <td>0.966641</td>\n",
              "    </tr>\n",
              "    <tr>\n",
              "      <th>3522</th>\n",
              "      <td>3655</td>\n",
              "      <td>14</td>\n",
              "      <td>jnvpfmup</td>\n",
              "      <td>17-03-2017</td>\n",
              "      <td>0</td>\n",
              "      <td>12</td>\n",
              "      <td>3.083333</td>\n",
              "      <td>28.500000</td>\n",
              "      <td>24.826062</td>\n",
              "      <td>4.0</td>\n",
              "      <td>4.0</td>\n",
              "      <td>1.0</td>\n",
              "      <td>3.148148</td>\n",
              "      <td>0.741178</td>\n",
              "    </tr>\n",
              "    <tr>\n",
              "      <th>3523</th>\n",
              "      <td>1460</td>\n",
              "      <td>53</td>\n",
              "      <td>xccmgbjz</td>\n",
              "      <td>09-03-2017</td>\n",
              "      <td>0</td>\n",
              "      <td>2</td>\n",
              "      <td>3.000000</td>\n",
              "      <td>NaN</td>\n",
              "      <td>NaN</td>\n",
              "      <td>NaN</td>\n",
              "      <td>NaN</td>\n",
              "      <td>NaN</td>\n",
              "      <td>3.509695</td>\n",
              "      <td>0.695171</td>\n",
              "    </tr>\n",
              "    <tr>\n",
              "      <th>3524</th>\n",
              "      <td>842</td>\n",
              "      <td>168</td>\n",
              "      <td>ocsicwng</td>\n",
              "      <td>01-03-2017</td>\n",
              "      <td>0</td>\n",
              "      <td>12</td>\n",
              "      <td>3.166667</td>\n",
              "      <td>82.333333</td>\n",
              "      <td>27.804076</td>\n",
              "      <td>6.0</td>\n",
              "      <td>NaN</td>\n",
              "      <td>NaN</td>\n",
              "      <td>2.855814</td>\n",
              "      <td>0.966641</td>\n",
              "    </tr>\n",
              "    <tr>\n",
              "      <th>3525</th>\n",
              "      <td>3236</td>\n",
              "      <td>204</td>\n",
              "      <td>siexkzzo</td>\n",
              "      <td>20-03-2017</td>\n",
              "      <td>0</td>\n",
              "      <td>30</td>\n",
              "      <td>3.033333</td>\n",
              "      <td>NaN</td>\n",
              "      <td>NaN</td>\n",
              "      <td>NaN</td>\n",
              "      <td>24.0</td>\n",
              "      <td>4.0</td>\n",
              "      <td>2.633187</td>\n",
              "      <td>0.934324</td>\n",
              "    </tr>\n",
              "  </tbody>\n",
              "</table>\n",
              "<p>3526 rows × 14 columns</p>\n",
              "</div>"
            ],
            "text/plain": [
              "        id  emp      comp  ... oppose  rating_comp_mean  rating_comp_std\n",
              "0     2228  939  phcvroct  ...    NaN          2.591810         1.092626\n",
              "1     4349  250  jblrepyr  ...   29.0          3.028743         0.860911\n",
              "2      945  134  ewpvmfbc  ...    0.0          2.643531         0.885298\n",
              "3     4553  164  wsmblohy  ...    1.0          2.763706         0.865561\n",
              "4      941  129  ewpvmfbc  ...    1.0          2.643531         0.885298\n",
              "...    ...  ...       ...  ...    ...               ...              ...\n",
              "3521   783   87  ocsicwng  ...    5.0          2.855814         0.966641\n",
              "3522  3655   14  jnvpfmup  ...    1.0          3.148148         0.741178\n",
              "3523  1460   53  xccmgbjz  ...    NaN          3.509695         0.695171\n",
              "3524   842  168  ocsicwng  ...    NaN          2.855814         0.966641\n",
              "3525  3236  204  siexkzzo  ...    4.0          2.633187         0.934324\n",
              "\n",
              "[3526 rows x 14 columns]"
            ]
          },
          "metadata": {
            "tags": []
          },
          "execution_count": 592
        }
      ]
    },
    {
      "cell_type": "code",
      "metadata": {
        "colab": {
          "base_uri": "https://localhost:8080/"
        },
        "id": "sgnikf1IzvhV",
        "outputId": "4b32daea-b425-44f4-93c9-d10656cfc730"
      },
      "source": [
        "train_data_new.isna().sum()"
      ],
      "execution_count": 593,
      "outputs": [
        {
          "output_type": "execute_result",
          "data": {
            "text/plain": [
              "id                     0\n",
              "emp                    0\n",
              "comp                   0\n",
              "lastratingdate         0\n",
              "left                   0\n",
              "rating_freq            0\n",
              "rating_mean            0\n",
              "txt_len_mean        1200\n",
              "txt_len_std         1213\n",
              "remark_freq         1200\n",
              "support             1006\n",
              "oppose              1006\n",
              "rating_comp_mean       0\n",
              "rating_comp_std        0\n",
              "dtype: int64"
            ]
          },
          "metadata": {
            "tags": []
          },
          "execution_count": 593
        }
      ]
    },
    {
      "cell_type": "code",
      "metadata": {
        "colab": {
          "base_uri": "https://localhost:8080/"
        },
        "id": "GEKfHqYw0UGF",
        "outputId": "45b5d23c-ab1e-42a3-b868-8310d125c528"
      },
      "source": [
        "train_data_new.corr()['left']"
      ],
      "execution_count": 594,
      "outputs": [
        {
          "output_type": "execute_result",
          "data": {
            "text/plain": [
              "id                 -0.188754\n",
              "emp                 0.145559\n",
              "left                1.000000\n",
              "rating_freq        -0.044714\n",
              "rating_mean        -0.058465\n",
              "txt_len_mean        0.015386\n",
              "txt_len_std         0.046474\n",
              "remark_freq         0.069445\n",
              "support             0.053945\n",
              "oppose              0.047473\n",
              "rating_comp_mean   -0.128823\n",
              "rating_comp_std     0.199385\n",
              "Name: left, dtype: float64"
            ]
          },
          "metadata": {
            "tags": []
          },
          "execution_count": 594
        }
      ]
    },
    {
      "cell_type": "code",
      "metadata": {
        "id": "Zy02rlJT07LG"
      },
      "source": [
        "test_data_new = test_data.merge(ratings_group, on = ['emp', 'comp'], how = 'left')\r\n",
        "test_data_new = test_data_new.merge(remarks_group, on = ['emp', 'comp'], how = 'left')\r\n",
        "test_data_new = test_data_new.merge(remarks_supp_group, on = ['emp', 'comp'], how = 'left')\r\n",
        "\r\n",
        "test_data_new = test_data_new.merge(ratings_comp, on = ['comp'], how = 'left')"
      ],
      "execution_count": 595,
      "outputs": []
    },
    {
      "cell_type": "code",
      "metadata": {
        "colab": {
          "base_uri": "https://localhost:8080/",
          "height": 424
        },
        "id": "kfD025pe1ckm",
        "outputId": "566788a6-e8e0-4010-daa1-60104c7a4144"
      },
      "source": [
        "test_data_new"
      ],
      "execution_count": 596,
      "outputs": [
        {
          "output_type": "execute_result",
          "data": {
            "text/html": [
              "<div>\n",
              "<style scoped>\n",
              "    .dataframe tbody tr th:only-of-type {\n",
              "        vertical-align: middle;\n",
              "    }\n",
              "\n",
              "    .dataframe tbody tr th {\n",
              "        vertical-align: top;\n",
              "    }\n",
              "\n",
              "    .dataframe thead th {\n",
              "        text-align: right;\n",
              "    }\n",
              "</style>\n",
              "<table border=\"1\" class=\"dataframe\">\n",
              "  <thead>\n",
              "    <tr style=\"text-align: right;\">\n",
              "      <th></th>\n",
              "      <th>id</th>\n",
              "      <th>emp</th>\n",
              "      <th>comp</th>\n",
              "      <th>lastratingdate</th>\n",
              "      <th>rating_freq</th>\n",
              "      <th>rating_mean</th>\n",
              "      <th>txt_len_mean</th>\n",
              "      <th>txt_len_std</th>\n",
              "      <th>remark_freq</th>\n",
              "      <th>support</th>\n",
              "      <th>oppose</th>\n",
              "      <th>rating_comp_mean</th>\n",
              "      <th>rating_comp_std</th>\n",
              "    </tr>\n",
              "  </thead>\n",
              "  <tbody>\n",
              "    <tr>\n",
              "      <th>0</th>\n",
              "      <td>353</td>\n",
              "      <td>509</td>\n",
              "      <td>bnivzbfi</td>\n",
              "      <td>20-03-2017</td>\n",
              "      <td>43</td>\n",
              "      <td>4.000000</td>\n",
              "      <td>86.000000</td>\n",
              "      <td>6.449806</td>\n",
              "      <td>6.0</td>\n",
              "      <td>75.0</td>\n",
              "      <td>2.0</td>\n",
              "      <td>3.236470</td>\n",
              "      <td>0.995690</td>\n",
              "    </tr>\n",
              "    <tr>\n",
              "      <th>1</th>\n",
              "      <td>732</td>\n",
              "      <td>22</td>\n",
              "      <td>ocsicwng</td>\n",
              "      <td>17-03-2017</td>\n",
              "      <td>69</td>\n",
              "      <td>2.130435</td>\n",
              "      <td>43.800000</td>\n",
              "      <td>35.791992</td>\n",
              "      <td>10.0</td>\n",
              "      <td>82.0</td>\n",
              "      <td>6.0</td>\n",
              "      <td>2.855814</td>\n",
              "      <td>0.966641</td>\n",
              "    </tr>\n",
              "    <tr>\n",
              "      <th>2</th>\n",
              "      <td>3076</td>\n",
              "      <td>2</td>\n",
              "      <td>siexkzzo</td>\n",
              "      <td>09-01-2017</td>\n",
              "      <td>18</td>\n",
              "      <td>2.444444</td>\n",
              "      <td>NaN</td>\n",
              "      <td>NaN</td>\n",
              "      <td>NaN</td>\n",
              "      <td>19.0</td>\n",
              "      <td>8.0</td>\n",
              "      <td>2.633187</td>\n",
              "      <td>0.934324</td>\n",
              "    </tr>\n",
              "    <tr>\n",
              "      <th>3</th>\n",
              "      <td>2199</td>\n",
              "      <td>885</td>\n",
              "      <td>phcvroct</td>\n",
              "      <td>01-10-2016</td>\n",
              "      <td>83</td>\n",
              "      <td>2.831325</td>\n",
              "      <td>67.500000</td>\n",
              "      <td>40.991869</td>\n",
              "      <td>4.0</td>\n",
              "      <td>205.0</td>\n",
              "      <td>7.0</td>\n",
              "      <td>2.591810</td>\n",
              "      <td>1.092626</td>\n",
              "    </tr>\n",
              "    <tr>\n",
              "      <th>4</th>\n",
              "      <td>2145</td>\n",
              "      <td>756</td>\n",
              "      <td>phcvroct</td>\n",
              "      <td>06-02-2017</td>\n",
              "      <td>9</td>\n",
              "      <td>2.111111</td>\n",
              "      <td>78.000000</td>\n",
              "      <td>0.000000</td>\n",
              "      <td>2.0</td>\n",
              "      <td>7.0</td>\n",
              "      <td>0.0</td>\n",
              "      <td>2.591810</td>\n",
              "      <td>1.092626</td>\n",
              "    </tr>\n",
              "    <tr>\n",
              "      <th>...</th>\n",
              "      <td>...</td>\n",
              "      <td>...</td>\n",
              "      <td>...</td>\n",
              "      <td>...</td>\n",
              "      <td>...</td>\n",
              "      <td>...</td>\n",
              "      <td>...</td>\n",
              "      <td>...</td>\n",
              "      <td>...</td>\n",
              "      <td>...</td>\n",
              "      <td>...</td>\n",
              "      <td>...</td>\n",
              "      <td>...</td>\n",
              "    </tr>\n",
              "    <tr>\n",
              "      <th>877</th>\n",
              "      <td>4022</td>\n",
              "      <td>36</td>\n",
              "      <td>ydqdpmvi</td>\n",
              "      <td>05-10-2016</td>\n",
              "      <td>74</td>\n",
              "      <td>2.662162</td>\n",
              "      <td>26.000000</td>\n",
              "      <td>0.000000</td>\n",
              "      <td>2.0</td>\n",
              "      <td>47.0</td>\n",
              "      <td>1.0</td>\n",
              "      <td>2.878524</td>\n",
              "      <td>0.724472</td>\n",
              "    </tr>\n",
              "    <tr>\n",
              "      <th>878</th>\n",
              "      <td>3397</td>\n",
              "      <td>30</td>\n",
              "      <td>fqsozvpv</td>\n",
              "      <td>14-03-2017</td>\n",
              "      <td>2</td>\n",
              "      <td>4.000000</td>\n",
              "      <td>72.000000</td>\n",
              "      <td>47.342722</td>\n",
              "      <td>4.0</td>\n",
              "      <td>11.0</td>\n",
              "      <td>0.0</td>\n",
              "      <td>2.777778</td>\n",
              "      <td>1.038679</td>\n",
              "    </tr>\n",
              "    <tr>\n",
              "      <th>879</th>\n",
              "      <td>1028</td>\n",
              "      <td>15</td>\n",
              "      <td>rujnkvse</td>\n",
              "      <td>30-01-2017</td>\n",
              "      <td>4</td>\n",
              "      <td>3.250000</td>\n",
              "      <td>NaN</td>\n",
              "      <td>NaN</td>\n",
              "      <td>NaN</td>\n",
              "      <td>NaN</td>\n",
              "      <td>NaN</td>\n",
              "      <td>2.690715</td>\n",
              "      <td>0.997926</td>\n",
              "    </tr>\n",
              "    <tr>\n",
              "      <th>880</th>\n",
              "      <td>3179</td>\n",
              "      <td>127</td>\n",
              "      <td>siexkzzo</td>\n",
              "      <td>17-03-2017</td>\n",
              "      <td>27</td>\n",
              "      <td>2.814815</td>\n",
              "      <td>NaN</td>\n",
              "      <td>NaN</td>\n",
              "      <td>NaN</td>\n",
              "      <td>12.0</td>\n",
              "      <td>8.0</td>\n",
              "      <td>2.633187</td>\n",
              "      <td>0.934324</td>\n",
              "    </tr>\n",
              "    <tr>\n",
              "      <th>881</th>\n",
              "      <td>1535</td>\n",
              "      <td>34</td>\n",
              "      <td>phcvroct</td>\n",
              "      <td>14-07-2016</td>\n",
              "      <td>456</td>\n",
              "      <td>2.421053</td>\n",
              "      <td>165.821053</td>\n",
              "      <td>162.395557</td>\n",
              "      <td>190.0</td>\n",
              "      <td>2256.0</td>\n",
              "      <td>192.0</td>\n",
              "      <td>2.591810</td>\n",
              "      <td>1.092626</td>\n",
              "    </tr>\n",
              "  </tbody>\n",
              "</table>\n",
              "<p>882 rows × 13 columns</p>\n",
              "</div>"
            ],
            "text/plain": [
              "       id  emp      comp  ... oppose  rating_comp_mean  rating_comp_std\n",
              "0     353  509  bnivzbfi  ...    2.0          3.236470         0.995690\n",
              "1     732   22  ocsicwng  ...    6.0          2.855814         0.966641\n",
              "2    3076    2  siexkzzo  ...    8.0          2.633187         0.934324\n",
              "3    2199  885  phcvroct  ...    7.0          2.591810         1.092626\n",
              "4    2145  756  phcvroct  ...    0.0          2.591810         1.092626\n",
              "..    ...  ...       ...  ...    ...               ...              ...\n",
              "877  4022   36  ydqdpmvi  ...    1.0          2.878524         0.724472\n",
              "878  3397   30  fqsozvpv  ...    0.0          2.777778         1.038679\n",
              "879  1028   15  rujnkvse  ...    NaN          2.690715         0.997926\n",
              "880  3179  127  siexkzzo  ...    8.0          2.633187         0.934324\n",
              "881  1535   34  phcvroct  ...  192.0          2.591810         1.092626\n",
              "\n",
              "[882 rows x 13 columns]"
            ]
          },
          "metadata": {
            "tags": []
          },
          "execution_count": 596
        }
      ]
    },
    {
      "cell_type": "code",
      "metadata": {
        "colab": {
          "base_uri": "https://localhost:8080/"
        },
        "id": "EML1-CVN1f2W",
        "outputId": "2403968e-b2b8-495e-f017-4edd645db72f"
      },
      "source": [
        "test_data_new.isna().sum()"
      ],
      "execution_count": 597,
      "outputs": [
        {
          "output_type": "execute_result",
          "data": {
            "text/plain": [
              "id                    0\n",
              "emp                   0\n",
              "comp                  0\n",
              "lastratingdate        0\n",
              "rating_freq           0\n",
              "rating_mean           0\n",
              "txt_len_mean        296\n",
              "txt_len_std         302\n",
              "remark_freq         296\n",
              "support             230\n",
              "oppose              230\n",
              "rating_comp_mean      0\n",
              "rating_comp_std       0\n",
              "dtype: int64"
            ]
          },
          "metadata": {
            "tags": []
          },
          "execution_count": 597
        }
      ]
    },
    {
      "cell_type": "markdown",
      "metadata": {
        "id": "y6n6uKxPzJEM"
      },
      "source": [
        "The NaN ratio is fairly consistent between train_data and test_data. This might be onto something??"
      ]
    },
    {
      "cell_type": "code",
      "metadata": {
        "colab": {
          "base_uri": "https://localhost:8080/"
        },
        "id": "gjnjJs0X1_qO",
        "outputId": "8c6e0b6a-578c-49e0-b93c-f3cae1ef975d"
      },
      "source": [
        "train_data_new.isna().sum()['support'] / train_data_new.shape[0]"
      ],
      "execution_count": 598,
      "outputs": [
        {
          "output_type": "execute_result",
          "data": {
            "text/plain": [
              "0.28530913216108905"
            ]
          },
          "metadata": {
            "tags": []
          },
          "execution_count": 598
        }
      ]
    },
    {
      "cell_type": "code",
      "metadata": {
        "colab": {
          "base_uri": "https://localhost:8080/"
        },
        "id": "uzUhbDDx1_Vp",
        "outputId": "df2592d2-e7b5-4768-9762-c27783b096ce"
      },
      "source": [
        "train_data_new.isna().sum()['txt_len_std'] / train_data_new.shape[0]"
      ],
      "execution_count": 599,
      "outputs": [
        {
          "output_type": "execute_result",
          "data": {
            "text/plain": [
              "0.3440158820192853"
            ]
          },
          "metadata": {
            "tags": []
          },
          "execution_count": 599
        }
      ]
    },
    {
      "cell_type": "code",
      "metadata": {
        "colab": {
          "base_uri": "https://localhost:8080/"
        },
        "id": "q4wt6NgZ1kxW",
        "outputId": "cdcf2229-1b88-40ca-8554-3aac00bc781e"
      },
      "source": [
        "test_data_new.isna().sum()['support'] / test_data_new.shape[0]"
      ],
      "execution_count": 600,
      "outputs": [
        {
          "output_type": "execute_result",
          "data": {
            "text/plain": [
              "0.26077097505668934"
            ]
          },
          "metadata": {
            "tags": []
          },
          "execution_count": 600
        }
      ]
    },
    {
      "cell_type": "code",
      "metadata": {
        "colab": {
          "base_uri": "https://localhost:8080/"
        },
        "id": "XoJs_5Yf1-kW",
        "outputId": "6543cce3-c98c-437b-e25f-f3025b10db0e"
      },
      "source": [
        "test_data_new.isna().sum()['txt_len_std'] / test_data_new.shape[0]"
      ],
      "execution_count": 601,
      "outputs": [
        {
          "output_type": "execute_result",
          "data": {
            "text/plain": [
              "0.3424036281179138"
            ]
          },
          "metadata": {
            "tags": []
          },
          "execution_count": 601
        }
      ]
    },
    {
      "cell_type": "code",
      "metadata": {
        "id": "wItFtcfC2GEV"
      },
      "source": [
        "train_data_new['flag'] = 'train_data'\r\n",
        "test_data_new['flag'] = 'test_data'"
      ],
      "execution_count": 602,
      "outputs": []
    },
    {
      "cell_type": "code",
      "metadata": {
        "colab": {
          "base_uri": "https://localhost:8080/",
          "height": 444
        },
        "id": "ebQ0GDuB2pX2",
        "outputId": "f2466a2d-ff61-48de-a80d-c40874280467"
      },
      "source": [
        "all_data = pd.concat([train_data_new, test_data_new]).reset_index(drop = True)\r\n",
        "all_data"
      ],
      "execution_count": 603,
      "outputs": [
        {
          "output_type": "execute_result",
          "data": {
            "text/html": [
              "<div>\n",
              "<style scoped>\n",
              "    .dataframe tbody tr th:only-of-type {\n",
              "        vertical-align: middle;\n",
              "    }\n",
              "\n",
              "    .dataframe tbody tr th {\n",
              "        vertical-align: top;\n",
              "    }\n",
              "\n",
              "    .dataframe thead th {\n",
              "        text-align: right;\n",
              "    }\n",
              "</style>\n",
              "<table border=\"1\" class=\"dataframe\">\n",
              "  <thead>\n",
              "    <tr style=\"text-align: right;\">\n",
              "      <th></th>\n",
              "      <th>id</th>\n",
              "      <th>emp</th>\n",
              "      <th>comp</th>\n",
              "      <th>lastratingdate</th>\n",
              "      <th>left</th>\n",
              "      <th>rating_freq</th>\n",
              "      <th>rating_mean</th>\n",
              "      <th>txt_len_mean</th>\n",
              "      <th>txt_len_std</th>\n",
              "      <th>remark_freq</th>\n",
              "      <th>support</th>\n",
              "      <th>oppose</th>\n",
              "      <th>rating_comp_mean</th>\n",
              "      <th>rating_comp_std</th>\n",
              "      <th>flag</th>\n",
              "    </tr>\n",
              "  </thead>\n",
              "  <tbody>\n",
              "    <tr>\n",
              "      <th>0</th>\n",
              "      <td>2228</td>\n",
              "      <td>939</td>\n",
              "      <td>phcvroct</td>\n",
              "      <td>17-10-2016</td>\n",
              "      <td>1.0</td>\n",
              "      <td>1</td>\n",
              "      <td>3.000000</td>\n",
              "      <td>NaN</td>\n",
              "      <td>NaN</td>\n",
              "      <td>NaN</td>\n",
              "      <td>NaN</td>\n",
              "      <td>NaN</td>\n",
              "      <td>2.591810</td>\n",
              "      <td>1.092626</td>\n",
              "      <td>train_data</td>\n",
              "    </tr>\n",
              "    <tr>\n",
              "      <th>1</th>\n",
              "      <td>4349</td>\n",
              "      <td>250</td>\n",
              "      <td>jblrepyr</td>\n",
              "      <td>19-03-2017</td>\n",
              "      <td>0.0</td>\n",
              "      <td>112</td>\n",
              "      <td>3.767857</td>\n",
              "      <td>136.326923</td>\n",
              "      <td>140.368824</td>\n",
              "      <td>104.0</td>\n",
              "      <td>233.0</td>\n",
              "      <td>29.0</td>\n",
              "      <td>3.028743</td>\n",
              "      <td>0.860911</td>\n",
              "      <td>train_data</td>\n",
              "    </tr>\n",
              "    <tr>\n",
              "      <th>2</th>\n",
              "      <td>945</td>\n",
              "      <td>134</td>\n",
              "      <td>ewpvmfbc</td>\n",
              "      <td>21-09-2016</td>\n",
              "      <td>0.0</td>\n",
              "      <td>26</td>\n",
              "      <td>2.923077</td>\n",
              "      <td>45.800000</td>\n",
              "      <td>13.717791</td>\n",
              "      <td>10.0</td>\n",
              "      <td>32.0</td>\n",
              "      <td>0.0</td>\n",
              "      <td>2.643531</td>\n",
              "      <td>0.885298</td>\n",
              "      <td>train_data</td>\n",
              "    </tr>\n",
              "    <tr>\n",
              "      <th>3</th>\n",
              "      <td>4553</td>\n",
              "      <td>164</td>\n",
              "      <td>wsmblohy</td>\n",
              "      <td>17-03-2017</td>\n",
              "      <td>0.0</td>\n",
              "      <td>17</td>\n",
              "      <td>2.411765</td>\n",
              "      <td>21.200000</td>\n",
              "      <td>21.222629</td>\n",
              "      <td>10.0</td>\n",
              "      <td>19.0</td>\n",
              "      <td>1.0</td>\n",
              "      <td>2.763706</td>\n",
              "      <td>0.865561</td>\n",
              "      <td>train_data</td>\n",
              "    </tr>\n",
              "    <tr>\n",
              "      <th>4</th>\n",
              "      <td>941</td>\n",
              "      <td>129</td>\n",
              "      <td>ewpvmfbc</td>\n",
              "      <td>04-04-2016</td>\n",
              "      <td>0.0</td>\n",
              "      <td>5</td>\n",
              "      <td>2.800000</td>\n",
              "      <td>75.000000</td>\n",
              "      <td>25.403412</td>\n",
              "      <td>4.0</td>\n",
              "      <td>7.0</td>\n",
              "      <td>1.0</td>\n",
              "      <td>2.643531</td>\n",
              "      <td>0.885298</td>\n",
              "      <td>train_data</td>\n",
              "    </tr>\n",
              "    <tr>\n",
              "      <th>...</th>\n",
              "      <td>...</td>\n",
              "      <td>...</td>\n",
              "      <td>...</td>\n",
              "      <td>...</td>\n",
              "      <td>...</td>\n",
              "      <td>...</td>\n",
              "      <td>...</td>\n",
              "      <td>...</td>\n",
              "      <td>...</td>\n",
              "      <td>...</td>\n",
              "      <td>...</td>\n",
              "      <td>...</td>\n",
              "      <td>...</td>\n",
              "      <td>...</td>\n",
              "      <td>...</td>\n",
              "    </tr>\n",
              "    <tr>\n",
              "      <th>4403</th>\n",
              "      <td>4022</td>\n",
              "      <td>36</td>\n",
              "      <td>ydqdpmvi</td>\n",
              "      <td>05-10-2016</td>\n",
              "      <td>NaN</td>\n",
              "      <td>74</td>\n",
              "      <td>2.662162</td>\n",
              "      <td>26.000000</td>\n",
              "      <td>0.000000</td>\n",
              "      <td>2.0</td>\n",
              "      <td>47.0</td>\n",
              "      <td>1.0</td>\n",
              "      <td>2.878524</td>\n",
              "      <td>0.724472</td>\n",
              "      <td>test_data</td>\n",
              "    </tr>\n",
              "    <tr>\n",
              "      <th>4404</th>\n",
              "      <td>3397</td>\n",
              "      <td>30</td>\n",
              "      <td>fqsozvpv</td>\n",
              "      <td>14-03-2017</td>\n",
              "      <td>NaN</td>\n",
              "      <td>2</td>\n",
              "      <td>4.000000</td>\n",
              "      <td>72.000000</td>\n",
              "      <td>47.342722</td>\n",
              "      <td>4.0</td>\n",
              "      <td>11.0</td>\n",
              "      <td>0.0</td>\n",
              "      <td>2.777778</td>\n",
              "      <td>1.038679</td>\n",
              "      <td>test_data</td>\n",
              "    </tr>\n",
              "    <tr>\n",
              "      <th>4405</th>\n",
              "      <td>1028</td>\n",
              "      <td>15</td>\n",
              "      <td>rujnkvse</td>\n",
              "      <td>30-01-2017</td>\n",
              "      <td>NaN</td>\n",
              "      <td>4</td>\n",
              "      <td>3.250000</td>\n",
              "      <td>NaN</td>\n",
              "      <td>NaN</td>\n",
              "      <td>NaN</td>\n",
              "      <td>NaN</td>\n",
              "      <td>NaN</td>\n",
              "      <td>2.690715</td>\n",
              "      <td>0.997926</td>\n",
              "      <td>test_data</td>\n",
              "    </tr>\n",
              "    <tr>\n",
              "      <th>4406</th>\n",
              "      <td>3179</td>\n",
              "      <td>127</td>\n",
              "      <td>siexkzzo</td>\n",
              "      <td>17-03-2017</td>\n",
              "      <td>NaN</td>\n",
              "      <td>27</td>\n",
              "      <td>2.814815</td>\n",
              "      <td>NaN</td>\n",
              "      <td>NaN</td>\n",
              "      <td>NaN</td>\n",
              "      <td>12.0</td>\n",
              "      <td>8.0</td>\n",
              "      <td>2.633187</td>\n",
              "      <td>0.934324</td>\n",
              "      <td>test_data</td>\n",
              "    </tr>\n",
              "    <tr>\n",
              "      <th>4407</th>\n",
              "      <td>1535</td>\n",
              "      <td>34</td>\n",
              "      <td>phcvroct</td>\n",
              "      <td>14-07-2016</td>\n",
              "      <td>NaN</td>\n",
              "      <td>456</td>\n",
              "      <td>2.421053</td>\n",
              "      <td>165.821053</td>\n",
              "      <td>162.395557</td>\n",
              "      <td>190.0</td>\n",
              "      <td>2256.0</td>\n",
              "      <td>192.0</td>\n",
              "      <td>2.591810</td>\n",
              "      <td>1.092626</td>\n",
              "      <td>test_data</td>\n",
              "    </tr>\n",
              "  </tbody>\n",
              "</table>\n",
              "<p>4408 rows × 15 columns</p>\n",
              "</div>"
            ],
            "text/plain": [
              "        id  emp      comp  ... rating_comp_mean  rating_comp_std        flag\n",
              "0     2228  939  phcvroct  ...         2.591810         1.092626  train_data\n",
              "1     4349  250  jblrepyr  ...         3.028743         0.860911  train_data\n",
              "2      945  134  ewpvmfbc  ...         2.643531         0.885298  train_data\n",
              "3     4553  164  wsmblohy  ...         2.763706         0.865561  train_data\n",
              "4      941  129  ewpvmfbc  ...         2.643531         0.885298  train_data\n",
              "...    ...  ...       ...  ...              ...              ...         ...\n",
              "4403  4022   36  ydqdpmvi  ...         2.878524         0.724472   test_data\n",
              "4404  3397   30  fqsozvpv  ...         2.777778         1.038679   test_data\n",
              "4405  1028   15  rujnkvse  ...         2.690715         0.997926   test_data\n",
              "4406  3179  127  siexkzzo  ...         2.633187         0.934324   test_data\n",
              "4407  1535   34  phcvroct  ...         2.591810         1.092626   test_data\n",
              "\n",
              "[4408 rows x 15 columns]"
            ]
          },
          "metadata": {
            "tags": []
          },
          "execution_count": 603
        }
      ]
    },
    {
      "cell_type": "markdown",
      "metadata": {
        "id": "I1lY9SLBznNx"
      },
      "source": [
        "Encoding the company strings as integers"
      ]
    },
    {
      "cell_type": "code",
      "metadata": {
        "id": "QvFRenC726zH"
      },
      "source": [
        "from sklearn.preprocessing import LabelEncoder\r\n",
        "\r\n",
        "label1 = LabelEncoder()\r\n",
        "label2 = LabelEncoder()"
      ],
      "execution_count": 604,
      "outputs": []
    },
    {
      "cell_type": "code",
      "metadata": {
        "id": "ChIN09mK27_2"
      },
      "source": [
        "all_data['comp'] = label1.fit_transform(all_data['comp'])\r\n",
        "all_data['emp'] = label2.fit_transform(all_data['emp'])"
      ],
      "execution_count": 605,
      "outputs": []
    },
    {
      "cell_type": "code",
      "metadata": {
        "colab": {
          "base_uri": "https://localhost:8080/",
          "height": 424
        },
        "id": "uEPaARlW3gH2",
        "outputId": "a0e34a94-d1fd-4388-8ffa-d2a11fdf101b"
      },
      "source": [
        "all_data"
      ],
      "execution_count": 606,
      "outputs": [
        {
          "output_type": "execute_result",
          "data": {
            "text/html": [
              "<div>\n",
              "<style scoped>\n",
              "    .dataframe tbody tr th:only-of-type {\n",
              "        vertical-align: middle;\n",
              "    }\n",
              "\n",
              "    .dataframe tbody tr th {\n",
              "        vertical-align: top;\n",
              "    }\n",
              "\n",
              "    .dataframe thead th {\n",
              "        text-align: right;\n",
              "    }\n",
              "</style>\n",
              "<table border=\"1\" class=\"dataframe\">\n",
              "  <thead>\n",
              "    <tr style=\"text-align: right;\">\n",
              "      <th></th>\n",
              "      <th>id</th>\n",
              "      <th>emp</th>\n",
              "      <th>comp</th>\n",
              "      <th>lastratingdate</th>\n",
              "      <th>left</th>\n",
              "      <th>rating_freq</th>\n",
              "      <th>rating_mean</th>\n",
              "      <th>txt_len_mean</th>\n",
              "      <th>txt_len_std</th>\n",
              "      <th>remark_freq</th>\n",
              "      <th>support</th>\n",
              "      <th>oppose</th>\n",
              "      <th>rating_comp_mean</th>\n",
              "      <th>rating_comp_std</th>\n",
              "      <th>flag</th>\n",
              "    </tr>\n",
              "  </thead>\n",
              "  <tbody>\n",
              "    <tr>\n",
              "      <th>0</th>\n",
              "      <td>2228</td>\n",
              "      <td>755</td>\n",
              "      <td>20</td>\n",
              "      <td>17-10-2016</td>\n",
              "      <td>1.0</td>\n",
              "      <td>1</td>\n",
              "      <td>3.000000</td>\n",
              "      <td>NaN</td>\n",
              "      <td>NaN</td>\n",
              "      <td>NaN</td>\n",
              "      <td>NaN</td>\n",
              "      <td>NaN</td>\n",
              "      <td>2.591810</td>\n",
              "      <td>1.092626</td>\n",
              "      <td>train_data</td>\n",
              "    </tr>\n",
              "    <tr>\n",
              "      <th>1</th>\n",
              "      <td>4349</td>\n",
              "      <td>249</td>\n",
              "      <td>10</td>\n",
              "      <td>19-03-2017</td>\n",
              "      <td>0.0</td>\n",
              "      <td>112</td>\n",
              "      <td>3.767857</td>\n",
              "      <td>136.326923</td>\n",
              "      <td>140.368824</td>\n",
              "      <td>104.0</td>\n",
              "      <td>233.0</td>\n",
              "      <td>29.0</td>\n",
              "      <td>3.028743</td>\n",
              "      <td>0.860911</td>\n",
              "      <td>train_data</td>\n",
              "    </tr>\n",
              "    <tr>\n",
              "      <th>2</th>\n",
              "      <td>945</td>\n",
              "      <td>133</td>\n",
              "      <td>6</td>\n",
              "      <td>21-09-2016</td>\n",
              "      <td>0.0</td>\n",
              "      <td>26</td>\n",
              "      <td>2.923077</td>\n",
              "      <td>45.800000</td>\n",
              "      <td>13.717791</td>\n",
              "      <td>10.0</td>\n",
              "      <td>32.0</td>\n",
              "      <td>0.0</td>\n",
              "      <td>2.643531</td>\n",
              "      <td>0.885298</td>\n",
              "      <td>train_data</td>\n",
              "    </tr>\n",
              "    <tr>\n",
              "      <th>3</th>\n",
              "      <td>4553</td>\n",
              "      <td>163</td>\n",
              "      <td>31</td>\n",
              "      <td>17-03-2017</td>\n",
              "      <td>0.0</td>\n",
              "      <td>17</td>\n",
              "      <td>2.411765</td>\n",
              "      <td>21.200000</td>\n",
              "      <td>21.222629</td>\n",
              "      <td>10.0</td>\n",
              "      <td>19.0</td>\n",
              "      <td>1.0</td>\n",
              "      <td>2.763706</td>\n",
              "      <td>0.865561</td>\n",
              "      <td>train_data</td>\n",
              "    </tr>\n",
              "    <tr>\n",
              "      <th>4</th>\n",
              "      <td>941</td>\n",
              "      <td>128</td>\n",
              "      <td>6</td>\n",
              "      <td>04-04-2016</td>\n",
              "      <td>0.0</td>\n",
              "      <td>5</td>\n",
              "      <td>2.800000</td>\n",
              "      <td>75.000000</td>\n",
              "      <td>25.403412</td>\n",
              "      <td>4.0</td>\n",
              "      <td>7.0</td>\n",
              "      <td>1.0</td>\n",
              "      <td>2.643531</td>\n",
              "      <td>0.885298</td>\n",
              "      <td>train_data</td>\n",
              "    </tr>\n",
              "    <tr>\n",
              "      <th>...</th>\n",
              "      <td>...</td>\n",
              "      <td>...</td>\n",
              "      <td>...</td>\n",
              "      <td>...</td>\n",
              "      <td>...</td>\n",
              "      <td>...</td>\n",
              "      <td>...</td>\n",
              "      <td>...</td>\n",
              "      <td>...</td>\n",
              "      <td>...</td>\n",
              "      <td>...</td>\n",
              "      <td>...</td>\n",
              "      <td>...</td>\n",
              "      <td>...</td>\n",
              "      <td>...</td>\n",
              "    </tr>\n",
              "    <tr>\n",
              "      <th>4403</th>\n",
              "      <td>4022</td>\n",
              "      <td>35</td>\n",
              "      <td>33</td>\n",
              "      <td>05-10-2016</td>\n",
              "      <td>NaN</td>\n",
              "      <td>74</td>\n",
              "      <td>2.662162</td>\n",
              "      <td>26.000000</td>\n",
              "      <td>0.000000</td>\n",
              "      <td>2.0</td>\n",
              "      <td>47.0</td>\n",
              "      <td>1.0</td>\n",
              "      <td>2.878524</td>\n",
              "      <td>0.724472</td>\n",
              "      <td>test_data</td>\n",
              "    </tr>\n",
              "    <tr>\n",
              "      <th>4404</th>\n",
              "      <td>3397</td>\n",
              "      <td>29</td>\n",
              "      <td>8</td>\n",
              "      <td>14-03-2017</td>\n",
              "      <td>NaN</td>\n",
              "      <td>2</td>\n",
              "      <td>4.000000</td>\n",
              "      <td>72.000000</td>\n",
              "      <td>47.342722</td>\n",
              "      <td>4.0</td>\n",
              "      <td>11.0</td>\n",
              "      <td>0.0</td>\n",
              "      <td>2.777778</td>\n",
              "      <td>1.038679</td>\n",
              "      <td>test_data</td>\n",
              "    </tr>\n",
              "    <tr>\n",
              "      <th>4405</th>\n",
              "      <td>1028</td>\n",
              "      <td>14</td>\n",
              "      <td>24</td>\n",
              "      <td>30-01-2017</td>\n",
              "      <td>NaN</td>\n",
              "      <td>4</td>\n",
              "      <td>3.250000</td>\n",
              "      <td>NaN</td>\n",
              "      <td>NaN</td>\n",
              "      <td>NaN</td>\n",
              "      <td>NaN</td>\n",
              "      <td>NaN</td>\n",
              "      <td>2.690715</td>\n",
              "      <td>0.997926</td>\n",
              "      <td>test_data</td>\n",
              "    </tr>\n",
              "    <tr>\n",
              "      <th>4406</th>\n",
              "      <td>3179</td>\n",
              "      <td>126</td>\n",
              "      <td>25</td>\n",
              "      <td>17-03-2017</td>\n",
              "      <td>NaN</td>\n",
              "      <td>27</td>\n",
              "      <td>2.814815</td>\n",
              "      <td>NaN</td>\n",
              "      <td>NaN</td>\n",
              "      <td>NaN</td>\n",
              "      <td>12.0</td>\n",
              "      <td>8.0</td>\n",
              "      <td>2.633187</td>\n",
              "      <td>0.934324</td>\n",
              "      <td>test_data</td>\n",
              "    </tr>\n",
              "    <tr>\n",
              "      <th>4407</th>\n",
              "      <td>1535</td>\n",
              "      <td>33</td>\n",
              "      <td>20</td>\n",
              "      <td>14-07-2016</td>\n",
              "      <td>NaN</td>\n",
              "      <td>456</td>\n",
              "      <td>2.421053</td>\n",
              "      <td>165.821053</td>\n",
              "      <td>162.395557</td>\n",
              "      <td>190.0</td>\n",
              "      <td>2256.0</td>\n",
              "      <td>192.0</td>\n",
              "      <td>2.591810</td>\n",
              "      <td>1.092626</td>\n",
              "      <td>test_data</td>\n",
              "    </tr>\n",
              "  </tbody>\n",
              "</table>\n",
              "<p>4408 rows × 15 columns</p>\n",
              "</div>"
            ],
            "text/plain": [
              "        id  emp  comp  ... rating_comp_mean  rating_comp_std        flag\n",
              "0     2228  755    20  ...         2.591810         1.092626  train_data\n",
              "1     4349  249    10  ...         3.028743         0.860911  train_data\n",
              "2      945  133     6  ...         2.643531         0.885298  train_data\n",
              "3     4553  163    31  ...         2.763706         0.865561  train_data\n",
              "4      941  128     6  ...         2.643531         0.885298  train_data\n",
              "...    ...  ...   ...  ...              ...              ...         ...\n",
              "4403  4022   35    33  ...         2.878524         0.724472   test_data\n",
              "4404  3397   29     8  ...         2.777778         1.038679   test_data\n",
              "4405  1028   14    24  ...         2.690715         0.997926   test_data\n",
              "4406  3179  126    25  ...         2.633187         0.934324   test_data\n",
              "4407  1535   33    20  ...         2.591810         1.092626   test_data\n",
              "\n",
              "[4408 rows x 15 columns]"
            ]
          },
          "metadata": {
            "tags": []
          },
          "execution_count": 606
        }
      ]
    },
    {
      "cell_type": "code",
      "metadata": {
        "colab": {
          "base_uri": "https://localhost:8080/"
        },
        "id": "-GmTCuTD3hFH",
        "outputId": "78f29d79-5868-4fde-b32c-65eda75477a9"
      },
      "source": [
        "all_data.dtypes"
      ],
      "execution_count": 607,
      "outputs": [
        {
          "output_type": "execute_result",
          "data": {
            "text/plain": [
              "id                    int64\n",
              "emp                   int64\n",
              "comp                  int64\n",
              "lastratingdate       object\n",
              "left                float64\n",
              "rating_freq           int64\n",
              "rating_mean         float64\n",
              "txt_len_mean        float64\n",
              "txt_len_std         float64\n",
              "remark_freq         float64\n",
              "support             float64\n",
              "oppose              float64\n",
              "rating_comp_mean    float64\n",
              "rating_comp_std     float64\n",
              "flag                 object\n",
              "dtype: object"
            ]
          },
          "metadata": {
            "tags": []
          },
          "execution_count": 607
        }
      ]
    },
    {
      "cell_type": "code",
      "metadata": {
        "id": "jOnavD314ErH"
      },
      "source": [
        "train_data_new = all_data[all_data['flag'] == 'train_data']\r\n",
        "test_data_new = all_data[all_data['flag'] == 'test_data']"
      ],
      "execution_count": 608,
      "outputs": []
    },
    {
      "cell_type": "code",
      "metadata": {
        "id": "ggzLkk2x4gMH"
      },
      "source": [
        "del train_data_new['flag']\r\n",
        "del test_data_new['flag']"
      ],
      "execution_count": 609,
      "outputs": []
    },
    {
      "cell_type": "code",
      "metadata": {
        "colab": {
          "base_uri": "https://localhost:8080/"
        },
        "id": "ZK2cv0ao4hnH",
        "outputId": "c71252f9-40ec-47aa-b78a-1239223c8511"
      },
      "source": [
        "train_data_new['left'] = train_data_new['left'].astype(int)"
      ],
      "execution_count": 610,
      "outputs": [
        {
          "output_type": "stream",
          "text": [
            "/usr/local/lib/python3.6/dist-packages/ipykernel_launcher.py:1: SettingWithCopyWarning: \n",
            "A value is trying to be set on a copy of a slice from a DataFrame.\n",
            "Try using .loc[row_indexer,col_indexer] = value instead\n",
            "\n",
            "See the caveats in the documentation: https://pandas.pydata.org/pandas-docs/stable/user_guide/indexing.html#returning-a-view-versus-a-copy\n",
            "  \"\"\"Entry point for launching an IPython kernel.\n"
          ],
          "name": "stderr"
        }
      ]
    },
    {
      "cell_type": "code",
      "metadata": {
        "colab": {
          "base_uri": "https://localhost:8080/"
        },
        "id": "0qHbNM_84jkG",
        "outputId": "412ac9f9-bb47-4300-838d-185512161462"
      },
      "source": [
        "train_data_new.dtypes"
      ],
      "execution_count": 611,
      "outputs": [
        {
          "output_type": "execute_result",
          "data": {
            "text/plain": [
              "id                    int64\n",
              "emp                   int64\n",
              "comp                  int64\n",
              "lastratingdate       object\n",
              "left                  int64\n",
              "rating_freq           int64\n",
              "rating_mean         float64\n",
              "txt_len_mean        float64\n",
              "txt_len_std         float64\n",
              "remark_freq         float64\n",
              "support             float64\n",
              "oppose              float64\n",
              "rating_comp_mean    float64\n",
              "rating_comp_std     float64\n",
              "dtype: object"
            ]
          },
          "metadata": {
            "tags": []
          },
          "execution_count": 611
        }
      ]
    },
    {
      "cell_type": "code",
      "metadata": {
        "id": "gI_eoR8D5Wdf"
      },
      "source": [
        "features_remove = ['id', 'lastratingdate', 'emp', 'left']\r\n",
        "target = 'left'"
      ],
      "execution_count": 612,
      "outputs": []
    },
    {
      "cell_type": "code",
      "metadata": {
        "id": "m6msNXBxNsWE"
      },
      "source": [
        ""
      ],
      "execution_count": 612,
      "outputs": []
    },
    {
      "cell_type": "markdown",
      "metadata": {
        "id": "-u86cDv4seJl"
      },
      "source": [
        "# Model Selection"
      ]
    },
    {
      "cell_type": "code",
      "metadata": {
        "id": "PayzF4Mr5WHM"
      },
      "source": [
        "from sklearn.model_selection import train_test_split\r\n",
        "\r\n",
        "x_train, x_valid, y_train, y_valid = train_test_split(train_data_new.drop(features_remove, axis = 1), train_data_new[target],\r\n",
        "                                      test_size=0.2, stratify=train_data[target], random_state=4343)"
      ],
      "execution_count": 618,
      "outputs": []
    },
    {
      "cell_type": "code",
      "metadata": {
        "id": "V7WwLFl646AX"
      },
      "source": [
        "from xgboost.sklearn import XGBClassifier\r\n",
        "from xgboost import plot_importance\r\n",
        "from lightgbm import LGBMClassifier"
      ],
      "execution_count": 619,
      "outputs": []
    },
    {
      "cell_type": "markdown",
      "metadata": {
        "id": "kxju84P0zyqJ"
      },
      "source": [
        "Trying a basic XGBoost model, with no fancy parameters"
      ]
    },
    {
      "cell_type": "code",
      "metadata": {
        "id": "znv3eji_GdcD"
      },
      "source": [
        "xgb1 = XGBClassifier(learning_rate=0.1, n_estimators=200, max_depth=8)"
      ],
      "execution_count": 620,
      "outputs": []
    },
    {
      "cell_type": "code",
      "metadata": {
        "colab": {
          "base_uri": "https://localhost:8080/"
        },
        "id": "0F9fqx2NDhSP",
        "outputId": "62e9636d-3d54-432e-c1ff-494e62d9b785"
      },
      "source": [
        "xgb1.fit(x_train, y_train)"
      ],
      "execution_count": 621,
      "outputs": [
        {
          "output_type": "execute_result",
          "data": {
            "text/plain": [
              "XGBClassifier(base_score=0.5, booster='gbtree', colsample_bylevel=1,\n",
              "              colsample_bynode=1, colsample_bytree=1, gamma=0,\n",
              "              learning_rate=0.1, max_delta_step=0, max_depth=8,\n",
              "              min_child_weight=1, missing=None, n_estimators=200, n_jobs=1,\n",
              "              nthread=None, objective='binary:logistic', random_state=0,\n",
              "              reg_alpha=0, reg_lambda=1, scale_pos_weight=1, seed=None,\n",
              "              silent=None, subsample=1, verbosity=1)"
            ]
          },
          "metadata": {
            "tags": []
          },
          "execution_count": 621
        }
      ]
    },
    {
      "cell_type": "code",
      "metadata": {
        "id": "9ccxtP-m5RtG"
      },
      "source": [
        "y_hat_xgb = xgb1.predict(x_valid)"
      ],
      "execution_count": 622,
      "outputs": []
    },
    {
      "cell_type": "code",
      "metadata": {
        "id": "96HagksvFAqq"
      },
      "source": [
        "proba_xgb = xgb1.predict_proba(x_valid)"
      ],
      "execution_count": 623,
      "outputs": []
    },
    {
      "cell_type": "code",
      "metadata": {
        "colab": {
          "base_uri": "https://localhost:8080/",
          "height": 424
        },
        "id": "Qd8suYD5FF9q",
        "outputId": "7cf0ca6f-edf3-4de9-9323-30a52311f0e0"
      },
      "source": [
        "valid_pred = pd.DataFrame()\r\n",
        "valid_pred['y_true'] = y_valid.reset_index(drop=True)\r\n",
        "valid_pred['y_pred_xgb'] = y_hat_xgb\r\n",
        "valid_pred['probab_leave_xgb'] = proba_xgb[::,1]\r\n",
        "valid_pred"
      ],
      "execution_count": 624,
      "outputs": [
        {
          "output_type": "execute_result",
          "data": {
            "text/html": [
              "<div>\n",
              "<style scoped>\n",
              "    .dataframe tbody tr th:only-of-type {\n",
              "        vertical-align: middle;\n",
              "    }\n",
              "\n",
              "    .dataframe tbody tr th {\n",
              "        vertical-align: top;\n",
              "    }\n",
              "\n",
              "    .dataframe thead th {\n",
              "        text-align: right;\n",
              "    }\n",
              "</style>\n",
              "<table border=\"1\" class=\"dataframe\">\n",
              "  <thead>\n",
              "    <tr style=\"text-align: right;\">\n",
              "      <th></th>\n",
              "      <th>y_true</th>\n",
              "      <th>y_pred_xgb</th>\n",
              "      <th>probab_leave_xgb</th>\n",
              "    </tr>\n",
              "  </thead>\n",
              "  <tbody>\n",
              "    <tr>\n",
              "      <th>0</th>\n",
              "      <td>1</td>\n",
              "      <td>0</td>\n",
              "      <td>0.006646</td>\n",
              "    </tr>\n",
              "    <tr>\n",
              "      <th>1</th>\n",
              "      <td>0</td>\n",
              "      <td>0</td>\n",
              "      <td>0.001029</td>\n",
              "    </tr>\n",
              "    <tr>\n",
              "      <th>2</th>\n",
              "      <td>0</td>\n",
              "      <td>0</td>\n",
              "      <td>0.000563</td>\n",
              "    </tr>\n",
              "    <tr>\n",
              "      <th>3</th>\n",
              "      <td>0</td>\n",
              "      <td>0</td>\n",
              "      <td>0.001003</td>\n",
              "    </tr>\n",
              "    <tr>\n",
              "      <th>4</th>\n",
              "      <td>0</td>\n",
              "      <td>0</td>\n",
              "      <td>0.001671</td>\n",
              "    </tr>\n",
              "    <tr>\n",
              "      <th>...</th>\n",
              "      <td>...</td>\n",
              "      <td>...</td>\n",
              "      <td>...</td>\n",
              "    </tr>\n",
              "    <tr>\n",
              "      <th>701</th>\n",
              "      <td>0</td>\n",
              "      <td>0</td>\n",
              "      <td>0.008328</td>\n",
              "    </tr>\n",
              "    <tr>\n",
              "      <th>702</th>\n",
              "      <td>0</td>\n",
              "      <td>0</td>\n",
              "      <td>0.009406</td>\n",
              "    </tr>\n",
              "    <tr>\n",
              "      <th>703</th>\n",
              "      <td>0</td>\n",
              "      <td>0</td>\n",
              "      <td>0.030929</td>\n",
              "    </tr>\n",
              "    <tr>\n",
              "      <th>704</th>\n",
              "      <td>0</td>\n",
              "      <td>0</td>\n",
              "      <td>0.092705</td>\n",
              "    </tr>\n",
              "    <tr>\n",
              "      <th>705</th>\n",
              "      <td>0</td>\n",
              "      <td>0</td>\n",
              "      <td>0.002403</td>\n",
              "    </tr>\n",
              "  </tbody>\n",
              "</table>\n",
              "<p>706 rows × 3 columns</p>\n",
              "</div>"
            ],
            "text/plain": [
              "     y_true  y_pred_xgb  probab_leave_xgb\n",
              "0         1           0          0.006646\n",
              "1         0           0          0.001029\n",
              "2         0           0          0.000563\n",
              "3         0           0          0.001003\n",
              "4         0           0          0.001671\n",
              "..      ...         ...               ...\n",
              "701       0           0          0.008328\n",
              "702       0           0          0.009406\n",
              "703       0           0          0.030929\n",
              "704       0           0          0.092705\n",
              "705       0           0          0.002403\n",
              "\n",
              "[706 rows x 3 columns]"
            ]
          },
          "metadata": {
            "tags": []
          },
          "execution_count": 624
        }
      ]
    },
    {
      "cell_type": "code",
      "metadata": {
        "colab": {
          "base_uri": "https://localhost:8080/"
        },
        "id": "z0pG7KlWFX55",
        "outputId": "7df0a0aa-5a3f-4a9a-92ef-22a66350aca7"
      },
      "source": [
        "# FALSE NEGATIVES\r\n",
        "valid_pred[(valid_pred['y_true']==1) & (valid_pred['y_pred_xgb']==0)]['probab_leave_xgb'].describe()"
      ],
      "execution_count": 625,
      "outputs": [
        {
          "output_type": "execute_result",
          "data": {
            "text/plain": [
              "count    51.000000\n",
              "mean      0.163695\n",
              "std       0.160901\n",
              "min       0.001221\n",
              "25%       0.021631\n",
              "50%       0.083525\n",
              "75%       0.313155\n",
              "max       0.478244\n",
              "Name: probab_leave_xgb, dtype: float64"
            ]
          },
          "metadata": {
            "tags": []
          },
          "execution_count": 625
        }
      ]
    },
    {
      "cell_type": "code",
      "metadata": {
        "colab": {
          "base_uri": "https://localhost:8080/"
        },
        "id": "bqMHUIVHFuBJ",
        "outputId": "6c8a8e03-e3ab-428b-f49d-b5c11f4fd2e9"
      },
      "source": [
        "# POSITIVES \r\n",
        "valid_pred[(valid_pred['y_true']==1) & (valid_pred['y_pred_xgb']==1)]['probab_leave_xgb'].describe()"
      ],
      "execution_count": 626,
      "outputs": [
        {
          "output_type": "execute_result",
          "data": {
            "text/plain": [
              "count    68.000000\n",
              "mean      0.860203\n",
              "std       0.145944\n",
              "min       0.500550\n",
              "25%       0.736633\n",
              "50%       0.930311\n",
              "75%       0.989036\n",
              "max       0.999247\n",
              "Name: probab_leave_xgb, dtype: float64"
            ]
          },
          "metadata": {
            "tags": []
          },
          "execution_count": 626
        }
      ]
    },
    {
      "cell_type": "code",
      "metadata": {
        "colab": {
          "base_uri": "https://localhost:8080/"
        },
        "id": "_gSpM-_8F0EZ",
        "outputId": "fe8fa8fb-9b68-469e-e58a-75246224fa58"
      },
      "source": [
        "# CALCULATING THE KAGGLE EVALUATION SCORE FOR THE BASIC XGB MODEL AT 0.5 THRESHOLD\r\n",
        "from sklearn.metrics import accuracy_score, confusion_matrix\r\n",
        "\r\n",
        "conf_xgb = confusion_matrix(y_valid, y_hat_xgb)\r\n",
        "\r\n",
        "(1*conf_xgb[0][0] + 5*conf_xgb[1][1]) / (1*conf_xgb[0].sum()+5*conf_xgb[1].sum())"
      ],
      "execution_count": 627,
      "outputs": [
        {
          "output_type": "execute_result",
          "data": {
            "text/plain": [
              "0.760575296108291"
            ]
          },
          "metadata": {
            "tags": []
          },
          "execution_count": 627
        }
      ]
    },
    {
      "cell_type": "code",
      "metadata": {
        "colab": {
          "base_uri": "https://localhost:8080/"
        },
        "id": "NknA0ON-F-i5",
        "outputId": "5b36e46f-2abd-4f99-8648-ee4a9dcd6418"
      },
      "source": [
        "# CALCULATING THE KAGGLE EVALUATION SCORE FOR THE BASIC XGB MODEL AT LOWER THRESHOLD\r\n",
        "conf_thres_xgb = confusion_matrix(y_valid,(proba_xgb[::,1] > 0.15).astype(int))\r\n",
        "\r\n",
        "(1*conf_thres_xgb[0][0] + 5*conf_thres_xgb[1][1]) / (1*conf_thres_xgb[0].sum()+5*conf_thres_xgb[1].sum())"
      ],
      "execution_count": 628,
      "outputs": [
        {
          "output_type": "execute_result",
          "data": {
            "text/plain": [
              "0.8147208121827412"
            ]
          },
          "metadata": {
            "tags": []
          },
          "execution_count": 628
        }
      ]
    },
    {
      "cell_type": "code",
      "metadata": {
        "colab": {
          "base_uri": "https://localhost:8080/"
        },
        "id": "aOR2B_huGG7J",
        "outputId": "2f7db7a5-d46d-4e4c-ea58-ed3ec854d2ee"
      },
      "source": [
        "# FRACTION OF POSITIVES IN THE PREDICTIONS AT 0.5 THRESHOLD\r\n",
        "valid_pred['y_pred_xgb'].mean()"
      ],
      "execution_count": 629,
      "outputs": [
        {
          "output_type": "execute_result",
          "data": {
            "text/plain": [
              "0.1359773371104816"
            ]
          },
          "metadata": {
            "tags": []
          },
          "execution_count": 629
        }
      ]
    },
    {
      "cell_type": "code",
      "metadata": {
        "colab": {
          "base_uri": "https://localhost:8080/"
        },
        "id": "IvDUdxGzIZKL",
        "outputId": "addfe9c6-49e7-4dfe-fea1-46f42cba9152"
      },
      "source": [
        "# FRACTION OF POSITIVES IN THE VALIDATION DATA\r\n",
        "valid_pred['y_true'].mean()"
      ],
      "execution_count": 630,
      "outputs": [
        {
          "output_type": "execute_result",
          "data": {
            "text/plain": [
              "0.16855524079320114"
            ]
          },
          "metadata": {
            "tags": []
          },
          "execution_count": 630
        }
      ]
    },
    {
      "cell_type": "code",
      "metadata": {
        "colab": {
          "base_uri": "https://localhost:8080/"
        },
        "id": "qh3QHEsnIctK",
        "outputId": "4b94ed5d-0375-46c3-88dc-db53d6a871e0"
      },
      "source": [
        "# FRACTION OF POSITIVES IN THE PREDICTIONS AT 0.15 THRESHOLD\r\n",
        "(valid_pred['probab_leave_xgb'] > 0.15).astype(int).mean()"
      ],
      "execution_count": 631,
      "outputs": [
        {
          "output_type": "execute_result",
          "data": {
            "text/plain": [
              "0.21529745042492918"
            ]
          },
          "metadata": {
            "tags": []
          },
          "execution_count": 631
        }
      ]
    },
    {
      "cell_type": "code",
      "metadata": {
        "colab": {
          "base_uri": "https://localhost:8080/",
          "height": 422
        },
        "id": "66meNWgHIsAr",
        "outputId": "35fc2d39-a0f9-4e95-f9e4-c00c229aa5e9"
      },
      "source": [
        "plot_importance(xgb1)\r\n",
        "xgb1"
      ],
      "execution_count": 632,
      "outputs": [
        {
          "output_type": "execute_result",
          "data": {
            "text/plain": [
              "XGBClassifier(base_score=0.5, booster='gbtree', colsample_bylevel=1,\n",
              "              colsample_bynode=1, colsample_bytree=1, gamma=0,\n",
              "              learning_rate=0.1, max_delta_step=0, max_depth=8,\n",
              "              min_child_weight=1, missing=None, n_estimators=200, n_jobs=1,\n",
              "              nthread=None, objective='binary:logistic', random_state=0,\n",
              "              reg_alpha=0, reg_lambda=1, scale_pos_weight=1, seed=None,\n",
              "              silent=None, subsample=1, verbosity=1)"
            ]
          },
          "metadata": {
            "tags": []
          },
          "execution_count": 632
        },
        {
          "output_type": "display_data",
          "data": {
            "image/png": "[encoded data removed]",
            "text/plain": [
              "<Figure size 432x288 with 1 Axes>"
            ]
          },
          "metadata": {
            "tags": [],
            "needs_background": "light"
          }
        }
      ]
    },
    {
      "cell_type": "markdown",
      "metadata": {
        "id": "Kx_V3Qab1CCS"
      },
      "source": [
        "Trying a basic LightGBM model, with no fancy parameters"
      ]
    },
    {
      "cell_type": "code",
      "metadata": {
        "id": "zqQNpamTJmtq"
      },
      "source": [
        "lgbm1 = LGBMClassifier(n_estimators=200,max_depth=6,learning_rate=0.1)"
      ],
      "execution_count": 633,
      "outputs": []
    },
    {
      "cell_type": "code",
      "metadata": {
        "colab": {
          "base_uri": "https://localhost:8080/"
        },
        "id": "xv8cpTO3LcC1",
        "outputId": "e6ad02f9-2fdc-46a8-ebb6-6adc36535b67"
      },
      "source": [
        "lgbm1.fit(x_train, y_train)"
      ],
      "execution_count": 634,
      "outputs": [
        {
          "output_type": "execute_result",
          "data": {
            "text/plain": [
              "LGBMClassifier(boosting_type='gbdt', class_weight=None, colsample_bytree=1.0,\n",
              "               importance_type='split', learning_rate=0.1, max_depth=6,\n",
              "               min_child_samples=20, min_child_weight=0.001, min_split_gain=0.0,\n",
              "               n_estimators=200, n_jobs=-1, num_leaves=31, objective=None,\n",
              "               random_state=None, reg_alpha=0.0, reg_lambda=0.0, silent=True,\n",
              "               subsample=1.0, subsample_for_bin=200000, subsample_freq=0)"
            ]
          },
          "metadata": {
            "tags": []
          },
          "execution_count": 634
        }
      ]
    },
    {
      "cell_type": "code",
      "metadata": {
        "id": "7aQkZ7YKLcDA"
      },
      "source": [
        "y_hat_lgbm = lgbm1.predict(x_valid)"
      ],
      "execution_count": 635,
      "outputs": []
    },
    {
      "cell_type": "code",
      "metadata": {
        "id": "ItWmY4ggLcDD"
      },
      "source": [
        "proba_lgbm = lgbm1.predict_proba(x_valid)"
      ],
      "execution_count": 636,
      "outputs": []
    },
    {
      "cell_type": "code",
      "metadata": {
        "colab": {
          "base_uri": "https://localhost:8080/",
          "height": 424
        },
        "id": "PTlDO-ugLcDH",
        "outputId": "792c2049-5cc9-4a7e-d73c-978132f2aacf"
      },
      "source": [
        "valid_pred['y_pred_lgbm'] = y_hat_lgbm\r\n",
        "valid_pred['probab_leave_lgbm'] = proba_lgbm[::,1]\r\n",
        "valid_pred"
      ],
      "execution_count": 637,
      "outputs": [
        {
          "output_type": "execute_result",
          "data": {
            "text/html": [
              "<div>\n",
              "<style scoped>\n",
              "    .dataframe tbody tr th:only-of-type {\n",
              "        vertical-align: middle;\n",
              "    }\n",
              "\n",
              "    .dataframe tbody tr th {\n",
              "        vertical-align: top;\n",
              "    }\n",
              "\n",
              "    .dataframe thead th {\n",
              "        text-align: right;\n",
              "    }\n",
              "</style>\n",
              "<table border=\"1\" class=\"dataframe\">\n",
              "  <thead>\n",
              "    <tr style=\"text-align: right;\">\n",
              "      <th></th>\n",
              "      <th>y_true</th>\n",
              "      <th>y_pred_xgb</th>\n",
              "      <th>probab_leave_xgb</th>\n",
              "      <th>y_pred_lgbm</th>\n",
              "      <th>probab_leave_lgbm</th>\n",
              "    </tr>\n",
              "  </thead>\n",
              "  <tbody>\n",
              "    <tr>\n",
              "      <th>0</th>\n",
              "      <td>1</td>\n",
              "      <td>0</td>\n",
              "      <td>0.006646</td>\n",
              "      <td>0</td>\n",
              "      <td>0.010151</td>\n",
              "    </tr>\n",
              "    <tr>\n",
              "      <th>1</th>\n",
              "      <td>0</td>\n",
              "      <td>0</td>\n",
              "      <td>0.001029</td>\n",
              "      <td>0</td>\n",
              "      <td>0.001175</td>\n",
              "    </tr>\n",
              "    <tr>\n",
              "      <th>2</th>\n",
              "      <td>0</td>\n",
              "      <td>0</td>\n",
              "      <td>0.000563</td>\n",
              "      <td>0</td>\n",
              "      <td>0.000096</td>\n",
              "    </tr>\n",
              "    <tr>\n",
              "      <th>3</th>\n",
              "      <td>0</td>\n",
              "      <td>0</td>\n",
              "      <td>0.001003</td>\n",
              "      <td>0</td>\n",
              "      <td>0.004541</td>\n",
              "    </tr>\n",
              "    <tr>\n",
              "      <th>4</th>\n",
              "      <td>0</td>\n",
              "      <td>0</td>\n",
              "      <td>0.001671</td>\n",
              "      <td>0</td>\n",
              "      <td>0.001077</td>\n",
              "    </tr>\n",
              "    <tr>\n",
              "      <th>...</th>\n",
              "      <td>...</td>\n",
              "      <td>...</td>\n",
              "      <td>...</td>\n",
              "      <td>...</td>\n",
              "      <td>...</td>\n",
              "    </tr>\n",
              "    <tr>\n",
              "      <th>701</th>\n",
              "      <td>0</td>\n",
              "      <td>0</td>\n",
              "      <td>0.008328</td>\n",
              "      <td>0</td>\n",
              "      <td>0.002762</td>\n",
              "    </tr>\n",
              "    <tr>\n",
              "      <th>702</th>\n",
              "      <td>0</td>\n",
              "      <td>0</td>\n",
              "      <td>0.009406</td>\n",
              "      <td>0</td>\n",
              "      <td>0.024634</td>\n",
              "    </tr>\n",
              "    <tr>\n",
              "      <th>703</th>\n",
              "      <td>0</td>\n",
              "      <td>0</td>\n",
              "      <td>0.030929</td>\n",
              "      <td>0</td>\n",
              "      <td>0.033079</td>\n",
              "    </tr>\n",
              "    <tr>\n",
              "      <th>704</th>\n",
              "      <td>0</td>\n",
              "      <td>0</td>\n",
              "      <td>0.092705</td>\n",
              "      <td>0</td>\n",
              "      <td>0.285627</td>\n",
              "    </tr>\n",
              "    <tr>\n",
              "      <th>705</th>\n",
              "      <td>0</td>\n",
              "      <td>0</td>\n",
              "      <td>0.002403</td>\n",
              "      <td>0</td>\n",
              "      <td>0.001644</td>\n",
              "    </tr>\n",
              "  </tbody>\n",
              "</table>\n",
              "<p>706 rows × 5 columns</p>\n",
              "</div>"
            ],
            "text/plain": [
              "     y_true  y_pred_xgb  probab_leave_xgb  y_pred_lgbm  probab_leave_lgbm\n",
              "0         1           0          0.006646            0           0.010151\n",
              "1         0           0          0.001029            0           0.001175\n",
              "2         0           0          0.000563            0           0.000096\n",
              "3         0           0          0.001003            0           0.004541\n",
              "4         0           0          0.001671            0           0.001077\n",
              "..      ...         ...               ...          ...                ...\n",
              "701       0           0          0.008328            0           0.002762\n",
              "702       0           0          0.009406            0           0.024634\n",
              "703       0           0          0.030929            0           0.033079\n",
              "704       0           0          0.092705            0           0.285627\n",
              "705       0           0          0.002403            0           0.001644\n",
              "\n",
              "[706 rows x 5 columns]"
            ]
          },
          "metadata": {
            "tags": []
          },
          "execution_count": 637
        }
      ]
    },
    {
      "cell_type": "code",
      "metadata": {
        "colab": {
          "base_uri": "https://localhost:8080/"
        },
        "id": "ZTXqNsVgLcDN",
        "outputId": "c5fc9694-03a3-46e5-9022-f3f0597b9dad"
      },
      "source": [
        "# FALSE NEGATIVES\r\n",
        "valid_pred[(valid_pred['y_true']==1) & (valid_pred['y_pred_lgbm']==0)]['probab_leave_lgbm'].describe()"
      ],
      "execution_count": 638,
      "outputs": [
        {
          "output_type": "execute_result",
          "data": {
            "text/plain": [
              "count    50.000000\n",
              "mean      0.174301\n",
              "std       0.158444\n",
              "min       0.000607\n",
              "25%       0.027835\n",
              "50%       0.117844\n",
              "75%       0.304052\n",
              "max       0.495589\n",
              "Name: probab_leave_lgbm, dtype: float64"
            ]
          },
          "metadata": {
            "tags": []
          },
          "execution_count": 638
        }
      ]
    },
    {
      "cell_type": "code",
      "metadata": {
        "colab": {
          "base_uri": "https://localhost:8080/"
        },
        "id": "AWow9En5LcDQ",
        "outputId": "2af12774-6d0b-4b5a-ff84-a1b695100159"
      },
      "source": [
        "# POSITIVES\r\n",
        "valid_pred[(valid_pred['y_true']==1) & (valid_pred['y_pred_lgbm']==1)]['probab_leave_lgbm'].describe()"
      ],
      "execution_count": 639,
      "outputs": [
        {
          "output_type": "execute_result",
          "data": {
            "text/plain": [
              "count    69.000000\n",
              "mean      0.843657\n",
              "std       0.152560\n",
              "min       0.504937\n",
              "25%       0.718588\n",
              "50%       0.898859\n",
              "75%       0.977919\n",
              "max       0.999032\n",
              "Name: probab_leave_lgbm, dtype: float64"
            ]
          },
          "metadata": {
            "tags": []
          },
          "execution_count": 639
        }
      ]
    },
    {
      "cell_type": "code",
      "metadata": {
        "colab": {
          "base_uri": "https://localhost:8080/"
        },
        "id": "goHlfOL8LcDW",
        "outputId": "65156f00-85c4-46f8-f7d8-9ffbb648c758"
      },
      "source": [
        "# KAGGLE EVALUATION SCORE AT 0.5 THRESHOLD\r\n",
        "conf_lgbm = confusion_matrix(y_valid, y_hat_lgbm)\r\n",
        "\r\n",
        "(1*conf_lgbm[0][0] + 5*conf_lgbm[1][1]) / (1*conf_lgbm[0].sum()+5*conf_lgbm[1].sum())"
      ],
      "execution_count": 640,
      "outputs": [
        {
          "output_type": "execute_result",
          "data": {
            "text/plain": [
              "0.7681895093062606"
            ]
          },
          "metadata": {
            "tags": []
          },
          "execution_count": 640
        }
      ]
    },
    {
      "cell_type": "code",
      "metadata": {
        "colab": {
          "base_uri": "https://localhost:8080/"
        },
        "id": "eJhHfHHWLcDa",
        "outputId": "55e23621-8790-4880-b7d3-a076885812fc"
      },
      "source": [
        "# KAGGLE EVALUATION SCORE AT 0.15 THRESHOLD\r\n",
        "conf_thres_lgbm = confusion_matrix(y_valid,(proba_lgbm[::,1] > 0.15).astype(int))\r\n",
        "\r\n",
        "(1*conf_thres_lgbm[0][0] + 5*conf_thres_lgbm[1][1]) / (1*conf_thres_lgbm[0].sum()+5*conf_thres_lgbm[1].sum())"
      ],
      "execution_count": 641,
      "outputs": [
        {
          "output_type": "execute_result",
          "data": {
            "text/plain": [
              "0.8316412859560067"
            ]
          },
          "metadata": {
            "tags": []
          },
          "execution_count": 641
        }
      ]
    },
    {
      "cell_type": "code",
      "metadata": {
        "colab": {
          "base_uri": "https://localhost:8080/"
        },
        "id": "L02k08yPLcDd",
        "outputId": "7175ca29-7567-44f1-b52a-879fd4bf7299"
      },
      "source": [
        "valid_pred['y_pred_lgbm'].mean()"
      ],
      "execution_count": 642,
      "outputs": [
        {
          "output_type": "execute_result",
          "data": {
            "text/plain": [
              "0.13172804532577903"
            ]
          },
          "metadata": {
            "tags": []
          },
          "execution_count": 642
        }
      ]
    },
    {
      "cell_type": "code",
      "metadata": {
        "colab": {
          "base_uri": "https://localhost:8080/"
        },
        "id": "NIOj7EzFLcDe",
        "outputId": "55325735-8289-4576-f309-9120b9318a86"
      },
      "source": [
        "valid_pred['y_true'].mean()"
      ],
      "execution_count": 643,
      "outputs": [
        {
          "output_type": "execute_result",
          "data": {
            "text/plain": [
              "0.16855524079320114"
            ]
          },
          "metadata": {
            "tags": []
          },
          "execution_count": 643
        }
      ]
    },
    {
      "cell_type": "code",
      "metadata": {
        "colab": {
          "base_uri": "https://localhost:8080/"
        },
        "id": "fp0FKIeoLcDh",
        "outputId": "3e57815a-b4c0-49e7-8e9a-76b8fdd5dfa1"
      },
      "source": [
        "(valid_pred['probab_leave_lgbm'] > 0.15).astype(int).mean()"
      ],
      "execution_count": 644,
      "outputs": [
        {
          "output_type": "execute_result",
          "data": {
            "text/plain": [
              "0.22096317280453256"
            ]
          },
          "metadata": {
            "tags": []
          },
          "execution_count": 644
        }
      ]
    },
    {
      "cell_type": "markdown",
      "metadata": {
        "id": "lkz3Gqis1chU"
      },
      "source": [
        "IT CAN BE SAID THAT THE MODELS ARE PERFORMING FAIRLY GOOOD AND THEY ARE CROSSING THE BASELINE SCORES SET ON KAGGLE LEADERBOARD. THIS COULD BE THE WAY TO GO."
      ]
    },
    {
      "cell_type": "code",
      "metadata": {
        "id": "3ua-DRl1Rcey"
      },
      "source": [
        ""
      ],
      "execution_count": 644,
      "outputs": []
    },
    {
      "cell_type": "markdown",
      "metadata": {
        "id": "Bxfs0qBbsucb"
      },
      "source": [
        "# Implementing XGBoost and LightGBM"
      ]
    },
    {
      "cell_type": "markdown",
      "metadata": {
        "id": "napO4WZc1tLb"
      },
      "source": [
        "Stratified split into k-folds / parts for cross-validation approach"
      ]
    },
    {
      "cell_type": "code",
      "metadata": {
        "id": "hDUKv0xpRcSV"
      },
      "source": [
        "from sklearn.model_selection import KFold, StratifiedKFold\r\n",
        "\r\n",
        "train_data_folds = train_data_new.copy()\r\n",
        "try: \r\n",
        "    folds = pd.read_csv('/content/gdrive/My Drive/DataContest/folds5_id.csv')\r\n",
        "    train_data_folds = train_data_new.merge(folds,on=\"id\",how=\"left\")\r\n",
        "    train_data_folds.fold.nunique()\r\n",
        "    \r\n",
        "except:\r\n",
        "    kfold = StratifiedKFold(n_splits=5,shuffle=True,random_state=1)\r\n",
        "    \r\n",
        "    train_data_folds.reset_index(drop=True,inplace=True)\r\n",
        "    folds = train_data_folds[[\"id\"]].copy()\r\n",
        "    folds[\"fold\"] = 0\r\n",
        "    for fold, (tr_indx, val_ind) in enumerate(kfold.split(folds, train_data_folds[target])) : \r\n",
        "        folds.loc[val_ind, \"fold\"] = fold\r\n",
        "    folds.to_csv('/content/gdrive/My Drive/DataContest/folds5_id.csv', index=False)\r\n",
        "    train_data_folds = train_data_folds.merge(folds, on=\"id\", how=\"left\")\r\n",
        "\r\n",
        "    del folds"
      ],
      "execution_count": 645,
      "outputs": []
    },
    {
      "cell_type": "code",
      "metadata": {
        "id": "QathrKH1RcMW"
      },
      "source": [
        "def train_function (model, train, test, params, more_params, target, features, metric, threshold):\r\n",
        "    \r\n",
        "    folds_num = train.fold.nunique()\r\n",
        "    validation = train[[\"id\", \"fold\", target]].copy()\r\n",
        "    validation[\"pred_\" + target] = 0\r\n",
        "    submit = test[[\"id\"]].copy()\r\n",
        "    submit[target] = 0\r\n",
        "    \r\n",
        "    for fold in np.sort(train.fold.unique()):\r\n",
        "        print('*'*50 + ' Cross-validation {} '.format(fold) + '*'*50)\r\n",
        "        X_train = train[train.fold != fold]\r\n",
        "        X_valid = train[train.fold == fold]\r\n",
        "\r\n",
        "        train_pred, validation_pred, test_pred = model(X_train, X_valid, test, params, more_params)\r\n",
        "        \r\n",
        "        validation.loc[validation.fold == fold, \"pred_\" + target] = validation_pred\r\n",
        "        submit[target] += test_pred / folds_num\r\n",
        "        train_score = metric(X_train[target], train_pred, threshold)\r\n",
        "        val_score = metric(X_valid[target], validation_pred, threshold)\r\n",
        "        print(\"train score : {} validation score : {}\".format(round(train_score, 4),round(val_score, 4)))\r\n",
        "        print('\\n')\r\n",
        "    \r\n",
        "    final_validation_score = metric(validation[target], validation[\"pred_\"+target], threshold)\r\n",
        "    print(\"final validation score : {}\".format(final_validation_score))\r\n",
        "        \r\n",
        "    return submit, validation, final_validation_score"
      ],
      "execution_count": 646,
      "outputs": []
    },
    {
      "cell_type": "code",
      "metadata": {
        "id": "liqUxzL_Mgfb"
      },
      "source": [
        "def lgbm_model(X_train, X_valid, X_test, params, more_params):\r\n",
        "    \r\n",
        "    dtrain = lgbm.Dataset(data=X_train[features], label=X_train[target], feature_name=features)\r\n",
        "    dval = lgbm.Dataset(data=X_valid[features], label=X_valid[target], feature_name=features)\r\n",
        "    model = lgbm.train(\r\n",
        "        params = params,\r\n",
        "        train_set = dtrain,\r\n",
        "        num_boost_round = more_params[\"num_boost_round\"],\r\n",
        "        valid_sets = (dtrain, dval),\r\n",
        "        early_stopping_rounds = more_params[\"early_stopping_rounds\"],\r\n",
        "        verbose_eval = more_params[\"verbose_eval\"]\r\n",
        "    )\r\n",
        "    \r\n",
        "    best_iteration = model.best_iteration\r\n",
        "    train_pred = model.predict(X_train[features], num_iteration=best_iteration)\r\n",
        "    validation_pred = model.predict(X_valid[features], num_iteration=best_iteration)\r\n",
        "    test_pred = model.predict(X_test[features], num_iteration=best_iteration)\r\n",
        "        \r\n",
        "    return train_pred, validation_pred, test_pred"
      ],
      "execution_count": 647,
      "outputs": []
    },
    {
      "cell_type": "code",
      "metadata": {
        "id": "v5RLrZdPWiS2"
      },
      "source": [
        "def xgb_model(X_train, X_valid, X_test, params, more_params):\r\n",
        "    \r\n",
        "    x_t = X_train[features].copy()\r\n",
        "    y_t = X_train[target].copy()\r\n",
        "    x_v = X_valid[features].copy()\r\n",
        "    y_v = X_valid[target].copy()\r\n",
        "    x_test = X_test[features].copy()\r\n",
        "    dtrain = xgb.DMatrix(data=x_t.values, label=y_t.values)\r\n",
        "    dval = xgb.DMatrix(data=x_v.values, label=y_v.values)\r\n",
        "    dtest = xgb.DMatrix(x_test.values)\r\n",
        "\r\n",
        "    num_boost_round = more_params[\"num_boost_round\"]\r\n",
        "    early_stopping_rounds = more_params[\"early_stopping_rounds\"]\r\n",
        "    verbose_eval = more_params[\"verbose_eval\"]\r\n",
        "\r\n",
        "    model = xgb.train(\r\n",
        "        params = params,\r\n",
        "        dtrain = dtrain,\r\n",
        "        num_boost_round = num_boost_round,\r\n",
        "        evals = [(dval, target)],\r\n",
        "        early_stopping_rounds = early_stopping_rounds,\r\n",
        "        verbose_eval = verbose_eval\r\n",
        "    )\r\n",
        "    \r\n",
        "    train_pred = model.predict(dtrain)\r\n",
        "    validation_pred = model.predict(dval)\r\n",
        "    test_pred = model.predict(dtest)\r\n",
        "        \r\n",
        "    return train_pred, validation_pred, test_pred"
      ],
      "execution_count": 648,
      "outputs": []
    },
    {
      "cell_type": "code",
      "metadata": {
        "id": "9Ejp52hlQQpu"
      },
      "source": [
        "def metric (y, y_hat, threshold):\r\n",
        "    conf_mat = confusion_matrix(y,(y_hat > threshold).astype(int))\r\n",
        "    return (1*conf_mat[0][0] + 5*conf_mat[1][1]) / (1*(conf_mat[0].sum())+5*(conf_mat[1].sum()))"
      ],
      "execution_count": 651,
      "outputs": []
    },
    {
      "cell_type": "code",
      "metadata": {
        "id": "bFcuZM7aQRSc"
      },
      "source": [
        "import xgboost as xgb\r\n",
        "import lightgbm as lgbm\r\n",
        "import os"
      ],
      "execution_count": 652,
      "outputs": []
    },
    {
      "cell_type": "markdown",
      "metadata": {
        "id": "fuq8oU452Gt7"
      },
      "source": [
        "Tuned hyperparameters to be used in XGBoost and LightGBM models"
      ]
    },
    {
      "cell_type": "code",
      "metadata": {
        "id": "kOOAIVBRQuje"
      },
      "source": [
        "more_params = {\"num_boost_round\":50000000, \"early_stopping_rounds\":200, \"verbose_eval\":1000}\r\n",
        "\r\n",
        "lgbm_params = {\r\n",
        "    \"bagging_fraction\": 0.8,\r\n",
        "    \"bagging_freq\": 2,\r\n",
        "    \"boosting_type\": \"gbdt\",\r\n",
        "    \"feature_fraction\": 0.8,\r\n",
        "    \"learning_rate\": 0.01,\r\n",
        "    \"max_depth\": 3,\r\n",
        "    \"num_threads\": 16,\r\n",
        "    \"objective\": \"binary\",\r\n",
        "    \"metric\": \"binary_logloss\",\r\n",
        "    \"seed\": 2020\r\n",
        "}\r\n",
        "\r\n",
        "xgb_params = {\r\n",
        "    \"objective\": \"binary:logistic\",\r\n",
        "    \"learning_rate\": 0.05,\r\n",
        "    \"subsample\": 0.9,\r\n",
        "    \"colsample_bytree\": 0.8,\r\n",
        "    \"max_depth\": 8,\r\n",
        "    \"silent\": 1,\r\n",
        "    \"n_estimators\": 200,\r\n",
        "    \"min_child_weight\": 1,\r\n",
        "    \"gamma\": 0,\r\n",
        "    \"nthread\": 5,\r\n",
        "    \"scale_pos_weight\": 1, \r\n",
        "    \"seed\": 16\r\n",
        "}"
      ],
      "execution_count": 653,
      "outputs": []
    },
    {
      "cell_type": "code",
      "metadata": {
        "colab": {
          "base_uri": "https://localhost:8080/"
        },
        "id": "vot-UBVCc1Ln",
        "outputId": "54c882c0-ae80-4edb-b16e-59ff4eb5c4b8"
      },
      "source": [
        "features = train_data_new.columns.to_list()\r\n",
        "\r\n",
        "features = [feat for feat in features if feat not in features_remove]\r\n",
        "features"
      ],
      "execution_count": 654,
      "outputs": [
        {
          "output_type": "execute_result",
          "data": {
            "text/plain": [
              "['comp',\n",
              " 'rating_freq',\n",
              " 'rating_mean',\n",
              " 'txt_len_mean',\n",
              " 'txt_len_std',\n",
              " 'remark_freq',\n",
              " 'support',\n",
              " 'oppose',\n",
              " 'rating_comp_mean',\n",
              " 'rating_comp_std']"
            ]
          },
          "metadata": {
            "tags": []
          },
          "execution_count": 654
        }
      ]
    },
    {
      "cell_type": "markdown",
      "metadata": {
        "id": "eeJOcK3c2Rah"
      },
      "source": [
        "Tuned thresholds for the two models"
      ]
    },
    {
      "cell_type": "code",
      "metadata": {
        "id": "vJZiuA0Domaq"
      },
      "source": [
        "threshold_lgbm = 0.1\r\n",
        "threshold_xgb = 0.15"
      ],
      "execution_count": 655,
      "outputs": []
    },
    {
      "cell_type": "markdown",
      "metadata": {
        "id": "fMmaCEgs2Wez"
      },
      "source": [
        "Training and cross-validation for the two models"
      ]
    },
    {
      "cell_type": "code",
      "metadata": {
        "colab": {
          "base_uri": "https://localhost:8080/"
        },
        "id": "RGs-cpx7Z5Fv",
        "outputId": "6a99314b-7321-455d-b09e-40a87c41a1bf"
      },
      "source": [
        "submit_lgbm, validation_lgbm, score_lgbm = train_function(lgbm_model, train_data_folds, test_data_new, lgbm_params, more_params, target, features, metric, threshold_lgbm)"
      ],
      "execution_count": 656,
      "outputs": [
        {
          "output_type": "stream",
          "text": [
            "************************************************** Cross-validation 0 **************************************************\n",
            "Training until validation scores don't improve for 200 rounds.\n",
            "[1000]\ttraining's binary_logloss: 0.195836\tvalid_1's binary_logloss: 0.241171\n",
            "Early stopping, best iteration is:\n",
            "[1495]\ttraining's binary_logloss: 0.174334\tvalid_1's binary_logloss: 0.237941\n",
            "train score : 0.8975 validation score : 0.8452\n",
            "\n",
            "\n",
            "************************************************** Cross-validation 1 **************************************************\n",
            "Training until validation scores don't improve for 200 rounds.\n",
            "[1000]\ttraining's binary_logloss: 0.190926\tvalid_1's binary_logloss: 0.256021\n",
            "Early stopping, best iteration is:\n",
            "[867]\ttraining's binary_logloss: 0.198215\tvalid_1's binary_logloss: 0.255697\n",
            "train score : 0.8767 validation score : 0.8603\n",
            "\n",
            "\n",
            "************************************************** Cross-validation 2 **************************************************\n",
            "Training until validation scores don't improve for 200 rounds.\n",
            "[1000]\ttraining's binary_logloss: 0.194881\tvalid_1's binary_logloss: 0.242878\n",
            "[2000]\ttraining's binary_logloss: 0.158315\tvalid_1's binary_logloss: 0.235433\n",
            "Early stopping, best iteration is:\n",
            "[2382]\ttraining's binary_logloss: 0.148241\tvalid_1's binary_logloss: 0.23269\n",
            "train score : 0.9055 validation score : 0.8544\n",
            "\n",
            "\n",
            "************************************************** Cross-validation 3 **************************************************\n",
            "Training until validation scores don't improve for 200 rounds.\n",
            "[1000]\ttraining's binary_logloss: 0.190588\tvalid_1's binary_logloss: 0.245927\n",
            "Early stopping, best iteration is:\n",
            "[999]\ttraining's binary_logloss: 0.190665\tvalid_1's binary_logloss: 0.245883\n",
            "train score : 0.8791 validation score : 0.8425\n",
            "\n",
            "\n",
            "************************************************** Cross-validation 4 **************************************************\n",
            "Training until validation scores don't improve for 200 rounds.\n",
            "[1000]\ttraining's binary_logloss: 0.196302\tvalid_1's binary_logloss: 0.264293\n",
            "[2000]\ttraining's binary_logloss: 0.157432\tvalid_1's binary_logloss: 0.258812\n",
            "Early stopping, best iteration is:\n",
            "[1858]\ttraining's binary_logloss: 0.161963\tvalid_1's binary_logloss: 0.258452\n",
            "train score : 0.8995 validation score : 0.8173\n",
            "\n",
            "\n",
            "final validation score : 0.84395120298204\n"
          ],
          "name": "stdout"
        }
      ]
    },
    {
      "cell_type": "code",
      "metadata": {
        "colab": {
          "base_uri": "https://localhost:8080/"
        },
        "id": "NzBaCsmEa1Ob",
        "outputId": "2e80a479-1634-49ad-c214-3e39f63b6aa3"
      },
      "source": [
        "submit_xgb, validation_xgb, score_xgb = train_function(xgb_model, train_data_folds, test_data_new, xgb_params, more_params, target, features, metric, threshold_xgb)"
      ],
      "execution_count": 657,
      "outputs": [
        {
          "output_type": "stream",
          "text": [
            "************************************************** Cross-validation 0 **************************************************\n",
            "[0]\tleft-error:0.106232\n",
            "Will train until left-error hasn't improved in 200 rounds.\n",
            "Stopping. Best iteration:\n",
            "[78]\tleft-error:0.087819\n",
            "\n",
            "train score : 0.9746 validation score : 0.8283\n",
            "\n",
            "\n",
            "************************************************** Cross-validation 1 **************************************************\n",
            "[0]\tleft-error:0.11773\n",
            "Will train until left-error hasn't improved in 200 rounds.\n",
            "Stopping. Best iteration:\n",
            "[6]\tleft-error:0.097872\n",
            "\n",
            "train score : 0.9693 validation score : 0.8273\n",
            "\n",
            "\n",
            "************************************************** Cross-validation 2 **************************************************\n",
            "[0]\tleft-error:0.130496\n",
            "Will train until left-error hasn't improved in 200 rounds.\n",
            "Stopping. Best iteration:\n",
            "[305]\tleft-error:0.083688\n",
            "\n",
            "train score : 0.9792 validation score : 0.8688\n",
            "\n",
            "\n",
            "************************************************** Cross-validation 3 **************************************************\n",
            "[0]\tleft-error:0.112057\n",
            "Will train until left-error hasn't improved in 200 rounds.\n",
            "Stopping. Best iteration:\n",
            "[135]\tleft-error:0.09078\n",
            "\n",
            "train score : 0.9784 validation score : 0.8408\n",
            "\n",
            "\n",
            "************************************************** Cross-validation 4 **************************************************\n",
            "[0]\tleft-error:0.113475\n",
            "Will train until left-error hasn't improved in 200 rounds.\n",
            "Stopping. Best iteration:\n",
            "[171]\tleft-error:0.092199\n",
            "\n",
            "train score : 0.978 validation score : 0.8369\n",
            "\n",
            "\n",
            "final validation score : 0.8403930870891223\n"
          ],
          "name": "stdout"
        }
      ]
    },
    {
      "cell_type": "markdown",
      "metadata": {
        "id": "Tv7lxg-a2gOp"
      },
      "source": [
        "Check fractions of positives for each model, and checking the possibility for an ensemble"
      ]
    },
    {
      "cell_type": "code",
      "metadata": {
        "colab": {
          "base_uri": "https://localhost:8080/"
        },
        "id": "BdImzw54ecSO",
        "outputId": "3c2fc9d8-1bbe-4b26-e453-2bb001c96ebf"
      },
      "source": [
        "(submit_xgb['left'] > threshold_xgb).astype(int).mean()"
      ],
      "execution_count": 658,
      "outputs": [
        {
          "output_type": "execute_result",
          "data": {
            "text/plain": [
              "0.20861678004535147"
            ]
          },
          "metadata": {
            "tags": []
          },
          "execution_count": 658
        }
      ]
    },
    {
      "cell_type": "code",
      "metadata": {
        "colab": {
          "base_uri": "https://localhost:8080/"
        },
        "id": "pBlvpfstm20y",
        "outputId": "f4324961-b4c1-4d26-e63a-a6510e0c6280"
      },
      "source": [
        "(submit_lgbm['left'] > threshold_lgbm).astype(int).mean()"
      ],
      "execution_count": 659,
      "outputs": [
        {
          "output_type": "execute_result",
          "data": {
            "text/plain": [
              "0.31746031746031744"
            ]
          },
          "metadata": {
            "tags": []
          },
          "execution_count": 659
        }
      ]
    },
    {
      "cell_type": "code",
      "metadata": {
        "colab": {
          "base_uri": "https://localhost:8080/"
        },
        "id": "QfI0q2KknMsS",
        "outputId": "87f80423-ec78-4be7-d2f4-b731a8867967"
      },
      "source": [
        "((0.4*submit_xgb['left'] + 0.6*submit_lgbm['left']) > (0.4*threshold_xgb + 0.6*threshold_lgbm)).astype(int).mean()"
      ],
      "execution_count": 660,
      "outputs": [
        {
          "output_type": "execute_result",
          "data": {
            "text/plain": [
              "0.2743764172335601"
            ]
          },
          "metadata": {
            "tags": []
          },
          "execution_count": 660
        }
      ]
    },
    {
      "cell_type": "code",
      "metadata": {
        "colab": {
          "base_uri": "https://localhost:8080/"
        },
        "id": "hCzeH69knX1C",
        "outputId": "0aba593f-5554-43a9-868c-b08ffa0f6489"
      },
      "source": [
        "((submit_xgb['left'] + submit_lgbm['left'])/2 > (threshold_xgb + threshold_lgbm)/2).astype(int).mean()"
      ],
      "execution_count": 661,
      "outputs": [
        {
          "output_type": "execute_result",
          "data": {
            "text/plain": [
              "0.264172335600907"
            ]
          },
          "metadata": {
            "tags": []
          },
          "execution_count": 661
        }
      ]
    },
    {
      "cell_type": "markdown",
      "metadata": {
        "id": "YackgCn8s88y"
      },
      "source": [
        "# Ensemble and Submission"
      ]
    },
    {
      "cell_type": "markdown",
      "metadata": {
        "id": "LvmKevij2rby"
      },
      "source": [
        "Weighted ensemble and non-weighted ensemble of the two models"
      ]
    },
    {
      "cell_type": "code",
      "metadata": {
        "id": "9dGDhWsMq2az"
      },
      "source": [
        "ensemble1 = submit_lgbm*0.6 + submit_xgb*0.4\r\n",
        "threshold1 = threshold_lgbm*0.6 + threshold_xgb*0.4\r\n",
        "\r\n",
        "ensemble2 = submit_lgbm*0.5 + submit_xgb*0.5\r\n",
        "threshold2 = threshold_lgbm*0.5 + threshold_xgb*0.5"
      ],
      "execution_count": 662,
      "outputs": []
    },
    {
      "cell_type": "code",
      "metadata": {
        "id": "QtXPe-COrZdy"
      },
      "source": [
        "ensemble1['left'] = (ensemble1['left'] > threshold1).astype(int)\r\n",
        "ensemble1['id'] = ensemble1['id'].astype(int)"
      ],
      "execution_count": 663,
      "outputs": []
    },
    {
      "cell_type": "code",
      "metadata": {
        "id": "-ZfEhgGWscFx"
      },
      "source": [
        "ensemble1 = ensemble1.reset_index(drop=True)"
      ],
      "execution_count": 664,
      "outputs": []
    },
    {
      "cell_type": "code",
      "metadata": {
        "id": "5g6OkkD0sxvj"
      },
      "source": [
        "ensemble2['left'] = (ensemble2['left'] > threshold2).astype(int)\r\n",
        "ensemble2['id'] = ensemble2['id'].astype(int)"
      ],
      "execution_count": 665,
      "outputs": []
    },
    {
      "cell_type": "code",
      "metadata": {
        "id": "qD0e1ECMtDlB"
      },
      "source": [
        "ensemble2 = ensemble2.reset_index(drop=True)"
      ],
      "execution_count": 666,
      "outputs": []
    },
    {
      "cell_type": "markdown",
      "metadata": {
        "id": "CMoC8BUG2y7L"
      },
      "source": [
        "Generate the submission files for both the ensembles"
      ]
    },
    {
      "cell_type": "code",
      "metadata": {
        "id": "wEi6FKwhtFSg"
      },
      "source": [
        "ensemble1.to_csv('/content/gdrive/My Drive/DataContest/test-Ensemble-04XGB-06LGBM.csv')"
      ],
      "execution_count": 518,
      "outputs": []
    },
    {
      "cell_type": "code",
      "metadata": {
        "id": "FqrvvrFEtklB"
      },
      "source": [
        "ensemble2.to_csv('/content/gdrive/My Drive/DataContest/test-Ensemble-05XGB-05LGBM.csv')"
      ],
      "execution_count": 519,
      "outputs": []
    },
    {
      "cell_type": "code",
      "metadata": {
        "colab": {
          "base_uri": "https://localhost:8080/"
        },
        "id": "2n0O2lnTtnyh",
        "outputId": "80ef1623-4dc4-4d16-9919-1a9d785433f2"
      },
      "source": [
        "pd.read_csv('/content/gdrive/My Drive/DataContest/test-Ensemble-04XGB-06LGBM.csv')['left'].mean()"
      ],
      "execution_count": 521,
      "outputs": [
        {
          "output_type": "execute_result",
          "data": {
            "text/plain": [
              "0.2743764172335601"
            ]
          },
          "metadata": {
            "tags": []
          },
          "execution_count": 521
        }
      ]
    },
    {
      "cell_type": "code",
      "metadata": {
        "colab": {
          "base_uri": "https://localhost:8080/"
        },
        "id": "KHzmC049wKOi",
        "outputId": "cbe05aad-b3ed-4f73-d3a5-6710a18e0c91"
      },
      "source": [
        "pd.read_csv('/content/gdrive/My Drive/DataContest/test-Ensemble-05XGB-05LGBM.csv')['left'].mean()"
      ],
      "execution_count": 522,
      "outputs": [
        {
          "output_type": "execute_result",
          "data": {
            "text/plain": [
              "0.264172335600907"
            ]
          },
          "metadata": {
            "tags": []
          },
          "execution_count": 522
        }
      ]
    },
    {
      "cell_type": "markdown",
      "metadata": {
        "id": "yh1h9rUg260K"
      },
      "source": [
        "BOTH THE ENSEMBLES LEAD TO A KAGGLE EVALUATON SCORE OF 0.85733 ON THE LEADERBOARD. THAT SHOULD BE A GOOD SCORE!!"
      ]
    },
    {
      "cell_type": "code",
      "metadata": {
        "id": "Tky0hh_NwRRj"
      },
      "source": [
        ""
      ],
      "execution_count": null,
      "outputs": []
    }
  ]
}