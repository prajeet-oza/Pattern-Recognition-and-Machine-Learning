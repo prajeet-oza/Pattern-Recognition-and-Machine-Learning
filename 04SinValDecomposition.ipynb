{
  "nbformat": 4,
  "nbformat_minor": 0,
  "metadata": {
    "colab": {
      "name": "Copy of SVD.ipynb",
      "provenance": []
    },
    "kernelspec": {
      "name": "python3",
      "display_name": "Python 3"
    }
  },
  "cells": [
    {
      "cell_type": "code",
      "metadata": {
        "id": "aZfOfbvoponk",
        "colab_type": "code",
        "colab": {}
      },
      "source": [
        "import numpy as np\n",
        "from google.colab import files"
      ],
      "execution_count": 0,
      "outputs": []
    },
    {
      "cell_type": "code",
      "metadata": {
        "id": "SjYQnIpLKuPv",
        "colab_type": "code",
        "colab": {}
      },
      "source": [
        "# Defining SVD Function\n",
        "\n",
        "def SingularValueDecomposition (A):\n",
        "  u,U = np.linalg.eig(np.dot(A,np.transpose(A)))\n",
        "  x = np.argsort(u)[::-1]\n",
        "  U = U[:,x]\n",
        "  u = np.sort(u)[::-1]\n",
        "\n",
        "\n",
        "  S = np.sqrt(u).astype('float')\n",
        "  S1 = np.diag(S)\n",
        "  # print(S)\n",
        "  V = np.zeros((np.shape(A)[0],np.shape(A)[1]))\n",
        "  for i in range(np.shape(A)[1]):\n",
        "    V[:, i] += S1[i, i]*np.dot(np.linalg.inv(A), U[:, i])\n",
        "  \n",
        "\n",
        "  # print(A)\n",
        "  return (U, S, V.T )"
      ],
      "execution_count": 0,
      "outputs": []
    },
    {
      "cell_type": "code",
      "metadata": {
        "id": "Uydp5veG0eZj",
        "colab_type": "code",
        "outputId": "b8a20ddc-e9ab-4d49-aa2c-5901164ec25e",
        "colab": {
          "base_uri": "https://localhost:8080/",
          "height": 146
        }
      },
      "source": [
        "# Generation of Highly Correlated Matrix (A)\n",
        "\n",
        "Temp = np.random.rand(100, 100)\n",
        "D = np.diag(np.random.rand(1,100)[0])\n",
        "A = np.dot(Temp, np.transpose(Temp)) + D\n",
        "A = A / 100\n",
        "print(A)"
      ],
      "execution_count": 0,
      "outputs": [
        {
          "output_type": "stream",
          "text": [
            "[[0.29925672 0.23857629 0.23705152 ... 0.23170938 0.24475778 0.21421241]\n",
            " [0.23857629 0.34543277 0.24513975 ... 0.25061625 0.24986277 0.21811389]\n",
            " [0.23705152 0.24513975 0.33430172 ... 0.26498268 0.25290037 0.23318285]\n",
            " ...\n",
            " [0.23170938 0.25061625 0.26498268 ... 0.34331126 0.22524768 0.2178171 ]\n",
            " [0.24475778 0.24986277 0.25290037 ... 0.22524768 0.34608939 0.22770893]\n",
            " [0.21421241 0.21811389 0.23318285 ... 0.2178171  0.22770893 0.27199414]]\n"
          ],
          "name": "stdout"
        }
      ]
    },
    {
      "cell_type": "code",
      "metadata": {
        "id": "DCIehgEzqLcC",
        "colab_type": "code",
        "outputId": "c780cdcf-b0be-43a6-b6d4-370f907cde75",
        "colab": {
          "base_uri": "https://localhost:8080/",
          "height": 35
        }
      },
      "source": [
        "# Frobenius Norm for Highly Correlated Matrix \n",
        "\n",
        "J= np.linalg.norm(A,'fro')\n",
        "J"
      ],
      "execution_count": 0,
      "outputs": [
        {
          "output_type": "execute_result",
          "data": {
            "text/plain": [
              "25.26239487437546"
            ]
          },
          "metadata": {
            "tags": []
          },
          "execution_count": 24
        }
      ]
    },
    {
      "cell_type": "code",
      "metadata": {
        "id": "cruMFJ8HL4JC",
        "colab_type": "code",
        "colab": {}
      },
      "source": [
        "# Applying SVD On Highly Correlated Matrix on A\n",
        "U,s,V= SingularValueDecomposition(A)"
      ],
      "execution_count": 0,
      "outputs": []
    },
    {
      "cell_type": "code",
      "metadata": {
        "id": "nuHZII2bu4f7",
        "colab_type": "code",
        "outputId": "2f865f0d-b386-483d-a99c-44f28fc2dac6",
        "colab": {
          "base_uri": "https://localhost:8080/",
          "height": 90
        }
      },
      "source": [
        "# Selecting top 10 components for SVD\n",
        "\n",
        "n_component= 10               # Number of Singular Vectors \n",
        "S2=np.diag(s[:n_component])\n",
        "V1= V[:,:n_component]\n",
        "print(V1.shape)\n",
        "U1= U[:,:n_component]\n",
        "print(U1.shape)\n",
        "A1= U1.dot(S2.dot(V1.T))\n",
        "print(A1.shape)\n",
        "J1= np.linalg.norm(A1,'fro')\n",
        "J1/J"
      ],
      "execution_count": 0,
      "outputs": [
        {
          "output_type": "stream",
          "text": [
            "(100, 10)\n",
            "(100, 10)\n",
            "(100, 100)\n"
          ],
          "name": "stdout"
        },
        {
          "output_type": "execute_result",
          "data": {
            "text/plain": [
              "0.9993743850567282"
            ]
          },
          "metadata": {
            "tags": []
          },
          "execution_count": 26
        }
      ]
    },
    {
      "cell_type": "code",
      "metadata": {
        "colab_type": "code",
        "outputId": "3a1127c3-e010-4c25-e3b7-0eb5dedd9fd2",
        "id": "JAG-K3__GKfz",
        "colab": {
          "base_uri": "https://localhost:8080/",
          "height": 439
        }
      },
      "source": [
        "# Selecting random 10 components for SVD\n",
        "a2= np.random.randint(low=0, high=99, size=10)\n",
        "# a2 = [2,5,6,9,45,50,65,71,88,93]\n",
        "print(a2)\n",
        "S9 = np.diag(s[a2])\n",
        "print(S9)\n",
        "V2 = V[:,a2]\n",
        "U2 = U[:,a2]\n",
        "\n",
        "print(U2.shape, V2.shape, S9.shape)\n",
        "\n",
        "A2= U2.dot(S9.dot(V2.T))\n",
        "J2= np.linalg.norm(A2,'fro')\n",
        "J2/J"
      ],
      "execution_count": 0,
      "outputs": [
        {
          "output_type": "stream",
          "text": [
            "[50  3 23 71 44  7 55 39 57 64]\n",
            "[[0.0580301  0.         0.         0.         0.         0.\n",
            "  0.         0.         0.         0.        ]\n",
            " [0.         0.29172121 0.         0.         0.         0.\n",
            "  0.         0.         0.         0.        ]\n",
            " [0.         0.         0.15318707 0.         0.         0.\n",
            "  0.         0.         0.         0.        ]\n",
            " [0.         0.         0.         0.0219154  0.         0.\n",
            "  0.         0.         0.         0.        ]\n",
            " [0.         0.         0.         0.         0.07313355 0.\n",
            "  0.         0.         0.         0.        ]\n",
            " [0.         0.         0.         0.         0.         0.24658682\n",
            "  0.         0.         0.         0.        ]\n",
            " [0.         0.         0.         0.         0.         0.\n",
            "  0.0484301  0.         0.         0.        ]\n",
            " [0.         0.         0.         0.         0.         0.\n",
            "  0.         0.09117559 0.         0.        ]\n",
            " [0.         0.         0.         0.         0.         0.\n",
            "  0.         0.         0.04306681 0.        ]\n",
            " [0.         0.         0.         0.         0.         0.\n",
            "  0.         0.         0.         0.03182961]]\n",
            "(100, 10) (100, 10) (10, 10)\n"
          ],
          "name": "stdout"
        },
        {
          "output_type": "execute_result",
          "data": {
            "text/plain": [
              "0.01734937258490318"
            ]
          },
          "metadata": {
            "tags": []
          },
          "execution_count": 27
        }
      ]
    },
    {
      "cell_type": "code",
      "metadata": {
        "id": "AsyKz2YeGMZH",
        "colab_type": "code",
        "colab": {}
      },
      "source": [
        "# Finding number of components required for capturing certain % of data \n",
        "ReqComp = np.zeros((1, 21))\n",
        "component=0\n",
        "PercComp = np.zeros((1, 21))\n",
        "\n",
        "for i in range(0, 21, 1):\n",
        "  value= i*0.05\n",
        "  p4 = 0\n",
        "  while p4<value:\n",
        "    component += 1\n",
        "    p4 = np.linalg.norm(U[:,:component].dot(np.diag(s[:component]).dot(np.transpose(V[:,:component])))) / J\n",
        "    \n",
        "  ReqComp[0, i] += component\n",
        "  PercComp[0, i] += p4"
      ],
      "execution_count": 0,
      "outputs": []
    },
    {
      "cell_type": "code",
      "metadata": {
        "id": "t1wJ4l2zHvVz",
        "colab_type": "code",
        "outputId": "2970d83e-a2a3-4681-a25d-c93646fe249f",
        "colab": {
          "base_uri": "https://localhost:8080/",
          "height": 90
        }
      },
      "source": [
        "print(PercComp)"
      ],
      "execution_count": 31,
      "outputs": [
        {
          "output_type": "stream",
          "text": [
            "[[0.         0.99886124 0.99893232 0.99900165 0.99906838 0.9991277\n",
            "  0.99918652 0.99924153 0.99928921 0.99933272 0.99937439 0.99941438\n",
            "  0.99945265 0.9994869  0.99951954 0.99955008 0.99957898 0.99960566\n",
            "  0.99963086 0.9996543  1.        ]]\n"
          ],
          "name": "stdout"
        }
      ]
    },
    {
      "cell_type": "code",
      "metadata": {
        "id": "C4ZK6htSJDwE",
        "colab_type": "code",
        "outputId": "36927a60-48ef-4fe0-c637-f9b5a1511c21",
        "colab": {
          "base_uri": "https://localhost:8080/",
          "height": 302
        }
      },
      "source": [
        "# Plot for Highly Correlated matrix\n",
        "perc = np.arange(0, 1.05, 0.05)\n",
        "horzline = np.ones((21, 1))\n",
        "compline = np.arange(0, 105, 5)\n",
        "\n",
        "import matplotlib.pyplot as plt\n",
        "\n",
        "plt.figure(1)\n",
        "plt.plot(ReqComp.T, PercComp.T)\n",
        "high50, = plt.plot(compline, 0.5*horzline, linestyle = 'dashed', label = '50% captured')\n",
        "high75, = plt.plot(compline, 0.75*horzline, linestyle = 'dashed', label = '75% captured')\n",
        "high95, = plt.plot(compline, 0.95*horzline, linestyle = 'dashed', label = '95% captured')\n",
        "plt.legend(handles = [high50, high75, high95], loc='lower right')\n",
        "plt.ylabel('Captured Fraction of Data', fontweight=\"bold\", fontsize=16)\n",
        "plt.xlabel('# of Vectors Required', fontweight=\"bold\", fontsize=16)\n",
        "plt.title('SVD, Highly Correlated case', fontweight=\"bold\", fontsize=16)\n",
        "plt.savefig('svdhigh.png')\n",
        "files.download('svdhigh.png')"
      ],
      "execution_count": 0,
      "outputs": [
        {
          "output_type": "display_data",
          "data": {
            "image/png": "[encoded data removed]",
            "text/plain": [
              "<Figure size 432x288 with 1 Axes>"
            ]
          },
          "metadata": {
            "tags": []
          }
        }
      ]
    },
    {
      "cell_type": "code",
      "metadata": {
        "id": "dKI-somupw2z",
        "colab_type": "code",
        "colab": {}
      },
      "source": [
        "# Generating Matrix with Statistically Independent Numbers (B)\n",
        "\n",
        "B = np.zeros((100, 100))\n",
        "for i in range(0, np.shape(B)[1]):\n",
        "  MatrixACol = np.random.rand(100, 1)\n",
        "  B[:, i] += np.random.uniform(1)*MatrixACol[:, 0]\n"
      ],
      "execution_count": 0,
      "outputs": []
    },
    {
      "cell_type": "code",
      "metadata": {
        "id": "aVJDi-LZB3td",
        "colab_type": "code",
        "outputId": "3d5dea69-fc43-494d-ed60-984b3e3ae9a9",
        "colab": {
          "base_uri": "https://localhost:8080/",
          "height": 34
        }
      },
      "source": [
        "#Frobenius of Matrix with Statistically Independent Numbers (B)\n",
        "J5= np.linalg.norm(B,'fro')\n",
        "J5"
      ],
      "execution_count": 0,
      "outputs": [
        {
          "output_type": "execute_result",
          "data": {
            "text/plain": [
              "57.62055362338255"
            ]
          },
          "metadata": {
            "tags": []
          },
          "execution_count": 53
        }
      ]
    },
    {
      "cell_type": "code",
      "metadata": {
        "id": "UYnpQFg8B36f",
        "colab_type": "code",
        "colab": {}
      },
      "source": [
        "# Applying SVD On Highly Correlated Matrix\n",
        "U3,s3,V3= SingularValueDecomposition(B)"
      ],
      "execution_count": 0,
      "outputs": []
    },
    {
      "cell_type": "code",
      "metadata": {
        "id": "R5MooXZKB4DI",
        "colab_type": "code",
        "outputId": "34c7d29c-d4be-4363-a8e7-1fed42564615",
        "colab": {
          "base_uri": "https://localhost:8080/",
          "height": 86
        }
      },
      "source": [
        "# Selecting top 10 components for SVD\n",
        "\n",
        "n_component= 10               # Number of Singular Vectors \n",
        "S3=np.diag(s3[:n_component])\n",
        "V8= V3[:,:n_component]\n",
        "print(V1.shape)\n",
        "U8= U3[:,:n_component]\n",
        "print(U8.shape)\n",
        "B1= U8.dot(S3.dot(V8.T))\n",
        "print(B1.shape)\n",
        "J3= np.linalg.norm(B1,'fro')\n",
        "J3/J5"
      ],
      "execution_count": 0,
      "outputs": [
        {
          "output_type": "stream",
          "text": [
            "(100, 10)\n",
            "(100, 10)\n",
            "(100, 100)\n"
          ],
          "name": "stdout"
        },
        {
          "output_type": "execute_result",
          "data": {
            "text/plain": [
              "0.9085279772135165"
            ]
          },
          "metadata": {
            "tags": []
          },
          "execution_count": 55
        }
      ]
    },
    {
      "cell_type": "code",
      "metadata": {
        "id": "fCCUB1UbB4GL",
        "colab_type": "code",
        "outputId": "69ce8ef2-392e-4419-9a23-b1fa4d8c98fd",
        "colab": {
          "base_uri": "https://localhost:8080/",
          "height": 416
        }
      },
      "source": [
        "# Selecting random 10 components for SVD\n",
        "b2= np.random.randint(low=0, high=99, size=10)\n",
        "# a2 = [2,5,6,9,45,50,65,71,88,93]\n",
        "print(b2)\n",
        "S7 = np.diag(s3[b2])\n",
        "print(S7)\n",
        "V7 = V3[:,b2]\n",
        "# V1 = np.transpose(V1)\n",
        "U7 = U3[:,b2]\n",
        "\n",
        "print(U7.shape, V7.shape, S7.shape)\n",
        "\n",
        "B2= U7.dot(S7.dot(V7.T))\n",
        "J4= np.linalg.norm(B2,'fro')\n",
        "J4/J5"
      ],
      "execution_count": 0,
      "outputs": [
        {
          "output_type": "stream",
          "text": [
            "[34  4 13 22 25 74 72  6 54 49]\n",
            "[[3.19280482 0.         0.         0.         0.         0.\n",
            "  0.         0.         0.         0.        ]\n",
            " [0.         5.18313155 0.         0.         0.         0.\n",
            "  0.         0.         0.         0.        ]\n",
            " [0.         0.         4.38214783 0.         0.         0.\n",
            "  0.         0.         0.         0.        ]\n",
            " [0.         0.         0.         3.85755771 0.         0.\n",
            "  0.         0.         0.         0.        ]\n",
            " [0.         0.         0.         0.         3.69519198 0.\n",
            "  0.         0.         0.         0.        ]\n",
            " [0.         0.         0.         0.         0.         1.15731026\n",
            "  0.         0.         0.         0.        ]\n",
            " [0.         0.         0.         0.         0.         0.\n",
            "  1.2547703  0.         0.         0.        ]\n",
            " [0.         0.         0.         0.         0.         0.\n",
            "  0.         5.01072817 0.         0.        ]\n",
            " [0.         0.         0.         0.         0.         0.\n",
            "  0.         0.         2.1077943  0.        ]\n",
            " [0.         0.         0.         0.         0.         0.\n",
            "  0.         0.         0.         2.39658323]]\n",
            "(100, 10) (100, 10) (10, 10)\n"
          ],
          "name": "stdout"
        },
        {
          "output_type": "execute_result",
          "data": {
            "text/plain": [
              "0.19247918125463"
            ]
          },
          "metadata": {
            "tags": []
          },
          "execution_count": 56
        }
      ]
    },
    {
      "cell_type": "code",
      "metadata": {
        "id": "alPKrK6xd0pT",
        "colab_type": "code",
        "colab": {}
      },
      "source": [
        "# Finding number of components required for capturing certain % of data \n",
        "ReqComp1 = np.zeros((1, 21))\n",
        "PercComp1 = np.zeros((1, 21))\n",
        "component=0\n",
        "for i in range(0, 21, 1):\n",
        "  value= i*0.05\n",
        "  p4 = 0\n",
        "  while p4<value:\n",
        "    component += 1\n",
        "    temp = U3[:,:component].dot(np.diag(s3[:component]).dot(np.transpose(V3[:,:component])))\n",
        "    p4 = np.linalg.norm(temp)/J5#np.linalg.norm(B, 'fro')\n",
        "    \n",
        "  ReqComp1[0, i] += component\n",
        "  PercComp1[0, i] += p4"
      ],
      "execution_count": 0,
      "outputs": []
    },
    {
      "cell_type": "code",
      "metadata": {
        "id": "Fzyp4wGrsnxF",
        "colab_type": "code",
        "outputId": "461e942e-95e0-4c4e-8460-afbd383eb316",
        "colab": {
          "base_uri": "https://localhost:8080/",
          "height": 302
        }
      },
      "source": [
        "# Plot for Statistically Independent Matrix\n",
        "plt.figure(1)\n",
        "plt.plot(ReqComp1.T, PercComp1.T)\n",
        "high50, = plt.plot(compline, 0.5*horzline, linestyle = 'dashed', label = '50% captured')\n",
        "high75, = plt.plot(compline, 0.75*horzline, linestyle = 'dashed', label = '75% captured')\n",
        "high95, = plt.plot(compline, 0.95*horzline, linestyle = 'dashed', label = '95% captured')\n",
        "plt.legend(handles = [high50, high75, high95], loc='lower right')\n",
        "plt.ylabel('Captured Fraction of Data', fontweight=\"bold\", fontsize=16)\n",
        "plt.xlabel('# of Vectors Required', fontweight=\"bold\", fontsize=16)\n",
        "plt.title('SVD, Statistically Independent case', fontweight=\"bold\", fontsize=16)\n",
        "plt.savefig('svdstat.png')\n",
        "files.download('svdstat.png')"
      ],
      "execution_count": 0,
      "outputs": [
        {
          "output_type": "display_data",
          "data": {
            "image/png": "[encoded data removed]",
            "text/plain": [
              "<Figure size 432x288 with 1 Axes>"
            ]
          },
          "metadata": {
            "tags": []
          }
        }
      ]
    },
    {
      "cell_type": "code",
      "metadata": {
        "id": "Gs5Fy4RMHn-u",
        "colab_type": "code",
        "outputId": "7bdf323b-9505-49a4-a44d-69b1b18d9558",
        "colab": {
          "base_uri": "https://localhost:8080/",
          "height": 52
        }
      },
      "source": [
        "print(PercComp1)"
      ],
      "execution_count": 0,
      "outputs": [
        {
          "output_type": "stream",
          "text": [
            "[[  0.   1.   2.   3.   4.   5.   6.   7.   8.   9.  10.  11.  12.  13.\n",
            "   14.  15.  16.  17.  18.  25. 100.]]\n"
          ],
          "name": "stdout"
        }
      ]
    },
    {
      "cell_type": "code",
      "metadata": {
        "id": "yMSNofYnM_v3",
        "colab_type": "code",
        "colab": {}
      },
      "source": [
        ""
      ],
      "execution_count": 0,
      "outputs": []
    }
  ]
}