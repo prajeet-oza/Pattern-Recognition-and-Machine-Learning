{
  "nbformat": 4,
  "nbformat_minor": 0,
  "metadata": {
    "colab": {
      "name": "PartA1 (Ridge).ipynb",
      "provenance": [],
      "collapsed_sections": []
    },
    "kernelspec": {
      "name": "python3",
      "display_name": "Python 3"
    }
  },
  "cells": [
    {
      "cell_type": "code",
      "metadata": {
        "id": "zhNMiiUbfXmH"
      },
      "source": [
        "import pandas as pd\n",
        "import numpy as np\n",
        "import matplotlib.pyplot as plt\n",
        "import io\n",
        "from sklearn.model_selection import train_test_split\n",
        "import math\n",
        "import sys\n",
        "from scipy.special import expit"
      ],
      "execution_count": null,
      "outputs": []
    },
    {
      "cell_type": "code",
      "metadata": {
        "colab": {
          "base_uri": "https://localhost:8080/"
        },
        "id": "YDpGJTGLgXIv",
        "outputId": "5d700c3f-8755-4ea0-c435-0b6d55d783dd"
      },
      "source": [
        "from google.colab import drive\n",
        "drive.mount('/content/gdrive')"
      ],
      "execution_count": null,
      "outputs": [
        {
          "output_type": "stream",
          "text": [
            "Drive already mounted at /content/gdrive; to attempt to forcibly remount, call drive.mount(\"/content/gdrive\", force_remount=True).\n"
          ],
          "name": "stdout"
        }
      ]
    },
    {
      "cell_type": "code",
      "metadata": {
        "id": "yP5-aH4RgYid"
      },
      "source": [
        "data_ = pd.read_csv('/content/gdrive/My Drive/CS5691/assignment-2/datasets/Regression_dataset.csv')"
      ],
      "execution_count": null,
      "outputs": []
    },
    {
      "cell_type": "code",
      "metadata": {
        "id": "s5tpztl4gfum"
      },
      "source": [
        "data_train, data_test = train_test_split(data_, test_size = 0.25, random_state = 3)\n",
        "data_train = data_train.values\n",
        "data_test = data_test.values"
      ],
      "execution_count": null,
      "outputs": []
    },
    {
      "cell_type": "code",
      "metadata": {
        "id": "0SHQG10ugg-q"
      },
      "source": [
        "x_train = data_train[:, 0:13]\n",
        "y_train = data_train[:,13]\n",
        "\n",
        "x_test = data_test[:,0:13]\n",
        "y_test = data_test[:,13]"
      ],
      "execution_count": null,
      "outputs": []
    },
    {
      "cell_type": "code",
      "metadata": {
        "id": "NCrgCssRgiJy"
      },
      "source": [
        "m = x_train.shape[0]"
      ],
      "execution_count": null,
      "outputs": []
    },
    {
      "cell_type": "code",
      "metadata": {
        "id": "boM3Td6rg9qC"
      },
      "source": [
        "def poly_kernel(input_matrix, p):\n",
        "    if p == 1:\n",
        "        return input_matrix\n",
        "    elif p == 2:\n",
        "        a = input_matrix\n",
        "        b = np.power(input_matrix[:, 0:13], 2)\n",
        "        out = np.hstack((a, b))\n",
        "        return out\n",
        "    elif p == 3:\n",
        "        a = input_matrix\n",
        "        b = np.power(input_matrix[:, 0:13], 2)\n",
        "        c = np.power(input_matrix[:, 0:13], 3)\n",
        "        out = np.hstack((a, b, c))\n",
        "        return out"
      ],
      "execution_count": null,
      "outputs": []
    },
    {
      "cell_type": "code",
      "metadata": {
        "id": "Ui_auNJ4gnMF"
      },
      "source": [
        "class RidgeRegression():\n",
        "  def __init__(self, alpha=1.0, lamba = 0.001):\n",
        "      self.alpha = alpha\n",
        "      self.lamba = lamba\n",
        "\n",
        "  def fit(self, X, y):\n",
        "      X_with_intercept = np.c_[np.ones((X.shape[0], 1)), X]\n",
        "      self.X_intercept = X_with_intercept\n",
        "      \n",
        "      dimension = X_with_intercept.shape[1]\n",
        "      A = np.identity(dimension)\n",
        "      A[0, 0] = 0\n",
        "      lamba = self.lamba*A\n",
        "      thetas = np.linalg.inv(X_with_intercept.T.dot(X_with_intercept) + lamba).dot(X_with_intercept.T).dot(y)\n",
        "      self.thetas = thetas\n",
        "      return self\n",
        "\n",
        "  def predict(self, X):\n",
        "      thetas = self.thetas\n",
        "      final_X = np.c_[np.ones((X.shape[0], 1)), X]\n",
        "      self.predictions = final_X.dot(thetas)\n",
        "      return self.predictions"
      ],
      "execution_count": null,
      "outputs": []
    },
    {
      "cell_type": "code",
      "metadata": {
        "colab": {
          "base_uri": "https://localhost:8080/"
        },
        "id": "lpxq67uCgpx9",
        "outputId": "2589d728-b53b-4a86-e54b-c23613b7ad15"
      },
      "source": [
        "lin_mod = RidgeRegression(alpha = 0.01, lamba = 10)\n",
        "lin_mod.fit(x_train,y_train)\n",
        "lin_mod.predict(x_train[0:10])"
      ],
      "execution_count": null,
      "outputs": [
        {
          "output_type": "execute_result",
          "data": {
            "text/plain": [
              "array([32.22089168, 13.78000953, 23.31417467, 26.64289528, 37.33741373,\n",
              "       18.61437962, 30.10019902, 22.09674603, 16.36680294, 24.67128976])"
            ]
          },
          "metadata": {
            "tags": []
          },
          "execution_count": 9
        }
      ]
    },
    {
      "cell_type": "code",
      "metadata": {
        "id": "dumc9xCmjroP"
      },
      "source": [
        "y_train_lin = lin_mod.predict(x_train)\n",
        "y_test_lin = lin_mod.predict(x_test)"
      ],
      "execution_count": null,
      "outputs": []
    },
    {
      "cell_type": "code",
      "metadata": {
        "colab": {
          "base_uri": "https://localhost:8080/"
        },
        "id": "yYl55jvGguop",
        "outputId": "388ac062-19d9-47b9-9668-188f4bfa93ba"
      },
      "source": [
        "new_x_train = poly_kernel(x_train,2)\n",
        "poly_mod = RidgeRegression(alpha = 0.01, lamba = 10)\n",
        "poly_mod.fit(new_x_train,y_train)\n",
        "poly_mod.predict(new_x_train[0:10])"
      ],
      "execution_count": null,
      "outputs": [
        {
          "output_type": "execute_result",
          "data": {
            "text/plain": [
              "array([34.7555481 , 11.76671226, 24.27636928, 27.54181005, 42.8444749 ,\n",
              "       16.49181037, 32.00892585, 19.05898698, 14.48233498, 23.44323903])"
            ]
          },
          "metadata": {
            "tags": []
          },
          "execution_count": 11
        }
      ]
    },
    {
      "cell_type": "code",
      "metadata": {
        "id": "oQzFIBFYj0Pm"
      },
      "source": [
        "new_x_test = poly_kernel(x_test,2)\n",
        "y_train_poly = poly_mod.predict(new_x_train)\n",
        "y_test_poly = poly_mod.predict(new_x_test)"
      ],
      "execution_count": null,
      "outputs": []
    },
    {
      "cell_type": "code",
      "metadata": {
        "colab": {
          "base_uri": "https://localhost:8080/"
        },
        "id": "MahoLUNMh0WT",
        "outputId": "419f4065-9091-429a-9cb5-c14a41b0cdd4"
      },
      "source": [
        "y_train[0:10]"
      ],
      "execution_count": null,
      "outputs": [
        {
          "output_type": "execute_result",
          "data": {
            "text/plain": [
              "array([35.4, 13.5, 20.6, 24.7, 21.9, 17.1, 23.6, 21.1, 15.6, 18.5])"
            ]
          },
          "metadata": {
            "tags": []
          },
          "execution_count": 13
        }
      ]
    },
    {
      "cell_type": "code",
      "metadata": {
        "id": "UWoyKUBrkduY"
      },
      "source": [
        "def mse_metric(actual, predicted):\n",
        "\tsum_error = 0.0\n",
        "\tfor i in range(len(actual)):\n",
        "\t\tprediction_error = predicted[i] - actual[i]\n",
        "\t\tsum_error += (prediction_error ** 2)\n",
        "\tmean_error = sum_error / float(len(actual))\n",
        "\treturn mean_error"
      ],
      "execution_count": null,
      "outputs": []
    },
    {
      "cell_type": "code",
      "metadata": {
        "colab": {
          "base_uri": "https://localhost:8080/"
        },
        "id": "1q0f79j6myED",
        "outputId": "8ed748b3-1833-4763-98e5-955c92763422"
      },
      "source": [
        "mse_lin_train = mse_metric(y_train, y_train_lin)\n",
        "mse_poly_train = mse_metric(y_train, y_train_poly)\n",
        "mse_lin_test = mse_metric(y_test, y_test_lin)\n",
        "mse_poly_test = mse_metric(y_test, y_test_poly)\n",
        "print(mse_lin_train, mse_poly_train)\n",
        "print(mse_lin_test, mse_poly_test)"
      ],
      "execution_count": null,
      "outputs": [
        {
          "output_type": "stream",
          "text": [
            "23.953292401348488 17.59596069912533\n",
            "20.235277110067646 13.928451655185148\n"
          ],
          "name": "stdout"
        }
      ]
    },
    {
      "cell_type": "code",
      "metadata": {
        "id": "dVxHGWGAnKmo"
      },
      "source": [
        ""
      ],
      "execution_count": null,
      "outputs": []
    }
  ]
}