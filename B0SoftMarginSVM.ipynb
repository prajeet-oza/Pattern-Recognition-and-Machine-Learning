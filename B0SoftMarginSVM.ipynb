{
  "nbformat": 4,
  "nbformat_minor": 0,
  "metadata": {
    "colab": {
      "name": "PartB.ipynb",
      "provenance": [],
      "collapsed_sections": []
    },
    "kernelspec": {
      "name": "python3",
      "display_name": "Python 3"
    }
  },
  "cells": [
    {
      "cell_type": "code",
      "metadata": {
        "id": "SuIVpS-pLzt6",
        "colab": {
          "base_uri": "https://localhost:8080/"
        },
        "outputId": "26afac23-37e5-46aa-ba1e-2361def78617"
      },
      "source": [
        "from google.colab import files\n",
        "from google.colab import drive\n",
        "drive.mount('/content/gdrive')"
      ],
      "execution_count": null,
      "outputs": [
        {
          "output_type": "stream",
          "text": [
            "Drive already mounted at /content/gdrive; to attempt to forcibly remount, call drive.mount(\"/content/gdrive\", force_remount=True).\n"
          ],
          "name": "stdout"
        }
      ]
    },
    {
      "cell_type": "code",
      "metadata": {
        "id": "AmHgHaDEL6uG"
      },
      "source": [
        "import pandas as pd\n",
        "import numpy as np\n",
        "import matplotlib.pyplot as plt\n",
        "import io\n",
        "from sklearn.model_selection import train_test_split\n",
        "from cvxopt import matrix as qpmatrix\n",
        "from cvxopt import solvers as qpsolvers\n",
        "from sklearn.svm import SVC"
      ],
      "execution_count": null,
      "outputs": []
    },
    {
      "cell_type": "code",
      "metadata": {
        "id": "fY2LpS0uLml_"
      },
      "source": [
        "data_ = pd.read_csv('/content/gdrive/My Drive/CS5691/assignment-2/datasets/Dataset_2_Team_33.csv')"
      ],
      "execution_count": null,
      "outputs": []
    },
    {
      "cell_type": "code",
      "metadata": {
        "id": "FRnYRBLbrf-c",
        "colab": {
          "base_uri": "https://localhost:8080/"
        },
        "outputId": "e5796841-b13d-428a-dc79-22c3b7de2b49"
      },
      "source": [
        "data_['Class_label'][data_['Class_label'] == 0] = -1\r\n",
        "data_0 = data_[data_['Class_label'] == -1]\r\n",
        "data_1 = data_[data_['Class_label'] == 1]\r\n",
        "\r\n",
        "data_0 = data_0.values\r\n",
        "data_1 = data_1.values"
      ],
      "execution_count": null,
      "outputs": [
        {
          "output_type": "stream",
          "text": [
            "/usr/local/lib/python3.6/dist-packages/ipykernel_launcher.py:1: SettingWithCopyWarning: \n",
            "A value is trying to be set on a copy of a slice from a DataFrame\n",
            "\n",
            "See the caveats in the documentation: https://pandas.pydata.org/pandas-docs/stable/user_guide/indexing.html#returning-a-view-versus-a-copy\n",
            "  \"\"\"Entry point for launching an IPython kernel.\n"
          ],
          "name": "stderr"
        }
      ]
    },
    {
      "cell_type": "code",
      "metadata": {
        "id": "4YCleZIDN0zX"
      },
      "source": [
        "data_train, data_test = train_test_split(data_, test_size = 0.25)"
      ],
      "execution_count": null,
      "outputs": []
    },
    {
      "cell_type": "code",
      "metadata": {
        "id": "pStzX3YJZI3P"
      },
      "source": [
        "data_train = data_train.values\n",
        "data_test = data_test.values"
      ],
      "execution_count": null,
      "outputs": []
    },
    {
      "cell_type": "code",
      "metadata": {
        "id": "BTtejf4QN1Dt"
      },
      "source": [
        "x_train = data_train[:, 0:2]\n",
        "y_train = data_train[:, 2]\n",
        "\n",
        "x_test = data_test[:, 0:2]\n",
        "y_test = data_test[:, 2]"
      ],
      "execution_count": null,
      "outputs": []
    },
    {
      "cell_type": "code",
      "metadata": {
        "id": "00J7xm-0ZhVE"
      },
      "source": [
        "y_train = y_train.reshape(-1, 1)"
      ],
      "execution_count": null,
      "outputs": []
    },
    {
      "cell_type": "code",
      "metadata": {
        "id": "zWk7GIdyb_C_",
        "colab": {
          "base_uri": "https://localhost:8080/"
        },
        "outputId": "35889a49-4043-4d84-fdf8-41c6e5951820"
      },
      "source": [
        "m = x_train.shape[0]\n",
        "print(x_train)"
      ],
      "execution_count": null,
      "outputs": [
        {
          "output_type": "stream",
          "text": [
            "[[-1.01836325  0.23182039]\n",
            " [ 2.18169532  0.3881282 ]\n",
            " [ 1.49845775 -0.16005474]\n",
            " ...\n",
            " [ 0.5509483   0.46808011]\n",
            " [ 1.01117784  0.55948299]\n",
            " [ 0.88093739 -0.46004688]]\n"
          ],
          "name": "stdout"
        }
      ]
    },
    {
      "cell_type": "code",
      "metadata": {
        "id": "wBEWgXdP3YeP"
      },
      "source": [
        ""
      ],
      "execution_count": null,
      "outputs": []
    },
    {
      "cell_type": "code",
      "metadata": {
        "id": "KxmkFW6Z3Xyr"
      },
      "source": [
        "# SECTION: SOFT MARGIN SVM IMPLEMENTATION FROM SCRATCH"
      ],
      "execution_count": null,
      "outputs": []
    },
    {
      "cell_type": "code",
      "metadata": {
        "id": "U5fy31jtN1d6"
      },
      "source": [
        "xy_prod = y_train * x_train\n",
        "matP = np.dot(xy_prod, xy_prod.T)\n",
        "\n",
        "matG = np.vstack((-1*np.eye(m), np.eye(m)))\n",
        "\n",
        "C = 0.1 # 0.1 is the best value\n",
        "matH = np.hstack((np.zeros(m), np.ones(m)*C))"
      ],
      "execution_count": null,
      "outputs": []
    },
    {
      "cell_type": "code",
      "metadata": {
        "id": "gofmpK3XN1pW"
      },
      "source": [
        "P = qpmatrix(matP)\n",
        "q = qpmatrix(-np.ones((m, 1)))\n",
        "G = qpmatrix(matG)\n",
        "h = qpmatrix(matH)\n",
        "A = qpmatrix(y_train.reshape(1, -1))\n",
        "b = qpmatrix(np.zeros(1))"
      ],
      "execution_count": null,
      "outputs": []
    },
    {
      "cell_type": "code",
      "metadata": {
        "id": "pDzA3RzRfS2g",
        "colab": {
          "base_uri": "https://localhost:8080/"
        },
        "outputId": "4e400221-360a-47ae-a25a-f7c9b18c0980"
      },
      "source": [
        "solA = qpsolvers.qp(P, q, G, h, A, b)\n",
        "alphas = np.array(solA['x'])"
      ],
      "execution_count": null,
      "outputs": [
        {
          "output_type": "stream",
          "text": [
            "     pcost       dcost       gap    pres   dres\n",
            " 0: -1.6211e+02 -1.5752e+02  5e+03  3e+01  7e-15\n",
            " 1: -2.6229e+01 -1.4730e+02  3e+02  8e-01  6e-15\n",
            " 2: -1.9716e+01 -5.4187e+01  3e+01  2e-16  1e-15\n",
            " 3: -2.3406e+01 -2.9853e+01  6e+00  2e-16  1e-15\n",
            " 4: -2.4950e+01 -2.7143e+01  2e+00  2e-16  1e-15\n",
            " 5: -2.5445e+01 -2.6322e+01  9e-01  2e-16  1e-15\n",
            " 6: -2.5644e+01 -2.6020e+01  4e-01  2e-16  1e-15\n",
            " 7: -2.5734e+01 -2.5888e+01  2e-01  3e-16  1e-15\n",
            " 8: -2.5776e+01 -2.5828e+01  5e-02  2e-16  1e-15\n",
            " 9: -2.5794e+01 -2.5805e+01  1e-02  2e-16  1e-15\n",
            "10: -2.5799e+01 -2.5801e+01  2e-03  2e-16  1e-15\n",
            "11: -2.5800e+01 -2.5800e+01  3e-05  2e-16  1e-15\n",
            "12: -2.5800e+01 -2.5800e+01  3e-07  4e-16  1e-15\n",
            "Optimal solution found.\n"
          ],
          "name": "stdout"
        }
      ]
    },
    {
      "cell_type": "code",
      "metadata": {
        "id": "h6HF4uk-f6Dl",
        "colab": {
          "base_uri": "https://localhost:8080/"
        },
        "outputId": "549f19b2-72e9-47d3-fe4b-ba7364c6f47e"
      },
      "source": [
        "valW = np.dot((y_train * alphas).T, x_train).reshape(1, -1)\n",
        "suppVec = np.nonzero(alphas > 1e-4)[0]\n",
        "print('# of support vectors:', len(suppVec))\n",
        "valB= 0\n",
        "for i in suppVec:\n",
        "  valB += y_train[i] - np.dot(x_train[i], valW.T)\n",
        "valB = valB / len(suppVec)\n",
        "print('value of b:', valB)\n",
        "\n",
        "marginCalc = y_train * (np.dot(x_train, valW.T) + np.array(valB[0]))\n",
        "margins = np.nonzero(marginCalc == 1)[0]\n",
        "print('# of SVs lying on margins:', len(margins))"
      ],
      "execution_count": null,
      "outputs": [
        {
          "output_type": "stream",
          "text": [
            "# of support vectors: 286\n",
            "value of b: [0.2103373]\n",
            "# of SVs lying on margins: 0\n"
          ],
          "name": "stdout"
        }
      ]
    },
    {
      "cell_type": "code",
      "metadata": {
        "id": "T6HLzCG2PzjE"
      },
      "source": [
        "y_pred = np.dot(x_test, valW.T) + np.array(valB[0])"
      ],
      "execution_count": null,
      "outputs": []
    },
    {
      "cell_type": "code",
      "metadata": {
        "id": "BNR0kFIThw4-"
      },
      "source": [
        "y_pred_train = np.dot(x_train, valW.T) + np.array(valB[0])"
      ],
      "execution_count": null,
      "outputs": []
    },
    {
      "cell_type": "code",
      "metadata": {
        "colab": {
          "base_uri": "https://localhost:8080/"
        },
        "id": "umcvyWl0iN9Q",
        "outputId": "faf3e5a6-351a-4ee1-ca9b-deb8aa6a78c1"
      },
      "source": [
        "count_train = 0\r\n",
        "decount_train = 0\r\n",
        "for i in range(y_pred_train.shape[0]):\r\n",
        "  if y_pred_train[i] <= 0:\r\n",
        "    y_pred_train[i] = -1\r\n",
        "  else:\r\n",
        "    y_pred_train[i] = 1\r\n",
        "\r\n",
        "  if y_pred_train[i] == y_train[i]:\r\n",
        "    count_train += 1\r\n",
        "  else:\r\n",
        "    decount_train += 1\r\n",
        "print(count_train, decount_train)\r\n",
        "# print(y_pred_train, y_train)\r\n",
        "print('Accuracy for train dataset:', count_train / y_pred_train.shape[0])\r\n",
        "print('Incorrect for train dataset:', decount_train / y_pred_train.shape[0])"
      ],
      "execution_count": null,
      "outputs": [
        {
          "output_type": "stream",
          "text": [
            "660 90\n",
            "Accuracy for train dataset: 0.88\n",
            "Incorrect for train dataset: 0.12\n"
          ],
          "name": "stdout"
        }
      ]
    },
    {
      "cell_type": "code",
      "metadata": {
        "colab": {
          "base_uri": "https://localhost:8080/"
        },
        "id": "83QnIHmOjIRo",
        "outputId": "1cbc2a13-ff5f-41c2-c130-3b2309e036e5"
      },
      "source": [
        "count_test = 0\r\n",
        "decount_test = 0\r\n",
        "for i in range(y_pred.shape[0]):\r\n",
        "  if y_pred[i] <= 0:\r\n",
        "    y_pred[i] = -1\r\n",
        "  else:\r\n",
        "    y_pred[i] = 1\r\n",
        "\r\n",
        "  if y_pred[i] == y_test[i]:\r\n",
        "    count_test += 1\r\n",
        "  else:\r\n",
        "    decount_test += 1\r\n",
        "print(count_test, decount_test)\r\n",
        "\r\n",
        "print('Accuracy for train dataset:', count_test / y_pred.shape[0])\r\n",
        "print('Incorrect for train dataset:', decount_test / y_pred.shape[0])"
      ],
      "execution_count": null,
      "outputs": [
        {
          "output_type": "stream",
          "text": [
            "219 31\n",
            "Accuracy for train dataset: 0.876\n",
            "Incorrect for train dataset: 0.124\n"
          ],
          "name": "stdout"
        }
      ]
    },
    {
      "cell_type": "code",
      "metadata": {
        "id": "9P4WuKB_02zP"
      },
      "source": [
        "ConMat1 = np.zeros((3,3))"
      ],
      "execution_count": null,
      "outputs": []
    },
    {
      "cell_type": "code",
      "metadata": {
        "id": "QiAu5f9o02zT"
      },
      "source": [
        "for i in range(y_pred.shape[0]):\n",
        "  ConMat1[int(y_pred[i])+1, int(y_test[i])+1] += 1"
      ],
      "execution_count": null,
      "outputs": []
    },
    {
      "cell_type": "code",
      "metadata": {
        "colab": {
          "base_uri": "https://localhost:8080/"
        },
        "id": "5KpCfyro02zU",
        "outputId": "1ebed790-c3e6-4161-89cb-ba6c17d4665b"
      },
      "source": [
        "print('Confusion Matrix 1: \\n', ConMat1)"
      ],
      "execution_count": null,
      "outputs": [
        {
          "output_type": "stream",
          "text": [
            "Confusion Matrix 1: \n",
            " [[119.   0.  18.]\n",
            " [  0.   0.   0.]\n",
            " [ 13.   0. 100.]]\n"
          ],
          "name": "stdout"
        }
      ]
    },
    {
      "cell_type": "code",
      "metadata": {
        "id": "S2AC5GaL24O_"
      },
      "source": [
        ""
      ],
      "execution_count": null,
      "outputs": []
    },
    {
      "cell_type": "code",
      "metadata": {
        "id": "y7dBjIGSxX7w"
      },
      "source": [
        "# SECTION: SOFT MARGIN SVM IMPLEMENTATION USING INBUILT FUNCTION"
      ],
      "execution_count": null,
      "outputs": []
    },
    {
      "cell_type": "code",
      "metadata": {
        "colab": {
          "base_uri": "https://localhost:8080/"
        },
        "id": "GJ3mZiiEwtkB",
        "outputId": "b436bfb8-cfbc-43dc-b072-8d0bfc60dd16"
      },
      "source": [
        "clf1 = SVC(C=0.0001, kernel='linear')\r\n",
        "clf1.fit(x_train, y_train.ravel())"
      ],
      "execution_count": null,
      "outputs": [
        {
          "output_type": "execute_result",
          "data": {
            "text/plain": [
              "SVC(C=0.0001, break_ties=False, cache_size=200, class_weight=None, coef0=0.0,\n",
              "    decision_function_shape='ovr', degree=3, gamma='scale', kernel='linear',\n",
              "    max_iter=-1, probability=False, random_state=None, shrinking=True,\n",
              "    tol=0.001, verbose=False)"
            ]
          },
          "metadata": {
            "tags": []
          },
          "execution_count": 23
        }
      ]
    },
    {
      "cell_type": "code",
      "metadata": {
        "colab": {
          "base_uri": "https://localhost:8080/"
        },
        "id": "z-XJy0O-xizH",
        "outputId": "c643665c-a252-4cab-8740-ddb9942c4cc7"
      },
      "source": [
        "clf2 = SVC(C=0.0005, kernel='linear')\r\n",
        "clf2.fit(x_train, y_train.ravel())"
      ],
      "execution_count": null,
      "outputs": [
        {
          "output_type": "execute_result",
          "data": {
            "text/plain": [
              "SVC(C=0.0005, break_ties=False, cache_size=200, class_weight=None, coef0=0.0,\n",
              "    decision_function_shape='ovr', degree=3, gamma='scale', kernel='linear',\n",
              "    max_iter=-1, probability=False, random_state=None, shrinking=True,\n",
              "    tol=0.001, verbose=False)"
            ]
          },
          "metadata": {
            "tags": []
          },
          "execution_count": 24
        }
      ]
    },
    {
      "cell_type": "code",
      "metadata": {
        "colab": {
          "base_uri": "https://localhost:8080/"
        },
        "id": "L6NLEn_PxYor",
        "outputId": "645079bb-dbfb-48e1-b071-7a4b7f127e23"
      },
      "source": [
        "clf3 = SVC(C=0.001, kernel='linear')\r\n",
        "clf3.fit(x_train, y_train.ravel())"
      ],
      "execution_count": null,
      "outputs": [
        {
          "output_type": "execute_result",
          "data": {
            "text/plain": [
              "SVC(C=0.001, break_ties=False, cache_size=200, class_weight=None, coef0=0.0,\n",
              "    decision_function_shape='ovr', degree=3, gamma='scale', kernel='linear',\n",
              "    max_iter=-1, probability=False, random_state=None, shrinking=True,\n",
              "    tol=0.001, verbose=False)"
            ]
          },
          "metadata": {
            "tags": []
          },
          "execution_count": 25
        }
      ]
    },
    {
      "cell_type": "code",
      "metadata": {
        "colab": {
          "base_uri": "https://localhost:8080/"
        },
        "id": "uCQTdtnIxqDC",
        "outputId": "71ac7d86-775f-40ad-da5f-50f094a9f5f3"
      },
      "source": [
        "clf4 = SVC(C=0.005, kernel='linear')\r\n",
        "clf4.fit(x_train, y_train.ravel())"
      ],
      "execution_count": null,
      "outputs": [
        {
          "output_type": "execute_result",
          "data": {
            "text/plain": [
              "SVC(C=0.005, break_ties=False, cache_size=200, class_weight=None, coef0=0.0,\n",
              "    decision_function_shape='ovr', degree=3, gamma='scale', kernel='linear',\n",
              "    max_iter=-1, probability=False, random_state=None, shrinking=True,\n",
              "    tol=0.001, verbose=False)"
            ]
          },
          "metadata": {
            "tags": []
          },
          "execution_count": 26
        }
      ]
    },
    {
      "cell_type": "code",
      "metadata": {
        "colab": {
          "base_uri": "https://localhost:8080/"
        },
        "id": "Cv_5g5fxxZ1x",
        "outputId": "f5d84984-d68a-409b-f20b-92c521fa9739"
      },
      "source": [
        "clf5 = SVC(C=0.01, kernel='linear')\r\n",
        "clf5.fit(x_train, y_train.ravel())"
      ],
      "execution_count": null,
      "outputs": [
        {
          "output_type": "execute_result",
          "data": {
            "text/plain": [
              "SVC(C=0.01, break_ties=False, cache_size=200, class_weight=None, coef0=0.0,\n",
              "    decision_function_shape='ovr', degree=3, gamma='scale', kernel='linear',\n",
              "    max_iter=-1, probability=False, random_state=None, shrinking=True,\n",
              "    tol=0.001, verbose=False)"
            ]
          },
          "metadata": {
            "tags": []
          },
          "execution_count": 27
        }
      ]
    },
    {
      "cell_type": "code",
      "metadata": {
        "colab": {
          "base_uri": "https://localhost:8080/"
        },
        "id": "LM3OW8rAx-Ta",
        "outputId": "ac5d6a94-0957-4f94-d42a-aa72f75fea26"
      },
      "source": [
        "clf6 = SVC(C=0.05, kernel='linear')\r\n",
        "clf6.fit(x_train, y_train.ravel())"
      ],
      "execution_count": null,
      "outputs": [
        {
          "output_type": "execute_result",
          "data": {
            "text/plain": [
              "SVC(C=0.05, break_ties=False, cache_size=200, class_weight=None, coef0=0.0,\n",
              "    decision_function_shape='ovr', degree=3, gamma='scale', kernel='linear',\n",
              "    max_iter=-1, probability=False, random_state=None, shrinking=True,\n",
              "    tol=0.001, verbose=False)"
            ]
          },
          "metadata": {
            "tags": []
          },
          "execution_count": 28
        }
      ]
    },
    {
      "cell_type": "code",
      "metadata": {
        "colab": {
          "base_uri": "https://localhost:8080/"
        },
        "id": "p6rJbbSWxdgK",
        "outputId": "2f10f659-c991-4140-c62f-8b395bd07a14"
      },
      "source": [
        "clf7 = SVC(C=0.1, kernel='linear')\r\n",
        "clf7.fit(x_train, y_train.ravel())"
      ],
      "execution_count": null,
      "outputs": [
        {
          "output_type": "execute_result",
          "data": {
            "text/plain": [
              "SVC(C=0.1, break_ties=False, cache_size=200, class_weight=None, coef0=0.0,\n",
              "    decision_function_shape='ovr', degree=3, gamma='scale', kernel='linear',\n",
              "    max_iter=-1, probability=False, random_state=None, shrinking=True,\n",
              "    tol=0.001, verbose=False)"
            ]
          },
          "metadata": {
            "tags": []
          },
          "execution_count": 29
        }
      ]
    },
    {
      "cell_type": "code",
      "metadata": {
        "colab": {
          "base_uri": "https://localhost:8080/"
        },
        "id": "SbJlaWGXyG3P",
        "outputId": "77f7c00e-4a88-41a1-f27c-eabbf665f64a"
      },
      "source": [
        "clf8 = SVC(C=0.5, kernel='linear')\r\n",
        "clf8.fit(x_train, y_train.ravel())"
      ],
      "execution_count": null,
      "outputs": [
        {
          "output_type": "execute_result",
          "data": {
            "text/plain": [
              "SVC(C=0.5, break_ties=False, cache_size=200, class_weight=None, coef0=0.0,\n",
              "    decision_function_shape='ovr', degree=3, gamma='scale', kernel='linear',\n",
              "    max_iter=-1, probability=False, random_state=None, shrinking=True,\n",
              "    tol=0.001, verbose=False)"
            ]
          },
          "metadata": {
            "tags": []
          },
          "execution_count": 30
        }
      ]
    },
    {
      "cell_type": "code",
      "metadata": {
        "colab": {
          "base_uri": "https://localhost:8080/"
        },
        "id": "cRj4Xdxfxddf",
        "outputId": "cd707494-d31e-4f3b-b4e2-9ad3f1660a8f"
      },
      "source": [
        "clf9 = SVC(C=1, kernel='linear')\r\n",
        "clf9.fit(x_train, y_train.ravel())"
      ],
      "execution_count": null,
      "outputs": [
        {
          "output_type": "execute_result",
          "data": {
            "text/plain": [
              "SVC(C=1, break_ties=False, cache_size=200, class_weight=None, coef0=0.0,\n",
              "    decision_function_shape='ovr', degree=3, gamma='scale', kernel='linear',\n",
              "    max_iter=-1, probability=False, random_state=None, shrinking=True,\n",
              "    tol=0.001, verbose=False)"
            ]
          },
          "metadata": {
            "tags": []
          },
          "execution_count": 31
        }
      ]
    },
    {
      "cell_type": "code",
      "metadata": {
        "colab": {
          "base_uri": "https://localhost:8080/"
        },
        "id": "lOQ7h00nxYX5",
        "outputId": "6532cec5-fc9a-457f-c76f-450bba38776e"
      },
      "source": [
        "print('with C = 0.0001: ', clf1.score(x_test, y_test))\r\n",
        "print('with C = 0.0005: ', clf2.score(x_test, y_test))\r\n",
        "print('with C = 0.001:  ', clf3.score(x_test, y_test))\r\n",
        "print('with C = 0.005:  ', clf4.score(x_test, y_test))\r\n",
        "print('with C = 0.01:   ', clf5.score(x_test, y_test))\r\n",
        "print('with C = 0.05:   ', clf6.score(x_test, y_test))\r\n",
        "print('with C = 0.1:    ', clf7.score(x_test, y_test))\r\n",
        "print('with C = 0.5:    ', clf8.score(x_test, y_test))\r\n",
        "print('with C = 1:      ', clf9.score(x_test, y_test))"
      ],
      "execution_count": null,
      "outputs": [
        {
          "output_type": "stream",
          "text": [
            "with C = 0.0001:  0.472\n",
            "with C = 0.0005:  0.472\n",
            "with C = 0.001:   0.772\n",
            "with C = 0.005:   0.84\n",
            "with C = 0.01:    0.848\n",
            "with C = 0.05:    0.876\n",
            "with C = 0.1:     0.876\n",
            "with C = 0.5:     0.876\n",
            "with C = 1:       0.876\n"
          ],
          "name": "stdout"
        }
      ]
    },
    {
      "cell_type": "code",
      "metadata": {
        "colab": {
          "base_uri": "https://localhost:8080/"
        },
        "id": "zqR9GBkM3gmx",
        "outputId": "e9831919-3353-4e0c-9ada-f38b64f5c125"
      },
      "source": [
        "clf7.support_vectors_.shape"
      ],
      "execution_count": null,
      "outputs": [
        {
          "output_type": "execute_result",
          "data": {
            "text/plain": [
              "(286, 2)"
            ]
          },
          "metadata": {
            "tags": []
          },
          "execution_count": 33
        }
      ]
    },
    {
      "cell_type": "code",
      "metadata": {
        "colab": {
          "base_uri": "https://localhost:8080/"
        },
        "id": "5R9FjFvT3n_a",
        "outputId": "33e73b21-7470-4090-b4ee-071068f6e58f"
      },
      "source": [
        "clf7.intercept_"
      ],
      "execution_count": null,
      "outputs": [
        {
          "output_type": "execute_result",
          "data": {
            "text/plain": [
              "array([0.22235892])"
            ]
          },
          "metadata": {
            "tags": []
          },
          "execution_count": 34
        }
      ]
    },
    {
      "cell_type": "code",
      "metadata": {
        "id": "AucPDwdNyz1W"
      },
      "source": [
        "y_pred_final = clf7.predict(x_test)"
      ],
      "execution_count": null,
      "outputs": []
    },
    {
      "cell_type": "code",
      "metadata": {
        "id": "9pcGjTT5bSnt"
      },
      "source": [
        "ConMat2 = np.zeros((3,3))"
      ],
      "execution_count": null,
      "outputs": []
    },
    {
      "cell_type": "code",
      "metadata": {
        "id": "MRzkE_97kReS"
      },
      "source": [
        "for i in range(y_pred_final.shape[0]):\n",
        "  ConMat2[int(y_pred_final[i])+1, int(y_test[i])+1] += 1"
      ],
      "execution_count": null,
      "outputs": []
    },
    {
      "cell_type": "code",
      "metadata": {
        "id": "zq74mZmrkRlu",
        "colab": {
          "base_uri": "https://localhost:8080/"
        },
        "outputId": "5809b975-fce8-43a5-ef54-e0e1977ae1fb"
      },
      "source": [
        "print('Confusion Matrix 2: \\n', ConMat2)"
      ],
      "execution_count": null,
      "outputs": [
        {
          "output_type": "stream",
          "text": [
            "Confusion Matrix 2: \n",
            " [[119.   0.  18.]\n",
            " [  0.   0.   0.]\n",
            " [ 13.   0. 100.]]\n"
          ],
          "name": "stdout"
        }
      ]
    },
    {
      "cell_type": "code",
      "metadata": {
        "id": "QOnk5_3p21Mo"
      },
      "source": [
        ""
      ],
      "execution_count": null,
      "outputs": []
    },
    {
      "cell_type": "code",
      "metadata": {
        "id": "ITu7FQr5wttM"
      },
      "source": [
        "# SECTION: PENALISE THE FALSE POSITIVE, k > 0"
      ],
      "execution_count": null,
      "outputs": []
    },
    {
      "cell_type": "code",
      "metadata": {
        "id": "17xvwiBsdetu",
        "colab": {
          "base_uri": "https://localhost:8080/"
        },
        "outputId": "4da4c5c3-13e1-412d-aafa-9291e36e7469"
      },
      "source": [
        "for k_val in [2, 4, 8, 16]:\n",
        "  clf = SVC(C = 0.1, kernel = 'linear', class_weight = {1:k_val})\n",
        "  clf.fit(x_train, y_train.ravel())\n",
        "  print('\\n')\n",
        "  print('Modified SVMs, k=' + str(k_val) + ', on train data:', clf.score(x_train, y_train))\n",
        "  print('Modified SVMs, k=' + str(k_val) + ', on test data:', clf.score(x_test, y_test))"
      ],
      "execution_count": null,
      "outputs": [
        {
          "output_type": "stream",
          "text": [
            "\n",
            "\n",
            "Modified SVMs, k=2, on train data: 0.868\n",
            "Modified SVMs, k=2, on test data: 0.86\n",
            "\n",
            "\n",
            "Modified SVMs, k=4, on train data: 0.828\n",
            "Modified SVMs, k=4, on test data: 0.844\n",
            "\n",
            "\n",
            "Modified SVMs, k=8, on train data: 0.7786666666666666\n",
            "Modified SVMs, k=8, on test data: 0.788\n",
            "\n",
            "\n",
            "Modified SVMs, k=16, on train data: 0.68\n",
            "Modified SVMs, k=16, on test data: 0.704\n"
          ],
          "name": "stdout"
        }
      ]
    },
    {
      "cell_type": "code",
      "metadata": {
        "id": "qZlUi9oP22Vx"
      },
      "source": [
        ""
      ],
      "execution_count": null,
      "outputs": []
    },
    {
      "cell_type": "code",
      "metadata": {
        "id": "i5BhpHGPdepL"
      },
      "source": [
        "# SECTION: PLOTTING THE DECISION BOUNDARIES AND SUPPORT VECTORS"
      ],
      "execution_count": null,
      "outputs": []
    },
    {
      "cell_type": "code",
      "metadata": {
        "id": "wiI-GTLtdegx"
      },
      "source": [
        "X1 = np.linspace(-1.75, 2.75, 200)\r\n",
        "X2 = np.linspace(-1.25, 1.75, 200)\r\n",
        "X1, X2 = np.meshgrid(X1, X2)"
      ],
      "execution_count": null,
      "outputs": []
    },
    {
      "cell_type": "code",
      "metadata": {
        "id": "UwRH9P1PdeJF"
      },
      "source": [
        "DecFunc = clf7.decision_function(np.c_[X1.ravel(), X2.ravel()])\r\n",
        "DecFunc = DecFunc.reshape(X1.shape)"
      ],
      "execution_count": null,
      "outputs": []
    },
    {
      "cell_type": "code",
      "metadata": {
        "id": "7l6b1_tdj7h5",
        "colab": {
          "base_uri": "https://localhost:8080/",
          "height": 411
        },
        "outputId": "5cedb821-e5a5-4bbd-d6e3-124bb9ebfb3a"
      },
      "source": [
        "plt.figure(1, figsize = [8, 6])\r\n",
        "plt.contourf(X1, X2, DecFunc > 0)\r\n",
        "plt.contour(X1, X2, DecFunc, levels = [-1, 0, 1], colors = 'k')\r\n",
        "scatter_0 = plt.scatter(data_0[:, 0], data_0[:, 1], color = 'red', label = 'Class label -1')\r\n",
        "scatter_1 = plt.scatter(data_1[:, 0], data_1[:, 1], color = 'blue', label = 'Class label 1')\r\n",
        "scatter_2 = plt.scatter(clf7.support_vectors_[:, 0], clf7.support_vectors_[:, 1], color = 'green', marker = 'o', label = 'Support Vectors')\r\n",
        "plt.xlabel('Input Feature X1', fontweight='bold', fontsize=16)\r\n",
        "plt.ylabel('Input Feature X2', fontweight='bold', fontsize=16)\r\n",
        "plt.legend(handles = [scatter_0, scatter_1, scatter_2], loc = 'lower left')\r\n",
        "plt.title('Decision Boundary and Support Vectors, (Dataset 2)', fontweight='bold', fontsize=16)\r\n",
        "plt.savefig(\"PartB_SVM.png\")\r\n",
        "files.download(\"PartB_SVM.png\")\r\n",
        "# plt.annotate('Support Vector', xy = (clf.support_vectors_[2,0], clf.support_vectors_[2, 1]), xytext = (3, 1.5), arrowprops = dict(facecolor = 'black', shrink = 0.05))"
      ],
      "execution_count": null,
      "outputs": [
        {
          "output_type": "display_data",
          "data": {
            "application/javascript": [
              "\n",
              "    async function download(id, filename, size) {\n",
              "      if (!google.colab.kernel.accessAllowed) {\n",
              "        return;\n",
              "      }\n",
              "      const div = document.createElement('div');\n",
              "      const label = document.createElement('label');\n",
              "      label.textContent = `Downloading \"${filename}\": `;\n",
              "      div.appendChild(label);\n",
              "      const progress = document.createElement('progress');\n",
              "      progress.max = size;\n",
              "      div.appendChild(progress);\n",
              "      document.body.appendChild(div);\n",
              "\n",
              "      const buffers = [];\n",
              "      let downloaded = 0;\n",
              "\n",
              "      const channel = await google.colab.kernel.comms.open(id);\n",
              "      // Send a message to notify the kernel that we're ready.\n",
              "      channel.send({})\n",
              "\n",
              "      for await (const message of channel.messages) {\n",
              "        // Send a message to notify the kernel that we're ready.\n",
              "        channel.send({})\n",
              "        if (message.buffers) {\n",
              "          for (const buffer of message.buffers) {\n",
              "            buffers.push(buffer);\n",
              "            downloaded += buffer.byteLength;\n",
              "            progress.value = downloaded;\n",
              "          }\n",
              "        }\n",
              "      }\n",
              "      const blob = new Blob(buffers, {type: 'application/binary'});\n",
              "      const a = document.createElement('a');\n",
              "      a.href = window.URL.createObjectURL(blob);\n",
              "      a.download = filename;\n",
              "      div.appendChild(a);\n",
              "      a.click();\n",
              "      div.remove();\n",
              "    }\n",
              "  "
            ],
            "text/plain": [
              "<IPython.core.display.Javascript object>"
            ]
          },
          "metadata": {
            "tags": []
          }
        },
        {
          "output_type": "display_data",
          "data": {
            "application/javascript": [
              "download(\"download_70582d16-fbee-4430-999c-ef57bf325814\", \"PartB_SVM.png\", 66200)"
            ],
            "text/plain": [
              "<IPython.core.display.Javascript object>"
            ]
          },
          "metadata": {
            "tags": []
          }
        },
        {
          "output_type": "display_data",
          "data": {
            "image/png": "[encoded data removed]",
            "text/plain": [
              "<Figure size 576x432 with 1 Axes>"
            ]
          },
          "metadata": {
            "tags": [],
            "needs_background": "light"
          }
        }
      ]
    },
    {
      "cell_type": "code",
      "metadata": {
        "id": "AzhEo74VopF3"
      },
      "source": [
        ""
      ],
      "execution_count": null,
      "outputs": []
    }
  ]
}